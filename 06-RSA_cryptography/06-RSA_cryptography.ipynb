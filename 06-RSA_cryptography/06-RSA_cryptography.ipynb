{
 "cells": [
  {
   "cell_type": "markdown",
   "metadata": {
    "collapsed": false,
    "jupyter": {
     "outputs_hidden": false
    }
   },
   "source": [
    "# RSA cryptography\n",
    "\n"
   ]
  },
  {
   "cell_type": "markdown",
   "metadata": {
    "collapsed": false,
    "jupyter": {
     "outputs_hidden": false
    }
   },
   "source": [
    "## Your name goes here. \\(Double\\-click on this cell to edit it.\\)\n",
    "\n",
    "Remember to hit Ctrl-Enter after editing any cell."
   ]
  },
  {
   "cell_type": "markdown",
   "metadata": {
    "collapsed": false,
    "jupyter": {
     "outputs_hidden": false
    }
   },
   "source": [
    "## Commands in python introduced in this module\n",
    "\n",
    "---\n",
    "\n",
    "> none\n",
    "\n",
    "---\n",
    "\n",
    "### Recall commands/functions written for these modules\n",
    "\n",
    "---\n",
    "\n",
    "- convert\\_letter\\_to\\_number\\(\"a letter goes here\"\\), \n",
    "- convert\\_number\\_to\\_letter\\(a number goes here\\), \n",
    "- affine\\_encrypt\\_letter\\(\"a plaintext letter goes here\", key=a key goes here, m=a multiplier goes here\\), \n",
    "- affine\\_encrypt\\(\"a plaintext message goes here\", key=a key goes here, m=a multiplier goes here\\), \n",
    "- affine\\_decrypt\\(\"a ciphertext goes here\", key=a key goes here, m=a multiplier goes here\\)\n",
    "- phi\\(n\\)\\-\\-outputs the Euler phi value of $n$.  \n",
    "\n",
    "---\n",
    "\n"
   ]
  },
  {
   "cell_type": "markdown",
   "metadata": {
    "collapsed": false,
    "jupyter": {
     "outputs_hidden": false
    }
   },
   "source": [
    "## Math topics used in this module\n",
    "\n",
    "- Finding inverses mod n \\(AKA, using the Euclidean Algorithm\\)\n",
    "- Euler Phi function \\(pg 75 of our course pack\\) \\(Pronounced Oil\\-er\\)\n",
    "- Fermat's Little Theorem\\-\\-more generally Euler's Theorem \\(pg 80 of our course pack\\)\n",
    "\n"
   ]
  },
  {
   "cell_type": "markdown",
   "metadata": {
    "collapsed": false,
    "jupyter": {
     "outputs_hidden": false
    }
   },
   "source": [
    "## Objectives\n",
    "\n",
    "In this activity we will use Python to explore RSA cryptography.\n"
   ]
  },
  {
   "cell_type": "markdown",
   "metadata": {
    "collapsed": false,
    "jupyter": {
     "outputs_hidden": false
    }
   },
   "source": [
    "## Preliminaries\n",
    "Before working on the questions below, be sure to click in the code cell below and use Ctrl-Enter to run it."
   ]
  },
  {
   "cell_type": "code",
   "execution_count": 6,
   "metadata": {
    "collapsed": false,
    "jupyter": {
     "outputs_hidden": false
    }
   },
   "outputs": [],
   "source": [
    "##### Import libraries #####\n",
    "\n",
    "\n",
    "import math\n",
    "\n",
    "\n",
    "\n",
    "##### Helper functions #####\n",
    "\n",
    "\n",
    "### convert_letter_to_number(letter)\n",
    "### Converts a lowercase number to its value between 0 and 25\n",
    "### letter: string (a single lowercase letter)\n",
    "\n",
    "def convert_letter_to_number(letter):\n",
    "    # Define constant that will allow us to move the letter codes by 97\n",
    "    MOVE_NUMBER = 86\n",
    "    letter=letter.lower()\n",
    "    # Convert input to ASCII (97 to 122)\n",
    "    number_ascii = ord(letter)\n",
    "    # Move number to lie in the range 11 to 36\n",
    "    number = number_ascii - MOVE_NUMBER\n",
    "    return str(number)\n",
    "\n",
    "\n",
    "### convert_number_to_letter(number)\n",
    "### Converts a number between 0 and 25 to its corresponding letter\n",
    "### number: integer (should be between 0 and 25)\n",
    "\n",
    "def convert_number_to_letter(number):\n",
    "    # Define constant that will allow us to move the letter codes by 97\n",
    "    MOVE_NUMBER = 86\n",
    "    # Move number to lie in the ASCII range 97 to 122\n",
    "    number_ascii = number + MOVE_NUMBER\n",
    "    # Convert number to letter\n",
    "    letter = chr(number_ascii)\n",
    "    return letter\n",
    "\n",
    "\n",
    "### affine_encrypt_letter(plaintext_letter, key, m)\n",
    "### Applies affine encrytpion to a plaintext letter p to produce ciphertext letter\n",
    "###     c = m*p + k mod 26\n",
    "### plaintext_letter: string (can be any character, but should be only a single character)\n",
    "### key: integer (between 1 and 25)\n",
    "### m: integer (relatively prime to 26)\n",
    "\n",
    "def affine_encrypt_letter(plaintext_letter, key, m = 1):\n",
    "    # Replace uppercase with lowercase\n",
    "    plaintext_letter = plaintext_letter.lower()\n",
    "    # Check if plaintext_letter is a lowercase letter\n",
    "    if ord(plaintext_letter) >= 97 and ord(plaintext_letter) <= 122:\n",
    "        plaintext_number = convert_letter_to_number(plaintext_letter)\n",
    "        ciphertext_number = (m* plaintext_number + key) % 26\n",
    "        ciphertext_letter = convert_number_to_letter(ciphertext_number)\n",
    "        return ciphertext_letter.upper()\n",
    "    else:\n",
    "        # If we get to this spot, we know we don't have a letter at all,\n",
    "        # so just return the character as is\n",
    "        return plaintext_letter\n",
    "\n",
    "\n",
    "\n",
    "##### Affine encryption/decryption functions #####\n",
    "\n",
    "\n",
    "### affine_encrypt(plaintext, key, m = 1)\n",
    "### Encrypts ciphertext using c = m*p + k mod 26.\n",
    "### plaintext: string\n",
    "### key: integer (the value of k in the linear congruence above, from 1 to 25)\n",
    "### m: integer (default value 1 results in shift encryption--should be relatively prime to 26)\n",
    "\n",
    "def affine_encrypt(plaintext, key, m = 1):\n",
    "    # Stop if m is not chosen appropriately\n",
    "    if math.gcd(m, 26) != 1:\n",
    "        print(\"The value of m must be relatively prime to 26!\")\n",
    "    else:\n",
    "        ciphertext = \"\"\n",
    "        for letter in plaintext:\n",
    "            ciphertext_letter = affine_encrypt_letter(letter, key, m)\n",
    "            ciphertext = ciphertext + ciphertext_letter\n",
    "        return ciphertext\n",
    "\n",
    "\n",
    "### affine_decrypt(ciphertext, key, m = 1)\n",
    "### Decrypts ciphertext encrypted using c = m*p + k mod 26.\n",
    "### ciphertext: string\n",
    "### key: integer (the value of k in the linear congruence above, from 1 to 25)\n",
    "### m: integer (default value 1 results in shift decryption--should be relatively prime to 26)\n",
    "\n",
    "def affine_decrypt(ciphertext, key, m = 1):\n",
    "    # Stop if m is not chosen appropriately\n",
    "    if math.gcd(m, 26) != 1:\n",
    "        print(\"The value of m must be relatively prime to 26!\")\n",
    "    else:\n",
    "        m_inv = pow(m, -1, mod = 26)\n",
    "        plaintext = affine_encrypt(ciphertext, -m_inv*key, m_inv)\n",
    "        return plaintext.lower()\n",
    "\n",
    "    \n",
    "#### Here are some Functions that will be helpful for encrypting with RSA.\n",
    "\n",
    "## Euler phi function.\n",
    "    \n",
    "def phi(n): #We're creating a new function, we'll call if phi. It takes in a number n.\n",
    "    counter = 0        #Here is our counter. We'll start it at 0 because we haven't added anything to it.\n",
    "    for k in range(1, n): #here is where n plays a role. We're doing a for loop to check every number from 1 to n-1. \n",
    "        if math.gcd(n, k) == 1:\n",
    "            counter += 1 #We count only the values k that are relatively prime to n. This increases our counter by 1.\n",
    "    return counter   "
   ]
  },
  {
   "cell_type": "markdown",
   "metadata": {
    "collapsed": false,
    "jupyter": {
     "outputs_hidden": false
    }
   },
   "source": [
    "## A bit of history\n",
    "\n",
    "RSA is named for its creators, Ron Rivest, Adi Shamir, and Leonard Adleman who were building on the work of Diffie, Hellman, and Merkle. They began thinking about what functions did they know that were \"one\\-way.\" That is they were looking for a mathematical function that was easy to do, but hard to undo. For a non example, shifting is easy to do. We just take a number and add 5 to it. BUT it is also easy to undo. We just take our new number and subtract 5 from it. So shifting is not an example of a one way function. They began to build on what Diffie and Hellman had noticed. Numbers are really easy to multiply in the grand scheme of things. But as you all know from experience, it is very hard to find their factors. \n",
    "\n",
    "Fun fact! While Rivest, Shamir, Adleman, Diffie, Helman and Merkle were working on their public key cryptography ideas at Universities, the same ideas were being explored in governments in secret starting even before them in the 1960s. James Ellis first showed the existence of public key style cryptographies was possible. Then Clifford Cocks then built on Ellis' \"whacky idea\" and created what we now know as RSA asymmetric cipher in 1973 \\(four years before Rivest, Shamir and Adleman\\). His friend Malcolm Williamson then tried to disprove Cocks theory and failed to do so but in the process developed D\\-H key exchange. It's interesting to see that timeline wise the ideas came out in opposite orders! Of course, they don't receive recognition for their groundbreaking work because this information was classifies until December 1997. As is always the case with the history of cryptography, government, and secrecy Ellis did not live long enough to see the world acknowledge his contributions. \n",
    "\n"
   ]
  },
  {
   "cell_type": "markdown",
   "metadata": {
    "collapsed": false,
    "jupyter": {
     "outputs_hidden": false
    }
   },
   "source": [
    "## Where is it used?\n",
    "\n",
    "Everywhere! RSA is used to help encrypt loads of data. RSA hinges on a [trusted authority](https://www.idmanagement.gov/university/fpki/) that will assign public and private keys to all parties. \n",
    "\n"
   ]
  },
  {
   "cell_type": "markdown",
   "metadata": {
    "collapsed": false,
    "jupyter": {
     "outputs_hidden": false
    }
   },
   "source": [
    "---\n",
    "\n"
   ]
  },
  {
   "cell_type": "markdown",
   "metadata": {
    "collapsed": false,
    "jupyter": {
     "outputs_hidden": false
    }
   },
   "source": [
    "## The math components needed for RSA:\n",
    "\n",
    "### The Euler phi function\n",
    "\n",
    "The _Euler phi function_ of $n$ is denoted with $\\varphi$ and we compute $\\varphi(n)$. The Euler phi function is defined to be the number of elements smaller than $n$ that are relatively prime to $n.$ For example, the prime number 17 has 16 numbers less than 17 that are all relatively prime to 17. That is because no number smaller than a prime number can share any common factors besides 1. Meanwhile, $\\varphi(12)=4$ because only 1,5,7,11 do not share common factors with 12. By the way, the list is not always just the prime numbers, 12 is just fancy like that. \n",
    "\n"
   ]
  },
  {
   "cell_type": "markdown",
   "metadata": {
    "collapsed": false,
    "jupyter": {
     "outputs_hidden": false
    }
   },
   "source": [
    "### Question 1\n",
    "\n"
   ]
  },
  {
   "cell_type": "markdown",
   "metadata": {
    "collapsed": false,
    "jupyter": {
     "outputs_hidden": false
    }
   },
   "source": [
    "Suppose Alicia has chosen the primes $p=5$ and $q=3$. What is $\\varphi(pq)?$ What is $pq$? \n",
    "\n",
    "Try a few more combinations of really small primes \\(like $p=2$ and $q=3$\\). Do you notice any patterns?\n",
    "\n"
   ]
  },
  {
   "cell_type": "markdown",
   "metadata": {
    "collapsed": false,
    "jupyter": {
     "outputs_hidden": false
    }
   },
   "source": [
    "<span style='color:#9c27b0'>_Please write up your answer here._</span>\n",
    "\n"
   ]
  },
  {
   "cell_type": "markdown",
   "metadata": {
    "collapsed": false,
    "jupyter": {
     "outputs_hidden": false
    }
   },
   "source": [
    "If you computed enough examples, perhaps you noticed if $\\varphi(n)=\\varphi(p*q)$ where $p$ and $q$ are prime numbers has a nice pattern! If we know the that the prime factorization of $n=p*q$ then $\\varphi(n)=\\varphi(p*q)=(p-1)(q-1)$. This is how we can compute the Euler phi function without a computer. \n",
    "\n",
    "So the Euler phi function is just going through each number smaller than $n$ and checking what the gcd is. If the gcd is $1$ then we add it to a counter. That sounds like an algorithm, so this is something we can do with python! \n",
    "\n"
   ]
  },
  {
   "cell_type": "code",
   "execution_count": 4,
   "metadata": {
    "collapsed": false,
    "jupyter": {
     "outputs_hidden": false
    }
   },
   "outputs": [],
   "source": [
    "### Here are some commands for Euler phi function which we may need. \n",
    "\n",
    "from math import gcd ##Need the gcd function again from the math library.\n",
    "\n",
    "def phi(n): #We're creating a new function, we'll call if phi. It takes in a number n.\n",
    "    counter = 0        #Here is our counter. We'll start it at 0 because we haven't added anything to it.\n",
    "    for k in range(1, n): #here is where ne plays a role. We'redoing a for loop to check every number from 1 to n-1. \n",
    "        if gcd(n, k) == 1:\n",
    "            counter += 1 #We count only the values k that are relatively prime to n. This increases our counter by 1.\n",
    "    return counter    "
   ]
  },
  {
   "cell_type": "code",
   "execution_count": 5,
   "metadata": {
    "collapsed": false,
    "jupyter": {
     "outputs_hidden": false
    }
   },
   "outputs": [
    {
     "data": {
      "text/plain": [
       "2"
      ]
     },
     "execution_count": 5,
     "metadata": {},
     "output_type": "execute_result"
    }
   ],
   "source": [
    "phi(6)"
   ]
  },
  {
   "cell_type": "markdown",
   "metadata": {
    "collapsed": false,
    "jupyter": {
     "outputs_hidden": false
    }
   },
   "source": [
    "### Question 2\n",
    "\n"
   ]
  },
  {
   "cell_type": "markdown",
   "metadata": {
    "collapsed": false,
    "jupyter": {
     "outputs_hidden": false
    }
   },
   "source": [
    "Add some code below to test our hypothesis from Question 1. Now try much bigger prime numbers and see if it still works. Does the pattern still hold?\n"
   ]
  },
  {
   "cell_type": "code",
   "execution_count": 6,
   "metadata": {
    "collapsed": false,
    "jupyter": {
     "outputs_hidden": false
    }
   },
   "outputs": [
    {
     "data": {
      "text/plain": [
       "22164"
      ]
     },
     "execution_count": 6,
     "metadata": {},
     "output_type": "execute_result"
    }
   ],
   "source": [
    "## Add your different tests here. \n",
    "phi(44332)"
   ]
  },
  {
   "cell_type": "markdown",
   "metadata": {
    "collapsed": false,
    "jupyter": {
     "outputs_hidden": false
    }
   },
   "source": [
    "<span style='color:#9c27b0'>_Please write up your answer here._</span>\n",
    "\n"
   ]
  },
  {
   "cell_type": "markdown",
   "metadata": {
    "collapsed": false,
    "jupyter": {
     "outputs_hidden": false
    }
   },
   "source": [
    "### Finding an inverse mod$\\varphi(n)$\n",
    "\n",
    "We have studied that not every element mod $n$ has an inverse. We know that an element $e$ must be relatively prime to $n$. This rule does not change if we work modulo $\\varphi(n)$. We practiced in class using the Extended Euclidean algorithm to find inverses of $e\\mod(\\varphi(n))$ . We don't really want to do the Extended Euclidean Algorithm by hand, so we'll use python. \\(Sage has the command xgcd, but we're using python right now, so that command won't work. \n",
    "\n",
    "To create an efficient algorithm, we'll need to rely on a coding technique called \"Recursion\". Let's not worry about what that is today. Essentially since we had to keep looping the same steps and sub in the prior values, recursion describes an efficient way to do that. The code is below. Thank you for Geeks for geeks for helping me make the code. \n"
   ]
  },
  {
   "cell_type": "code",
   "execution_count": 7,
   "metadata": {
    "collapsed": false,
    "jupyter": {
     "outputs_hidden": false
    }
   },
   "outputs": [],
   "source": [
    "# function for extended Euclidean Algorithm \n",
    "def gcdExtended(a, b): \n",
    "    # Base Case \n",
    "    if a == 0 : \n",
    "        return b,0,1\n",
    "             \n",
    "    gcd,x1,y1 = gcdExtended(b%a, a) \n",
    "     \n",
    "    # Update x and y using results of recursive \n",
    "    # call \n",
    "    x = y1 - (b//a) * x1 \n",
    "    y = x1 \n",
    "     \n",
    "    return gcd,x,y \n",
    "     "
   ]
  },
  {
   "cell_type": "code",
   "execution_count": 8,
   "metadata": {
    "collapsed": false,
    "jupyter": {
     "outputs_hidden": false
    }
   },
   "outputs": [
    {
     "data": {
      "text/plain": [
       "(1, 2, -1)"
      ]
     },
     "execution_count": 8,
     "metadata": {},
     "output_type": "execute_result"
    }
   ],
   "source": [
    "gcdExtended(3,5)"
   ]
  },
  {
   "cell_type": "markdown",
   "metadata": {
    "collapsed": false,
    "jupyter": {
     "outputs_hidden": false
    }
   },
   "source": [
    "We can double check here to make sure the command is working. For example is it true that the gcd of 3 and 5 is 1? Yes. Next I check if $3*2+5*(-1)=1$. Yes. Then it seems to work. \n"
   ]
  },
  {
   "cell_type": "markdown",
   "metadata": {
    "collapsed": false,
    "jupyter": {
     "outputs_hidden": false
    }
   },
   "source": [
    "### Question 3\n",
    "\n",
    "As always when we have a new code, test how robust it is. Try a few different values and see if the values match what you computed in your homework. Also, does this take in negative numbers?\n",
    "\n"
   ]
  },
  {
   "cell_type": "code",
   "execution_count": 9,
   "metadata": {
    "collapsed": false,
    "jupyter": {
     "outputs_hidden": false
    }
   },
   "outputs": [],
   "source": [
    "## Add code here for testing"
   ]
  },
  {
   "cell_type": "markdown",
   "metadata": {
    "collapsed": false,
    "jupyter": {
     "outputs_hidden": false
    }
   },
   "source": [
    "<span style='color:#9c27b0'>_Please write up your observations here._</span>\n",
    "\n"
   ]
  },
  {
   "cell_type": "markdown",
   "metadata": {
    "collapsed": false,
    "jupyter": {
     "outputs_hidden": false
    }
   },
   "source": [
    "Notice that we sometimes are given negative x or y values. If we want to determine the inverse of $e\\mod\\varphi(n)$ then we'll need to take the $x$ value \\(this is the number in the second position if you wrote the gcdExtended\\(e,varphi\\)\\) then mod it by $\\varphi(n)$. Try this as well with a few of the values you found above:\n"
   ]
  },
  {
   "cell_type": "code",
   "execution_count": 10,
   "metadata": {
    "collapsed": false,
    "jupyter": {
     "outputs_hidden": false
    }
   },
   "outputs": [],
   "source": [
    "## Add code here for finding inverses modulo n"
   ]
  },
  {
   "cell_type": "markdown",
   "metadata": {},
   "source": [
    "Alternatively, if we want to find the inverse of $e\\mod\\varphi(n)$, we can use the pow function in python."
   ]
  },
  {
   "cell_type": "markdown",
   "metadata": {
    "collapsed": false,
    "jupyter": {
     "outputs_hidden": false
    }
   },
   "source": [
    "### Fermat's Little Theorem and Euler's Theorem\n",
    "\n",
    "### Question 4\n",
    "\n",
    "Try out the following computations: \n",
    "\n",
    "- $3^4\\mod 5$, \n",
    "- $2^6\\mod7$, \n",
    "- $55^{100}\\mod 101$\n",
    "\n",
    "What do you notice?\n",
    "\n"
   ]
  },
  {
   "cell_type": "code",
   "execution_count": 11,
   "metadata": {
    "collapsed": false,
    "jupyter": {
     "outputs_hidden": false
    }
   },
   "outputs": [],
   "source": [
    "## add code here using the python pow command to do those computations. "
   ]
  },
  {
   "cell_type": "markdown",
   "metadata": {
    "collapsed": false,
    "jupyter": {
     "outputs_hidden": false
    }
   },
   "source": [
    "<span style='color:#9c27b0'>_Please write up your observations here._</span>\n"
   ]
  },
  {
   "cell_type": "markdown",
   "metadata": {
    "collapsed": false,
    "jupyter": {
     "outputs_hidden": false
    }
   },
   "source": [
    "Fermat is first credited for noticing that $a^{p-1}\\mod p\\equiv 1$, for all primes p in 1640. The first known proof\\* of this statement is attributed to Euler in 1736 \\(practically 100 years later!\\). In 1763, he published a generalization of the theorem to numbers that are not prime. This later became known as Euler's Theorem:\n",
    "\n",
    "---\n",
    "**Euler's Theorem**\n",
    "\n",
    "If $n$ and $a$ are relatively prime, then $a^{\\varphi(n)}\\equiv 1\\mod n$.\n",
    "\n",
    "---\n",
    "\n",
    "This allows us to simplify really high exponents of numbers modulo n. Euler's Theorem will be key in how to decrypt using RSA. \n",
    "\n",
    "\\*A proof is what mathematicians work on. We create logical arguments for why something must be true. The beauty of a proof is once you've proved something, it's always true no matter what.\n"
   ]
  },
  {
   "cell_type": "markdown",
   "metadata": {
    "collapsed": false,
    "jupyter": {
     "outputs_hidden": false
    }
   },
   "source": [
    "---\n",
    "\n"
   ]
  },
  {
   "cell_type": "markdown",
   "metadata": {
    "collapsed": false,
    "jupyter": {
     "outputs_hidden": false
    }
   },
   "source": [
    "## Putting the math together: Creating Alicia's Private Key and Public Key\n",
    "\n",
    "- Alicia begins by making a private key by selecting two very large primes $p$ and $q$. She first computed $p*q=n$. \n",
    "- Since she knows the primes she can compute \n",
    "  $$\\varphi(n)=\\varphi\n",
    "  (pq)=(p-1)(q-1).$$\n",
    "- Alicia then selects $n>e>1$ where $gcd(e,\\varphi(n))=1$. \n",
    "- She will then find  $d=e^{-1}\\mod{\\varphi(n)}$. Recall, we need to use the Euclidean algorithm to find inverses $\\mod{\\varphi(pq)}$\n",
    "- The public key is then $(e,n)$. Notice that although the product of $n=pq$ is public, the individual primes that made up the number are a secret, and so is $d$. \n",
    "\n"
   ]
  },
  {
   "cell_type": "markdown",
   "metadata": {
    "collapsed": false,
    "jupyter": {
     "outputs_hidden": false
    }
   },
   "source": [
    "### Question 5\n",
    "\n",
    "Alicia has chosen the following information $p=13$, $q=41$, and $e=107$. \n",
    "\n",
    "Find $\\varphi(13*41)$. Doublecheck that Alicia's $e$ is appropriate \\(remember, it must be relatively prime to $\\varphi(n)$ and less than $n$\\). Then compute $e^{-1}$. \n",
    "\n"
   ]
  },
  {
   "cell_type": "code",
   "execution_count": 12,
   "metadata": {
    "collapsed": false,
    "jupyter": {
     "outputs_hidden": false
    }
   },
   "outputs": [],
   "source": [
    "##Add code here to compute varphi\n"
   ]
  },
  {
   "cell_type": "code",
   "execution_count": 13,
   "metadata": {
    "collapsed": false,
    "jupyter": {
     "outputs_hidden": false
    }
   },
   "outputs": [],
   "source": [
    "##Add code here to double check that e is relatively prime to varphi.\n"
   ]
  },
  {
   "cell_type": "code",
   "execution_count": 14,
   "metadata": {
    "collapsed": false,
    "jupyter": {
     "outputs_hidden": false
    }
   },
   "outputs": [],
   "source": [
    "##Add code here to compute e^-1\n"
   ]
  },
  {
   "cell_type": "markdown",
   "metadata": {
    "collapsed": false,
    "jupyter": {
     "outputs_hidden": false
    }
   },
   "source": [
    "---\n",
    "\n"
   ]
  },
  {
   "cell_type": "markdown",
   "metadata": {
    "collapsed": false,
    "jupyter": {
     "outputs_hidden": false
    }
   },
   "source": [
    "## Beto sends Alicia a message\n",
    "\n",
    "\n",
    "For simplicities sake, we'll assume Beto's message is just one letter, $m$. \n",
    "\n",
    "- Now Beto can look at some public directory and get Alicia's public key $(e,pq)$. Eve can also get this. Even you can get this key.\n",
    "\n",
    "- Beto creates his message, then rewrites it into an integer $m$ or blocks of integers $m_1m_2\\cdots m_n$ using ASCII code.\n",
    "\n",
    "- He will compute\n",
    "  $$ c\\equiv m^e\\mod{pq}$$\n",
    "  or for longer messages:\n",
    "\n",
    "  $$\n",
    "  c_1\\equiv m_1^e\\mod{pq}, \\cdots, c_n\\equiv m_n^e\\mod{pq}\n",
    "  $$\n",
    "\n",
    "- Now he broadcasts $c$ publicly to Alicia. Eve can see this $c$ as well and knows $pq$. \n",
    "\n"
   ]
  },
  {
   "cell_type": "markdown",
   "metadata": {
    "collapsed": false,
    "jupyter": {
     "outputs_hidden": false
    }
   },
   "source": [
    "So if Beto has a message \"The cat is in the tree.\" He'll first need to convert his message to numbers, which we know how to do. Recall the command below \\(I've modified the old code to be able to handle either upper or lower case letters\\). Try for yourself to see it can handle either!. \n",
    "\n"
   ]
  },
  {
   "cell_type": "code",
   "execution_count": 7,
   "metadata": {
    "collapsed": false,
    "jupyter": {
     "outputs_hidden": false
    }
   },
   "outputs": [
    {
     "data": {
      "text/plain": [
       "'11'"
      ]
     },
     "execution_count": 7,
     "metadata": {},
     "output_type": "execute_result"
    }
   ],
   "source": [
    "convert_letter_to_number(\"A\")"
   ]
  },
  {
   "cell_type": "markdown",
   "metadata": {
    "collapsed": false,
    "jupyter": {
     "outputs_hidden": false
    }
   },
   "source": [
    "Let's store our message as a string:\n"
   ]
  },
  {
   "cell_type": "code",
   "execution_count": 8,
   "metadata": {
    "collapsed": false,
    "jupyter": {
     "outputs_hidden": false
    }
   },
   "outputs": [],
   "source": [
    "message=\"The cat is in the tree.\""
   ]
  },
  {
   "cell_type": "markdown",
   "metadata": {
    "collapsed": false,
    "jupyter": {
     "outputs_hidden": false
    }
   },
   "source": [
    "Next our goal is to create a function that takes in a message and outputs the numbers that represent that message. Unlike the commands we already have, we need to keep this list as a number. So we'll loop through our message, changing each letter into a number and create the list. In practice, we usually wouldn't display everything as a list because each number would be coded in binary and so would be the same length no matter if we chose upper or lower case. \n"
   ]
  },
  {
   "cell_type": "code",
   "execution_count": 9,
   "metadata": {
    "collapsed": false,
    "jupyter": {
     "outputs_hidden": false
    }
   },
   "outputs": [],
   "source": [
    "def convert_message_to_number(plaintext):\n",
    "    #first we make an empty list of numbers\n",
    "    converted_message = []\n",
    "    plaintext=plaintext.lower()\n",
    "    for letter in plaintext: #We'll loop through our message\n",
    "        if ord(letter) >= 97 and ord(letter) <= 122:\n",
    "            plaintext_number = convert_letter_to_number(letter) #This converts every letter to a number\n",
    "            converted_message.append(plaintext_number)\n",
    "        else:\n",
    "            # If we get to this spot, we know we don't have a letter at all,\n",
    "            # so just return the character as is\n",
    "            converted_message.append(letter)\n",
    "    return(converted_message)\n"
   ]
  },
  {
   "cell_type": "code",
   "execution_count": 11,
   "metadata": {
    "collapsed": false,
    "jupyter": {
     "outputs_hidden": false
    }
   },
   "outputs": [
    {
     "name": "stdout",
     "output_type": "stream",
     "text": [
      "['30', '18', '15', ' ', '13', '11', '30', ' ', '19', '29', ' ', '19', '24', ' ', '30', '18', '15', ' ', '30', '28', '15', '15', '.']\n"
     ]
    }
   ],
   "source": [
    "print(convert_message_to_number(message))"
   ]
  },
  {
   "cell_type": "markdown",
   "metadata": {
    "collapsed": false,
    "jupyter": {
     "outputs_hidden": false
    }
   },
   "source": [
    "### Question 6\n",
    "\n",
    "- Create your own message and use the code to turn it into a list of numbers. \n",
    "- Choose the first letter of your message and encrypt it by computing $m^e\\mod\\varphi(n)$. Remember that if you're computing large powers you may want to use the python's built in pow function learned in an earlier module.  \n",
    "- Encrypt the second letter of your message.\n",
    "- Optional: encrypt your whole message.\n",
    "\n"
   ]
  },
  {
   "cell_type": "code",
   "execution_count": 20,
   "metadata": {
    "collapsed": false,
    "jupyter": {
     "outputs_hidden": false
    }
   },
   "outputs": [
    {
     "ename": "NameError",
     "evalue": "name 'n' is not defined",
     "output_type": "error",
     "traceback": [
      "\u001b[0;31m---------------------------------------------------------------------------\u001b[0m",
      "\u001b[0;31mNameError\u001b[0m                                 Traceback (most recent call last)",
      "\u001b[0;32m/tmp/ipykernel_630/1868523628.py\u001b[0m in \u001b[0;36m<cell line: 2>\u001b[0;34m()\u001b[0m\n\u001b[1;32m      1\u001b[0m \u001b[0;31m##Add code here to encrypt your message. You may wish to make multiple code cells to do this encrytpion.\u001b[0m\u001b[0;34m\u001b[0m\u001b[0;34m\u001b[0m\u001b[0m\n\u001b[0;32m----> 2\u001b[0;31m \u001b[0mprint\u001b[0m\u001b[0;34m(\u001b[0m\u001b[0mphi\u001b[0m\u001b[0;34m(\u001b[0m\u001b[0mn\u001b[0m\u001b[0;34m)\u001b[0m\u001b[0;34m)\u001b[0m\u001b[0;34m\u001b[0m\u001b[0;34m\u001b[0m\u001b[0m\n\u001b[0m\u001b[1;32m      3\u001b[0m \u001b[0mprint\u001b[0m\u001b[0;34m(\u001b[0m\u001b[0mgcdExtended\u001b[0m\u001b[0;34m(\u001b[0m\u001b[0me\u001b[0m\u001b[0;34m,\u001b[0m\u001b[0mphi\u001b[0m\u001b[0;34m(\u001b[0m\u001b[0mn\u001b[0m\u001b[0;34m)\u001b[0m\u001b[0;34m)\u001b[0m\u001b[0;34m)\u001b[0m\u001b[0;34m\u001b[0m\u001b[0;34m\u001b[0m\u001b[0m\n\u001b[1;32m      4\u001b[0m \u001b[0mprint\u001b[0m\u001b[0;34m(\u001b[0m\u001b[0;34m(\u001b[0m\u001b[0mxvalue\u001b[0m\u001b[0;34m)\u001b[0m\u001b[0;34m%\u001b[0m\u001b[0mphi\u001b[0m\u001b[0;34m(\u001b[0m\u001b[0mn\u001b[0m\u001b[0;34m)\u001b[0m\u001b[0;34m)\u001b[0m\u001b[0;34m\u001b[0m\u001b[0;34m\u001b[0m\u001b[0m\n\u001b[1;32m      5\u001b[0m \u001b[0mmessage2\u001b[0m\u001b[0;34m=\u001b[0m \u001b[0;34m\"\"\"message goes here\"\"\"\u001b[0m\u001b[0;34m\u001b[0m\u001b[0;34m\u001b[0m\u001b[0m\n",
      "\u001b[0;31mNameError\u001b[0m: name 'n' is not defined"
     ]
    }
   ],
   "source": [
    "##Add code here to encrypt your message. \n",
    "\n"
   ]
  },
  {
   "cell_type": "markdown",
   "metadata": {
    "collapsed": false,
    "jupyter": {
     "outputs_hidden": false
    }
   },
   "source": [
    "*****\n",
    "\n"
   ]
  },
  {
   "cell_type": "markdown",
   "metadata": {
    "collapsed": false,
    "jupyter": {
     "outputs_hidden": false
    }
   },
   "source": [
    "## Alicia decrypts Beto's message\n",
    "\n",
    "- Alicia receives the encrypted message from Beto: $c$ or $c_1c_2\\cdots c_n$. \n",
    "- She computes $$c^dc^{e^{-1}}\\mod{pq}\\equiv (m^e)^{e^{-1}} \\mod{pq}$$\n",
    "  $$\\equiv (m^{ee^{-1}})\\mod{pq}$$\n",
    "  $$\\equiv m^{1+k\\varphi(pq)}\\mod{pq}$$ for some integer $k$.\n",
    "  $$\\equiv m*(m^{\\varphi(pq)})^k\\mod{pq}$$\n",
    "  $$\\equiv m*(1)^k \\mod{pq}$$ by Euler's Theorem.\n",
    "  $$\\equiv m\\mod{pq}.$$And voila! Alicia now has Beto's message. If he sent lots of encrypted parts to the message, she can just apply this process to each individual command. \n",
    "\n"
   ]
  },
  {
   "cell_type": "markdown",
   "metadata": {
    "collapsed": false,
    "jupyter": {
     "outputs_hidden": false
    }
   },
   "source": [
    "---\n",
    "\n"
   ]
  },
  {
   "cell_type": "markdown",
   "metadata": {
    "collapsed": false,
    "jupyter": {
     "outputs_hidden": false
    }
   },
   "source": [
    "### Question 7\n",
    "\n",
    "- Decrypt the first letter of your encryption from Question 5 by computer $c^{e^{-1}}\n",
    "  \\mod n$ . Recall you computed $e^{-1}$ in  Question 4. \n",
    "- Check to see if your result is the same as your message from Question 5. \n",
    "- Where does Euler's Theorem play a role in the decryption?\n",
    "\n"
   ]
  },
  {
   "cell_type": "code",
   "execution_count": 22,
   "metadata": {
    "collapsed": false,
    "jupyter": {
     "outputs_hidden": false
    }
   },
   "outputs": [],
   "source": [
    "## Add code here"
   ]
  },
  {
   "cell_type": "markdown",
   "metadata": {
    "collapsed": false,
    "jupyter": {
     "outputs_hidden": false
    }
   },
   "source": [
    "<span style='color:#9c27b0'>_Please write up your observations here._</span>\n"
   ]
  },
  {
   "cell_type": "markdown",
   "metadata": {
    "collapsed": false,
    "jupyter": {
     "outputs_hidden": false
    }
   },
   "source": [
    "### Question 8\n",
    "\n",
    "You've now worked through the math and seen what Alicia and Beto are doing. Explain how the padlock analogy works for RSA encryption. How are we \"undoing\" our encryption, eg what mathematical operations are we using to do and undo our encryption?\n",
    "\n"
   ]
  },
  {
   "cell_type": "markdown",
   "metadata": {
    "collapsed": false,
    "jupyter": {
     "outputs_hidden": false
    }
   },
   "source": [
    "<span style='color:#9c27b0'>_Please write up your answer here._</span>\n"
   ]
  },
  {
   "cell_type": "markdown",
   "metadata": {
    "collapsed": false,
    "jupyter": {
     "outputs_hidden": false
    }
   },
   "source": [
    "*****\n",
    "\n"
   ]
  },
  {
   "cell_type": "markdown",
   "metadata": {
    "collapsed": false,
    "jupyter": {
     "outputs_hidden": false
    }
   },
   "source": [
    "## So what does Eve need to know when she intercepts the Encryption?\n",
    "\n",
    "Eve can intercept the public key $(e,pq)$ and the message $c$. Eve wishes to decrypt the message.\n",
    "\n"
   ]
  },
  {
   "cell_type": "markdown",
   "metadata": {
    "collapsed": false,
    "jupyter": {
     "outputs_hidden": false
    }
   },
   "source": [
    "### Question 9\n",
    "\n"
   ]
  },
  {
   "cell_type": "markdown",
   "metadata": {
    "collapsed": false,
    "jupyter": {
     "outputs_hidden": false
    }
   },
   "source": [
    "- What can be considered the private key of RSA? \n",
    "- What two bits of information would Eve need to solve for in order to find the private key? \n",
    "- Why can't Eve just use Brute force to decrypt Beto's message?\n",
    "\n"
   ]
  },
  {
   "cell_type": "markdown",
   "metadata": {
    "collapsed": false,
    "jupyter": {
     "outputs_hidden": false
    }
   },
   "source": [
    "<span style='color:#9c27b0'>_Please write up your answer here._</span>\n",
    "\n"
   ]
  },
  {
   "cell_type": "markdown",
   "metadata": {
    "collapsed": false,
    "jupyter": {
     "outputs_hidden": false
    }
   },
   "source": [
    "You may have noticed that we can use the phi\\(n\\) function in Python to compute the Euler phi function. In practicality, the algorithm we're using is a for loop. This means that if we were to choose unbelievably huge prime numbers to start with, this function would be impractical. So Eve needs to know $\\varphi(p*q)$ and she even can use a computer, but if Alicia was careful, Eve can not compute this value in her lifetime. \n"
   ]
  },
  {
   "cell_type": "markdown",
   "metadata": {
    "collapsed": false,
    "jupyter": {
     "outputs_hidden": false
    }
   },
   "source": [
    "### Question 10\n",
    "\n",
    "What do you conclude from this module?\n",
    "\n",
    "<span style='color:#9c27b0'>_Please write up your answer here._</span>\n",
    "\n"
   ]
  },
  {
   "cell_type": "markdown",
   "metadata": {
    "collapsed": false,
    "jupyter": {
     "outputs_hidden": false
    }
   },
   "source": [
    "### Supreme Challenge Question\n",
    "\n",
    "Use the space below to create your own encryption function that uses RSA to encrypt. \n",
    "\n"
   ]
  },
  {
   "cell_type": "markdown",
   "metadata": {
    "collapsed": false,
    "jupyter": {
     "outputs_hidden": false
    }
   },
   "source": [
    "You may first wish to write out the \"pseudocode\", by which I mean the steps you'd take in words then see if there's a command that already does that. \n"
   ]
  },
  {
   "cell_type": "code",
   "execution_count": 23,
   "metadata": {
    "collapsed": false,
    "jupyter": {
     "outputs_hidden": false
    }
   },
   "outputs": [],
   "source": [
    "def rsa_encryption(plaintext, e, p,q):\n",
    "    n=p*q\n",
    "    if math.gcd(e, phi(n)) != 1:\n",
    "        print(\"The value of e must be relatively prime to varphi(n)!\")\n",
    "    else:\n",
    "        convert_message_to_number\n",
    "        ciphertext = \"\"\n",
    "        ### Add code here to make this work. It may need for loops.\n",
    "    return(ciphertext)"
   ]
  },
  {
   "cell_type": "code",
   "execution_count": 24,
   "metadata": {
    "collapsed": false,
    "jupyter": {
     "outputs_hidden": false
    }
   },
   "outputs": [
    {
     "ename": "IndentationError",
     "evalue": "expected an indented block after 'else' statement on line 6 (1957511658.py, line 8)",
     "output_type": "error",
     "traceback": [
      "\u001b[0;36m  File \u001b[0;32m\"/tmp/ipykernel_630/1957511658.py\"\u001b[0;36m, line \u001b[0;32m8\u001b[0m\n\u001b[0;31m    return(plaintext)\u001b[0m\n\u001b[0m    ^\u001b[0m\n\u001b[0;31mIndentationError\u001b[0m\u001b[0;31m:\u001b[0m expected an indented block after 'else' statement on line 6\n"
     ]
    }
   ],
   "source": [
    "#It'd be nice if it found e^-1 inside the function, so we don't have to do extre computations to find it. Recall we can grab something form a list by doing list_here[1], where 1 is the position in the list. \n",
    "def rsa_decryption(ciphertext, e, p,q):\n",
    "    n=p*q\n",
    "    if math.gcd(e, phi(n)) != 1:\n",
    "        print(\"The value of e must be relatively prime to varphi(n)!\")\n",
    "    else:\n",
    "        ### Add code here to make this work. It may need for loops.\n",
    "    return(plaintext)"
   ]
  },
  {
   "cell_type": "code",
   "execution_count": null,
   "metadata": {
    "collapsed": false,
    "jupyter": {
     "outputs_hidden": false
    }
   },
   "outputs": [],
   "source": []
  }
 ],
 "metadata": {
  "kernelspec": {
   "display_name": "Python 3 (ipykernel)",
   "language": "python",
   "name": "python3"
  },
  "language_info": {
   "codemirror_mode": {
    "name": "ipython",
    "version": 3
   },
   "file_extension": ".py",
   "mimetype": "text/x-python",
   "name": "python",
   "nbconvert_exporter": "python",
   "pygments_lexer": "ipython3",
   "version": "3.12.7"
  }
 },
 "nbformat": 4,
 "nbformat_minor": 4
}
