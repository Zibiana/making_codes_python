{
 "cells": [
  {
   "cell_type": "markdown",
   "metadata": {
    "collapsed": false
   },
   "source": [
   ]
  },
  {
   "cell_type": "markdown",
   "metadata": {
    "collapsed": false
   },
   "source": [
   ]
  },
  {
   "cell_type": "markdown",
   "metadata": {
    "collapsed": false
   },
   "source": [
   ]
  },
  {
   "cell_type": "markdown",
   "metadata": {
    "collapsed": false
   },
   "source": [
    "# Frequency Analysis, Part 1"
   ]
  },
  {
   "cell_type": "markdown",
   "metadata": {
    "collapsed": false
   },
   "source": [
    "## Your name goes here. \\(Double\\-click on this cell to edit it.\\)\n",
    "\n",
    "Remember to hit Ctrl-Enter after editing any cell.\n",
    "\n"
   ]
  },
  {
   "cell_type": "markdown",
   "metadata": {
    "collapsed": false
   },
   "source": [
    "## Commands in python introduced in this module\n",
    "\n",
    "---\n",
    ">\n",
    "___\n",
    "\n"
   ]
  },
  {
   "cell_type": "markdown",
   "metadata": {
    "collapsed": false
   },
   "source": [
    "## Math topics used in this module\n",
    "\n",
    "*\n",
    "\n"
   ]
  },
  {
   "cell_type": "markdown",
   "metadata": {
    "collapsed": false
   },
   "source": [
    "## Objectives\n",
    "\n",
    "In this activity we will use Python to conduct a frequency analysis of a piece of text."
   ]
  },
  {
   "cell_type": "markdown",
   "metadata": {
    "collapsed": false
   },
   "source": [
    "## Preliminaries\n",
    "\n",
    "We will need a list of the letters of the alphabet. While we could easily construct such a list manually, we might as well use a list that's built already. Such a list exists in the `string` library. (Throughout the module, you will need to remember to click on code cells and hit Ctrl-Enter.)"
   ]
  },
  {
   "cell_type": "code",
   "execution_count": 1,
   "metadata": {
    "collapsed": false
   },
   "outputs": [
   ],
   "source": [
    "import string"
   ]
  },
  {
   "cell_type": "markdown",
   "metadata": {
    "collapsed": false
   },
   "source": [
    "Here are two versions of the alphabet, one uppercase and one lowercase (although we will not need the lowercase version in this module)."
   ]
  },
  {
   "cell_type": "code",
   "execution_count": 2,
   "metadata": {
    "collapsed": false
   },
   "outputs": [
    {
     "data": {
      "text/plain": [
       "'ABCDEFGHIJKLMNOPQRSTUVWXYZ'"
      ]
     },
     "execution_count": 2,
     "metadata": {
     },
     "output_type": "execute_result"
    }
   ],
   "source": [
    "alph_upper = string.ascii_uppercase\n",
    "alph_upper"
   ]
  },
  {
   "cell_type": "code",
   "execution_count": 3,
   "metadata": {
    "collapsed": false
   },
   "outputs": [
    {
     "data": {
      "text/plain": [
       "'abcdefghijklmnopqrstuvwxyz'"
      ]
     },
     "execution_count": 3,
     "metadata": {
     },
     "output_type": "execute_result"
    }
   ],
   "source": [
    "alph_lower = string.ascii_lowercase\n",
    "alph_lower"
   ]
  },
  {
   "cell_type": "markdown",
   "metadata": {
    "collapsed": false
   },
   "source": [
    "## Dictionaries\n",
    "\n",
    "Before we get to the functions, let's learn about a very useful Python data type. It's called a \"dictionary\". Somewhat like a dictionary in which you'd look up the definition of a word, a Python dictionary allows you to look up values using a \"key\". Dictionaries use curly braces { and }.\n",
    "\n",
    "Here is an example of fruits I have in my kitchen:"
   ]
  },
  {
   "cell_type": "code",
   "execution_count": 4,
   "metadata": {
    "collapsed": false
   },
   "outputs": [
   ],
   "source": [
    "fruit_counts = {\"apple\": 8, \"orange\": 2, \"banana\": 4}"
   ]
  },
  {
   "cell_type": "markdown",
   "metadata": {
    "collapsed": false
   },
   "source": [
    "The \"keys\" are the fruit names. The \"values\" are the quantities. (In general, though, keys do not have to be strings, and values do not have to be numbers. You can store any kind of data in a dictionary.)\n",
    "\n",
    "If we want to look up the value for a given key, we can do so as follows:"
   ]
  },
  {
   "cell_type": "code",
   "execution_count": 5,
   "metadata": {
    "collapsed": false
   },
   "outputs": [
    {
     "data": {
      "text/plain": [
       "4"
      ]
     },
     "execution_count": 5,
     "metadata": {
     },
     "output_type": "execute_result"
    }
   ],
   "source": [
    "fruit_counts[\"banana\"]"
   ]
  },
  {
   "cell_type": "markdown",
   "metadata": {
    "collapsed": false
   },
   "source": [
    "I can also change any of the values, say, after I go to the store and buy more oranges:"
   ]
  },
  {
   "cell_type": "code",
   "execution_count": 6,
   "metadata": {
    "collapsed": false
   },
   "outputs": [
    {
     "data": {
      "text/plain": [
       "5"
      ]
     },
     "execution_count": 6,
     "metadata": {
     },
     "output_type": "execute_result"
    }
   ],
   "source": [
    "# I bought 3 more oranges\n",
    "fruit_counts[\"orange\"] = fruit_counts[\"orange\"] + 3\n",
    "# So how many oranges do I have now?\n",
    "fruit_counts[\"orange\"]"
   ]
  },
  {
   "cell_type": "markdown",
   "metadata": {
    "collapsed": false
   },
   "source": [
    "### Exercise 1\n",
    "\n",
    "Below is a funny new piece of notation: `+=`."
   ]
  },
  {
   "cell_type": "code",
   "execution_count": 7,
   "metadata": {
    "collapsed": false
   },
   "outputs": [
   ],
   "source": [
    "fruit_counts[\"apple\"] += 10"
   ]
  },
  {
   "cell_type": "markdown",
   "metadata": {
    "collapsed": false
   },
   "source": [
    "In the code cell below, check the number of apples in `fruit_counts`. Based on what you see, explain what `+=` does."
   ]
  },
  {
   "cell_type": "code",
   "execution_count": 8,
   "metadata": {
    "collapsed": false
   },
   "outputs": [
   ],
   "source": [
    "# Add code here to check the number of apples in fruit_counts"
   ]
  },
  {
   "cell_type": "markdown",
   "metadata": {
    "collapsed": false
   },
   "source": [
    "<span style='color:#9c27b0'>_Please write up your answer here._</span>\n"
   ]
  },
  {
   "cell_type": "markdown",
   "metadata": {
    "collapsed": false
   },
   "source": [
    "## Storing letter frequencies\n",
    "\n",
    "We need to write a function that will go through a piece of text and count up all the letters used. We'll keep track of the letter frequencies in a dictionary called `frequencies`. Let's start with an empty dictionary:"
   ]
  },
  {
   "cell_type": "code",
   "execution_count": 9,
   "metadata": {
    "collapsed": false
   },
   "outputs": [
    {
     "data": {
      "text/plain": [
       "{}"
      ]
     },
     "execution_count": 9,
     "metadata": {
     },
     "output_type": "execute_result"
    }
   ],
   "source": [
    "frequencies = {}\n",
    "frequencies"
   ]
  },
  {
   "cell_type": "markdown",
   "metadata": {
    "collapsed": false
   },
   "source": [
    "Then we'll use a for loop to set up each uppercase letter as a key and 0 as the corresponding value."
   ]
  },
  {
   "cell_type": "code",
   "execution_count": 10,
   "metadata": {
    "collapsed": false
   },
   "outputs": [
    {
     "data": {
      "text/plain": [
       "{'A': 0,\n",
       " 'B': 0,\n",
       " 'C': 0,\n",
       " 'D': 0,\n",
       " 'E': 0,\n",
       " 'F': 0,\n",
       " 'G': 0,\n",
       " 'H': 0,\n",
       " 'I': 0,\n",
       " 'J': 0,\n",
       " 'K': 0,\n",
       " 'L': 0,\n",
       " 'M': 0,\n",
       " 'N': 0,\n",
       " 'O': 0,\n",
       " 'P': 0,\n",
       " 'Q': 0,\n",
       " 'R': 0,\n",
       " 'S': 0,\n",
       " 'T': 0,\n",
       " 'U': 0,\n",
       " 'V': 0,\n",
       " 'W': 0,\n",
       " 'X': 0,\n",
       " 'Y': 0,\n",
       " 'Z': 0}"
      ]
     },
     "execution_count": 10,
     "metadata": {
     },
     "output_type": "execute_result"
    }
   ],
   "source": [
    "for letter in alph_upper:\n",
    "    frequencies[letter] = 0\n",
    "frequencies"
   ]
  },
  {
   "cell_type": "markdown",
   "metadata": {
    "collapsed": false
   },
   "source": [
    "Finally, in one more for loop, we grab each letter of the text we're analyzing. The dictionary value is incremented by 1 for each letter we find."
   ]
  },
  {
   "cell_type": "code",
   "execution_count": 56,
   "metadata": {
    "collapsed": false
   },
   "outputs": [
    {
     "ename": "TypeError",
     "evalue": "list indices must be integers or slices, not str",
     "output_type": "error",
     "traceback": [
      "\u001b[0;31m---------------------------------------------------------------------------\u001b[0m",
      "\u001b[0;31mTypeError\u001b[0m                                 Traceback (most recent call last)",
      "\u001b[0;32m/tmp/ipykernel_440/2977908922.py\u001b[0m in \u001b[0;36m<cell line: 3>\u001b[0;34m()\u001b[0m\n\u001b[1;32m      2\u001b[0m \u001b[0mtext2\u001b[0m \u001b[0;34m=\u001b[0m \u001b[0;34m\"HellomynameisBianca\"\u001b[0m\u001b[0;34m\u001b[0m\u001b[0;34m\u001b[0m\u001b[0m\n\u001b[1;32m      3\u001b[0m \u001b[0;32mfor\u001b[0m \u001b[0mletter\u001b[0m \u001b[0;32min\u001b[0m \u001b[0mtext2\u001b[0m\u001b[0;34m:\u001b[0m\u001b[0;34m\u001b[0m\u001b[0;34m\u001b[0m\u001b[0m\n\u001b[0;32m----> 4\u001b[0;31m     \u001b[0mfrequencies\u001b[0m\u001b[0;34m[\u001b[0m\u001b[0mletter\u001b[0m\u001b[0;34m]\u001b[0m \u001b[0;34m+=\u001b[0m \u001b[0;36m1\u001b[0m\u001b[0;34m\u001b[0m\u001b[0;34m\u001b[0m\u001b[0m\n\u001b[0m\u001b[1;32m      5\u001b[0m \u001b[0mfrequencies\u001b[0m\u001b[0;34m\u001b[0m\u001b[0;34m\u001b[0m\u001b[0m\n",
      "\u001b[0;31mTypeError\u001b[0m: list indices must be integers or slices, not str"
     ]
    }
   ],
   "source": [
    "text = \"HELLOMYNAMEISBIANCA\"\n",
    "text2 = \"HellomynameisBianca\"\n",
    "for letter in text2:\n",
    "    frequencies[letter] += 1\n",
    "frequencies"
   ]
  },
  {
   "cell_type": "markdown",
   "metadata": {
    "collapsed": false
   },
   "source": [
    "Let's put this together in a function:"
   ]
  },
  {
   "cell_type": "code",
   "execution_count": 59,
   "metadata": {
    "collapsed": false
   },
   "outputs": [
   ],
   "source": [
    "def analyze_frequencies_test1(text):\n",
    "    # Store uppercase alphabet\n",
    "    alph_upper = string.ascii_uppercase\n",
    "    # Initialize frequencies to 0\n",
    "    frequencies = {}\n",
    "    for letter in alph_upper:\n",
    "        frequencies[letter] = 0\n",
    "    # Go through the text and for each letter,\n",
    "    # add 1 to the value corresponding to that letter\n",
    "    for letter in text:\n",
    "        frequencies[letter] += 1\n",
    "    return frequencies"
   ]
  },
  {
   "cell_type": "code",
   "execution_count": 63,
   "metadata": {
    "collapsed": false
   },
   "outputs": [
    {
     "ename": "KeyError",
     "evalue": "' '",
     "output_type": "error",
     "traceback": [
      "\u001b[0;31m---------------------------------------------------------------------------\u001b[0m",
      "\u001b[0;31mKeyError\u001b[0m                                  Traceback (most recent call last)",
      "\u001b[0;32m/tmp/ipykernel_440/104208858.py\u001b[0m in \u001b[0;36m<cell line: 1>\u001b[0;34m()\u001b[0m\n\u001b[0;32m----> 1\u001b[0;31m \u001b[0manalyze_frequencies_test1\u001b[0m\u001b[0;34m(\u001b[0m\u001b[0;34m\"HELLO MY\"\u001b[0m\u001b[0;34m)\u001b[0m\u001b[0;34m\u001b[0m\u001b[0;34m\u001b[0m\u001b[0m\n\u001b[0m",
      "\u001b[0;32m/tmp/ipykernel_440/3790375060.py\u001b[0m in \u001b[0;36manalyze_frequencies_test1\u001b[0;34m(text)\u001b[0m\n\u001b[1;32m      9\u001b[0m     \u001b[0;31m# add 1 to the value corresponding to that letter\u001b[0m\u001b[0;34m\u001b[0m\u001b[0;34m\u001b[0m\u001b[0m\n\u001b[1;32m     10\u001b[0m     \u001b[0;32mfor\u001b[0m \u001b[0mletter\u001b[0m \u001b[0;32min\u001b[0m \u001b[0mtext\u001b[0m\u001b[0;34m:\u001b[0m\u001b[0;34m\u001b[0m\u001b[0;34m\u001b[0m\u001b[0m\n\u001b[0;32m---> 11\u001b[0;31m         \u001b[0mfrequencies\u001b[0m\u001b[0;34m[\u001b[0m\u001b[0mletter\u001b[0m\u001b[0;34m]\u001b[0m \u001b[0;34m+=\u001b[0m \u001b[0;36m1\u001b[0m\u001b[0;34m\u001b[0m\u001b[0;34m\u001b[0m\u001b[0m\n\u001b[0m\u001b[1;32m     12\u001b[0m     \u001b[0;32mreturn\u001b[0m \u001b[0mfrequencies\u001b[0m\u001b[0;34m\u001b[0m\u001b[0;34m\u001b[0m\u001b[0m\n",
      "\u001b[0;31mKeyError\u001b[0m: ' '"
     ]
    }
   ],
   "source": [
    "analyze_frequencies_test1(\"HELLO MY\")"
   ]
  },
  {
   "cell_type": "markdown",
   "metadata": {
    "collapsed": false
   },
   "source": [
    "### Exercise 2\n",
    "\n",
    "Test the `analyze_frequencies_test1` function on the string \"Here is some text\". You should get an error. Explain why. (Hint: while error messages in Python can be a bit inscrutable, the last line is usually the most informative.)"
   ]
  },
  {
   "cell_type": "code",
   "execution_count": 14,
   "metadata": {
    "collapsed": false
   },
   "outputs": [
   ],
   "source": [
    "# Add code here to analyze the string \"Here is some text\""
   ]
  },
  {
   "cell_type": "markdown",
   "metadata": {
    "collapsed": false
   },
   "source": [
    "<span style='color:#9c27b0'>_Please write up your answer here._</span>\n"
   ]
  },
  {
   "cell_type": "markdown",
   "metadata": {
    "collapsed": false
   },
   "source": [
    "**VERY IMPORTANT!** Since the last command should have resulted in an error, if we leave it alone, it may prevent future cells from running if we ever go back and run all the cells from the beginning of the document. Once you have verified that you get the appropriate error, go back into the code cell and put a hashtag at the beginning of the line. This will tell Python to ignore this code on future passes."
   ]
  },
  {
   "cell_type": "markdown",
   "metadata": {
    "collapsed": false
   },
   "source": [
    "## Making our function more robust\n",
    "\n",
    "The last error tells us that our function won't work very well when we have anything but uppercase letters in our text. Let's fix that.\n",
    "\n",
    "One thing we can do is convert everything to uppercase first using `text.upper()`.\n",
    "\n",
    "We still need to worry about anything that appears that's not a letter, including spaces! We'll use an if statement to check that we have an uppercase letter before we try to update the dictionary values.\n",
    "\n",
    "Here is the next version of our function:"
   ]
  },
  {
   "cell_type": "code",
   "execution_count": 15,
   "metadata": {
    "collapsed": false
   },
   "outputs": [
   ],
   "source": [
    "def analyze_frequencies_test2(text):\n",
    "    # Store uppercase alphabet\n",
    "    alph_upper = string.ascii_uppercase\n",
    "    # Convert text to uppercase\n",
    "    text = text.upper()\n",
    "    # Initialize frequencies to 0\n",
    "    frequencies = {}\n",
    "    for letter in alph_upper:\n",
    "        frequencies[letter] = 0\n",
    "    # Go through the text and for each letter,\n",
    "    # add 1 to the value corresponding to that letter\n",
    "    for letter in text:\n",
    "        if letter in alph_upper:\n",
    "            frequencies[letter] += 1\n",
    "    return frequencies"
   ]
  },
  {
   "cell_type": "code",
   "execution_count": 64,
   "metadata": {
    "collapsed": false
   },
   "outputs": [
    {
     "data": {
      "text/plain": [
       "{'A': 0,\n",
       " 'B': 0,\n",
       " 'C': 0,\n",
       " 'D': 0,\n",
       " 'E': 4,\n",
       " 'F': 0,\n",
       " 'G': 0,\n",
       " 'H': 1,\n",
       " 'I': 1,\n",
       " 'J': 0,\n",
       " 'K': 0,\n",
       " 'L': 0,\n",
       " 'M': 1,\n",
       " 'N': 0,\n",
       " 'O': 1,\n",
       " 'P': 0,\n",
       " 'Q': 0,\n",
       " 'R': 1,\n",
       " 'S': 2,\n",
       " 'T': 2,\n",
       " 'U': 0,\n",
       " 'V': 0,\n",
       " 'W': 0,\n",
       " 'X': 1,\n",
       " 'Y': 0,\n",
       " 'Z': 0}"
      ]
     },
     "execution_count": 64,
     "metadata": {
     },
     "output_type": "execute_result"
    }
   ],
   "source": [
    "test_analysis = analyze_frequencies_test2(\"Here is some text!\")\n",
    "test_analysis"
   ]
  },
  {
   "cell_type": "markdown",
   "metadata": {
    "collapsed": false
   },
   "source": [
    "### Exercise 3\n",
    "\n",
    "Notice that there is no `else` statement below the `if` statement. Why do we not need one? In other words, what is supposed to happen to the `frequencies` dictionary if the `if` statement is not satisfied?"
   ]
  },
  {
   "cell_type": "markdown",
   "metadata": {
    "collapsed": false
   },
   "source": [
    "<span style='color:#9c27b0'>_Please write up your answer here._</span>\n"
   ]
  },
  {
   "cell_type": "markdown",
   "metadata": {
    "collapsed": false
   },
   "source": [
    "*****"
   ]
  },
  {
   "cell_type": "markdown",
   "metadata": {
    "collapsed": false
   },
   "source": [
    "As it stands currently, our function will output the counts of each letter. However, it might be more useful to see the values as percentages. Let's modify our function to be able to do that.\n",
    "\n",
    "To get percentages, we have to divide each value by the total letter count. The values can be listed with `.values()`:"
   ]
  },
  {
   "cell_type": "code",
   "execution_count": 17,
   "metadata": {
    "collapsed": false
   },
   "outputs": [
    {
     "data": {
      "text/plain": [
       "dict_values([0, 0, 0, 0, 4, 0, 0, 1, 1, 0, 0, 0, 1, 0, 1, 0, 0, 1, 2, 2, 0, 0, 0, 1, 0, 0])"
      ]
     },
     "execution_count": 17,
     "metadata": {
     },
     "output_type": "execute_result"
    }
   ],
   "source": [
    "test_analysis = analyze_frequencies_test2(\"Here is some text!\")\n",
    "test_analysis.values()"
   ]
  },
  {
   "cell_type": "markdown",
   "metadata": {
    "collapsed": false
   },
   "source": [
    "Then they can be summed:"
   ]
  },
  {
   "cell_type": "code",
   "execution_count": 18,
   "metadata": {
    "collapsed": false
   },
   "outputs": [
    {
     "data": {
      "text/plain": [
       "14"
      ]
     },
     "execution_count": 18,
     "metadata": {
     },
     "output_type": "execute_result"
    }
   ],
   "source": [
    "total_letters = sum(test_analysis.values())\n",
    "total_letters"
   ]
  },
  {
   "cell_type": "markdown",
   "metadata": {
    "collapsed": false
   },
   "source": [
    "Finally, we need to divide each value in the dictionary by this sum."
   ]
  },
  {
   "cell_type": "code",
   "execution_count": 19,
   "metadata": {
    "collapsed": false
   },
   "outputs": [
    {
     "data": {
      "text/plain": [
       "{'A': 0.0,\n",
       " 'B': 0.0,\n",
       " 'C': 0.0,\n",
       " 'D': 0.0,\n",
       " 'E': 0.2857142857142857,\n",
       " 'F': 0.0,\n",
       " 'G': 0.0,\n",
       " 'H': 0.07142857142857142,\n",
       " 'I': 0.07142857142857142,\n",
       " 'J': 0.0,\n",
       " 'K': 0.0,\n",
       " 'L': 0.0,\n",
       " 'M': 0.07142857142857142,\n",
       " 'N': 0.0,\n",
       " 'O': 0.07142857142857142,\n",
       " 'P': 0.0,\n",
       " 'Q': 0.0,\n",
       " 'R': 0.07142857142857142,\n",
       " 'S': 0.14285714285714285,\n",
       " 'T': 0.14285714285714285,\n",
       " 'U': 0.0,\n",
       " 'V': 0.0,\n",
       " 'W': 0.0,\n",
       " 'X': 0.07142857142857142,\n",
       " 'Y': 0.0,\n",
       " 'Z': 0.0}"
      ]
     },
     "execution_count": 19,
     "metadata": {
     },
     "output_type": "execute_result"
    }
   ],
   "source": [
    "for letter in test_analysis:\n",
    "    test_analysis[letter] = test_analysis[letter] / total_letters\n",
    "test_analysis"
   ]
  },
  {
   "cell_type": "markdown",
   "metadata": {
    "collapsed": false
   },
   "source": [
    "The only additional thing we might want to do is convert these proportions to percentages by multiplying by 100 and then round the numbers to maybe 3 decimal places. See the implementation of these details in the `analyze_frequencies_test3` function below.\n",
    "\n",
    "One more trick to show you. Look at the function below and notice that we've added an parameter `output_format` with a default value of \"count\" to the function signature. This will allow the user to set the output format. Since the default is \"count\", if the user does not specify anything for `output_format`, the output will consist of counts. But the user can also specify \"percent\". Since we've now introduced one more way that the user can screw up our function, there's a little new logic near the bottom of the function that enforces \"count\" or \"percent\" as the only options.\n",
    "\n",
    "Look over the new lines of code carefully. Make sure you follow what each line of code is accomplishing."
   ]
  },
  {
   "cell_type": "code",
   "execution_count": 20,
   "metadata": {
    "collapsed": false
   },
   "outputs": [
   ],
   "source": [
    "def analyze_frequencies_test3(text, output_format = \"count\"):\n",
    "    # Store uppercase alphabet\n",
    "    alph_upper = string.ascii_uppercase\n",
    "    # Convert text to uppercase\n",
    "    text = text.upper()\n",
    "    # Initialize frequencies to 0\n",
    "    frequencies = {}\n",
    "    for letter in alph_upper:\n",
    "        frequencies[letter] = 0\n",
    "    # Go through the text and for each letter,\n",
    "    # add 1 to the value corresponding to that letter\n",
    "    for letter in text:\n",
    "        if letter in alph_upper:\n",
    "            frequencies[letter] += 1\n",
    "    # Check output format\n",
    "    if output_format not in [\"count\", \"percent\"]:\n",
    "        print('The output format must be either \"count\" or \"percent\".')\n",
    "        return\n",
    "    elif output_format == \"percent\":\n",
    "        total_letters = sum(frequencies.values())\n",
    "        for letter in frequencies:\n",
    "            frequencies[letter] = round(100 * frequencies[letter]/total_letters, ndigits = 3)\n",
    "    return frequencies"
   ]
  },
  {
   "cell_type": "code",
   "execution_count": 21,
   "metadata": {
    "collapsed": false
   },
   "outputs": [
    {
     "data": {
      "text/plain": [
       "{'A': 0,\n",
       " 'B': 0,\n",
       " 'C': 0,\n",
       " 'D': 0,\n",
       " 'E': 4,\n",
       " 'F': 0,\n",
       " 'G': 0,\n",
       " 'H': 1,\n",
       " 'I': 1,\n",
       " 'J': 0,\n",
       " 'K': 0,\n",
       " 'L': 0,\n",
       " 'M': 1,\n",
       " 'N': 0,\n",
       " 'O': 1,\n",
       " 'P': 0,\n",
       " 'Q': 0,\n",
       " 'R': 1,\n",
       " 'S': 2,\n",
       " 'T': 2,\n",
       " 'U': 0,\n",
       " 'V': 0,\n",
       " 'W': 0,\n",
       " 'X': 1,\n",
       " 'Y': 0,\n",
       " 'Z': 0}"
      ]
     },
     "execution_count": 21,
     "metadata": {
     },
     "output_type": "execute_result"
    }
   ],
   "source": [
    "# The default for output_format is \"count\", so if no output_format is specified,\n",
    "# the function will produce counts\n",
    "test_analysis_count = analyze_frequencies_test3(\"Here is some text!\")\n",
    "test_analysis_count"
   ]
  },
  {
   "cell_type": "code",
   "execution_count": 22,
   "metadata": {
    "collapsed": false
   },
   "outputs": [
    {
     "data": {
      "text/plain": [
       "{'A': 0.0,\n",
       " 'B': 0.0,\n",
       " 'C': 0.0,\n",
       " 'D': 0.0,\n",
       " 'E': 28.571,\n",
       " 'F': 0.0,\n",
       " 'G': 0.0,\n",
       " 'H': 7.143,\n",
       " 'I': 7.143,\n",
       " 'J': 0.0,\n",
       " 'K': 0.0,\n",
       " 'L': 0.0,\n",
       " 'M': 7.143,\n",
       " 'N': 0.0,\n",
       " 'O': 7.143,\n",
       " 'P': 0.0,\n",
       " 'Q': 0.0,\n",
       " 'R': 7.143,\n",
       " 'S': 14.286,\n",
       " 'T': 14.286,\n",
       " 'U': 0.0,\n",
       " 'V': 0.0,\n",
       " 'W': 0.0,\n",
       " 'X': 7.143,\n",
       " 'Y': 0.0,\n",
       " 'Z': 0.0}"
      ]
     },
     "execution_count": 22,
     "metadata": {
     },
     "output_type": "execute_result"
    }
   ],
   "source": [
    "test_analysis_percent = analyze_frequencies_test3(\"Here is some text!\", output_format = \"percent\")\n",
    "test_analysis_percent"
   ]
  },
  {
   "cell_type": "code",
   "execution_count": 23,
   "metadata": {
    "collapsed": false
   },
   "outputs": [
    {
     "name": "stdout",
     "output_type": "stream",
     "text": [
      "The output format must be either \"count\" or \"percent\".\n"
     ]
    }
   ],
   "source": [
    "# Test what happens if output_format is not \"count\" or \"percent\"\n",
    "analyze_frequencies_test3(\"Here is some text!\", output_format = \"something_else\")"
   ]
  },
  {
   "cell_type": "markdown",
   "metadata": {
    "collapsed": false
   },
   "source": [
    "### Exercise 4\n",
    "\n",
    "The `analyze_frequencies_test3` function prints a string when the user fails to specify \"count\" or \"percent\". Recall from an earlier module that we can enclose strings using either single quotes or double quotes. Typically, we use double quotes. Why do you suppose this string must be enclosed in single quotes then?"
   ]
  },
  {
   "cell_type": "markdown",
   "metadata": {
    "collapsed": false
   },
   "source": [
    "<span style='color:#9c27b0'>_Please write up your answer here._</span>\n"
   ]
  },
  {
   "cell_type": "markdown",
   "metadata": {
    "collapsed": false
   },
   "source": [
    "## Sorting\n",
    "\n",
    "Looking ahead to the idea that frequency analysis will allow us to make better guesses when trying to decrypt messages, we would like to be able to match up the frequencies in our text to the known frequencies of letters in the English language. To do that, it will be useful to sort the letter frequencies from most frequent to least frequent. (For example, the most frequent letter in a large body of text is usually \"E\".)\n",
    "\n",
    "The only real disadvantage of dictionaries (at least in this context) is that they are not super easy to sort based on their values.\n",
    "\n",
    "To see why, let's list the values:"
   ]
  },
  {
   "cell_type": "code",
   "execution_count": 24,
   "metadata": {
    "collapsed": false
   },
   "outputs": [
    {
     "data": {
      "text/plain": [
       "dict_values([0, 0, 0, 0, 4, 0, 0, 1, 1, 0, 0, 0, 1, 0, 1, 0, 0, 1, 2, 2, 0, 0, 0, 1, 0, 0])"
      ]
     },
     "execution_count": 24,
     "metadata": {
     },
     "output_type": "execute_result"
    }
   ],
   "source": [
    "test_analysis_count.values()"
   ]
  },
  {
   "cell_type": "markdown",
   "metadata": {
    "collapsed": false
   },
   "source": [
    "We can sort these with the `sorted` function:"
   ]
  },
  {
   "cell_type": "code",
   "execution_count": 25,
   "metadata": {
    "collapsed": false
   },
   "outputs": [
    {
     "data": {
      "text/plain": [
       "[0, 0, 0, 0, 0, 0, 0, 0, 0, 0, 0, 0, 0, 0, 0, 0, 0, 1, 1, 1, 1, 1, 1, 2, 2, 4]"
      ]
     },
     "execution_count": 25,
     "metadata": {
     },
     "output_type": "execute_result"
    }
   ],
   "source": [
    "sorted(test_analysis_count.values())"
   ]
  },
  {
   "cell_type": "markdown",
   "metadata": {
    "collapsed": false
   },
   "source": [
    "Of course, we will probably want the result in descending order instead of ascending order. We can set the `reverse` argument to `True`:"
   ]
  },
  {
   "cell_type": "code",
   "execution_count": 26,
   "metadata": {
    "collapsed": false
   },
   "outputs": [
    {
     "data": {
      "text/plain": [
       "[4, 2, 2, 1, 1, 1, 1, 1, 1, 0, 0, 0, 0, 0, 0, 0, 0, 0, 0, 0, 0, 0, 0, 0, 0, 0]"
      ]
     },
     "execution_count": 26,
     "metadata": {
     },
     "output_type": "execute_result"
    }
   ],
   "source": [
    "sorted(test_analysis_count.values(), reverse = True)"
   ]
  },
  {
   "cell_type": "markdown",
   "metadata": {
    "collapsed": false
   },
   "source": [
    "Great, so now the values are sorted. But there's a huge problem: we don't know which letters corresponded to these values!\n",
    "\n",
    "Instead of just getting the values, let's get the \"items\" from the dictionary. What are the items? They consist of all the key-value pairs:"
   ]
  },
  {
   "cell_type": "code",
   "execution_count": 27,
   "metadata": {
    "collapsed": false
   },
   "outputs": [
    {
     "data": {
      "text/plain": [
       "dict_items([('A', 0), ('B', 0), ('C', 0), ('D', 0), ('E', 4), ('F', 0), ('G', 0), ('H', 1), ('I', 1), ('J', 0), ('K', 0), ('L', 0), ('M', 1), ('N', 0), ('O', 1), ('P', 0), ('Q', 0), ('R', 1), ('S', 2), ('T', 2), ('U', 0), ('V', 0), ('W', 0), ('X', 1), ('Y', 0), ('Z', 0)])"
      ]
     },
     "execution_count": 27,
     "metadata": {
     },
     "output_type": "execute_result"
    }
   ],
   "source": [
    "test_analysis_count.items()"
   ]
  },
  {
   "cell_type": "markdown",
   "metadata": {
    "collapsed": false
   },
   "source": [
    "These pairs should now stay together when sorted.\n",
    "\n",
    "But now we have another problem. If we try to use `sorted` on a dictionary, it will sort by the key, not the value.\n",
    "\n",
    "The code to make this work is a little obscure. Take a look at the code cell below. The idea is that the `key` argument of the `sorted` function tells it how to do the sorting. Don't worry about the word `lambda` here. It would take us too far afield to try to explain why this word has to be there. You will not be required to build a function like this on your own. The takeaway here is that it finally works. We have a line of code that properly returns the set of letters in descending order of frequency."
   ]
  },
  {
   "cell_type": "code",
   "execution_count": 28,
   "metadata": {
    "collapsed": false
   },
   "outputs": [
    {
     "data": {
      "text/plain": [
       "[('E', 4),\n",
       " ('S', 2),\n",
       " ('T', 2),\n",
       " ('H', 1),\n",
       " ('I', 1),\n",
       " ('M', 1),\n",
       " ('O', 1),\n",
       " ('R', 1),\n",
       " ('X', 1),\n",
       " ('A', 0),\n",
       " ('B', 0),\n",
       " ('C', 0),\n",
       " ('D', 0),\n",
       " ('F', 0),\n",
       " ('G', 0),\n",
       " ('J', 0),\n",
       " ('K', 0),\n",
       " ('L', 0),\n",
       " ('N', 0),\n",
       " ('P', 0),\n",
       " ('Q', 0),\n",
       " ('U', 0),\n",
       " ('V', 0),\n",
       " ('W', 0),\n",
       " ('Y', 0),\n",
       " ('Z', 0)]"
      ]
     },
     "execution_count": 28,
     "metadata": {
     },
     "output_type": "execute_result"
    }
   ],
   "source": [
    "sorted(test_analysis_count.items(), key = lambda item: item[1], reverse = True)"
   ]
  },
  {
   "cell_type": "markdown",
   "metadata": {
    "collapsed": false
   },
   "source": [
    "### Exercise 5\n",
    "\n",
    "The result of the `sorted` function above is no longer a dictionary. How can we tell that?"
   ]
  },
  {
   "cell_type": "markdown",
   "metadata": {
    "collapsed": false
   },
   "source": [
    "<span style='color:#9c27b0'>_Please write up your answer here._</span>\n"
   ]
  },
  {
   "cell_type": "markdown",
   "metadata": {
    "collapsed": false
   },
   "source": [
    "*****"
   ]
  },
  {
   "cell_type": "markdown",
   "metadata": {
    "collapsed": false
   },
   "source": [
    "In light of the exercise above, we need to convert our final output from a list to a dictionary. The `dict` command accomplishes that:"
   ]
  },
  {
   "cell_type": "code",
   "execution_count": 29,
   "metadata": {
    "collapsed": false
   },
   "outputs": [
    {
     "data": {
      "text/plain": [
       "{'E': 4,\n",
       " 'S': 2,\n",
       " 'T': 2,\n",
       " 'H': 1,\n",
       " 'I': 1,\n",
       " 'M': 1,\n",
       " 'O': 1,\n",
       " 'R': 1,\n",
       " 'X': 1,\n",
       " 'A': 0,\n",
       " 'B': 0,\n",
       " 'C': 0,\n",
       " 'D': 0,\n",
       " 'F': 0,\n",
       " 'G': 0,\n",
       " 'J': 0,\n",
       " 'K': 0,\n",
       " 'L': 0,\n",
       " 'N': 0,\n",
       " 'P': 0,\n",
       " 'Q': 0,\n",
       " 'U': 0,\n",
       " 'V': 0,\n",
       " 'W': 0,\n",
       " 'Y': 0,\n",
       " 'Z': 0}"
      ]
     },
     "execution_count": 29,
     "metadata": {
     },
     "output_type": "execute_result"
    }
   ],
   "source": [
    "dict(sorted(test_analysis_count.items(), key = lambda item: item[1], reverse = True))"
   ]
  },
  {
   "cell_type": "markdown",
   "metadata": {
    "collapsed": false
   },
   "source": [
    "### Exercise 6\n",
    "\n",
    "Change the 1 in `item[1]` in the code cell below so that it reads `item[0]` instead. Can you figure out what that did? In other words, can you explain why you got the output you did? (Hint: how many \"items\" are there in each dictionary entry? Which item is 0 and which item is 1?)"
   ]
  },
  {
   "cell_type": "code",
   "execution_count": 30,
   "metadata": {
    "collapsed": false
   },
   "outputs": [
    {
     "data": {
      "text/plain": [
       "{'E': 4,\n",
       " 'S': 2,\n",
       " 'T': 2,\n",
       " 'H': 1,\n",
       " 'I': 1,\n",
       " 'M': 1,\n",
       " 'O': 1,\n",
       " 'R': 1,\n",
       " 'X': 1,\n",
       " 'A': 0,\n",
       " 'B': 0,\n",
       " 'C': 0,\n",
       " 'D': 0,\n",
       " 'F': 0,\n",
       " 'G': 0,\n",
       " 'J': 0,\n",
       " 'K': 0,\n",
       " 'L': 0,\n",
       " 'N': 0,\n",
       " 'P': 0,\n",
       " 'Q': 0,\n",
       " 'U': 0,\n",
       " 'V': 0,\n",
       " 'W': 0,\n",
       " 'Y': 0,\n",
       " 'Z': 0}"
      ]
     },
     "execution_count": 30,
     "metadata": {
     },
     "output_type": "execute_result"
    }
   ],
   "source": [
    "# Modify the code below\n",
    "dict(sorted(test_analysis_count.items(), key = lambda item: item[1], reverse = True))"
   ]
  },
  {
   "cell_type": "markdown",
   "metadata": {
    "collapsed": false
   },
   "source": [
    "<span style='color:#9c27b0'>_Please write up your answer here._</span>\n"
   ]
  },
  {
   "cell_type": "markdown",
   "metadata": {
    "collapsed": false
   },
   "source": [
    "*****"
   ]
  },
  {
   "cell_type": "markdown",
   "metadata": {
    "collapsed": false
   },
   "source": [
    "With all that done, we can now produce the next iteration of our frequency analysis function. Like we did with the output format before, we will also let the user decide if they want the output to be in alphabetical order (the default) or sorted by letter frequency."
   ]
  },
  {
   "cell_type": "code",
   "execution_count": 31,
   "metadata": {
    "collapsed": false
   },
   "outputs": [
   ],
   "source": [
    "def analyze_frequencies_test4(text, output_format = \"count\", sort = False):\n",
    "    # Store uppercase alphabet\n",
    "    alph_upper = string.ascii_uppercase\n",
    "    # Convert text to uppercase\n",
    "    text = text.upper()\n",
    "    # Initialize frequencies to 0\n",
    "    frequencies = {}\n",
    "    for letter in alph_upper:\n",
    "        frequencies[letter] = 0\n",
    "    # Go through the text and for each letter,\n",
    "    # add 1 to the value corresponding to that letter\n",
    "    for letter in text:\n",
    "        if letter in alph_upper:\n",
    "            frequencies[letter] += 1\n",
    "    # Check output_format argument\n",
    "    if output_format not in [\"count\", \"percent\"]:\n",
    "        print('The output format must be either \"count\" or \"percent\".')\n",
    "        return\n",
    "    elif output_format == \"percent\":\n",
    "        total_letters = sum(frequencies.values())\n",
    "        for letter in frequencies:\n",
    "            frequencies[letter] = round(100 * frequencies[letter]/total_letters, ndigits = 3)\n",
    "    # Check sort argument\n",
    "    if sort:\n",
    "        frequencies = dict(sorted(frequencies.items(), key = lambda item: item[1], reverse = True))\n",
    "    return frequencies"
   ]
  },
  {
   "cell_type": "code",
   "execution_count": 32,
   "metadata": {
    "collapsed": false
   },
   "outputs": [
    {
     "data": {
      "text/plain": [
       "{'A': 0,\n",
       " 'B': 0,\n",
       " 'C': 0,\n",
       " 'D': 0,\n",
       " 'E': 4,\n",
       " 'F': 0,\n",
       " 'G': 0,\n",
       " 'H': 1,\n",
       " 'I': 1,\n",
       " 'J': 0,\n",
       " 'K': 0,\n",
       " 'L': 0,\n",
       " 'M': 1,\n",
       " 'N': 0,\n",
       " 'O': 1,\n",
       " 'P': 0,\n",
       " 'Q': 0,\n",
       " 'R': 1,\n",
       " 'S': 2,\n",
       " 'T': 2,\n",
       " 'U': 0,\n",
       " 'V': 0,\n",
       " 'W': 0,\n",
       " 'X': 1,\n",
       " 'Y': 0,\n",
       " 'Z': 0}"
      ]
     },
     "execution_count": 32,
     "metadata": {
     },
     "output_type": "execute_result"
    }
   ],
   "source": [
    "analyze_frequencies_test4(\"Here is some text!\")"
   ]
  },
  {
   "cell_type": "code",
   "execution_count": 33,
   "metadata": {
    "collapsed": false
   },
   "outputs": [
    {
     "data": {
      "text/plain": [
       "{'E': 4,\n",
       " 'S': 2,\n",
       " 'T': 2,\n",
       " 'H': 1,\n",
       " 'I': 1,\n",
       " 'M': 1,\n",
       " 'O': 1,\n",
       " 'R': 1,\n",
       " 'X': 1,\n",
       " 'A': 0,\n",
       " 'B': 0,\n",
       " 'C': 0,\n",
       " 'D': 0,\n",
       " 'F': 0,\n",
       " 'G': 0,\n",
       " 'J': 0,\n",
       " 'K': 0,\n",
       " 'L': 0,\n",
       " 'N': 0,\n",
       " 'P': 0,\n",
       " 'Q': 0,\n",
       " 'U': 0,\n",
       " 'V': 0,\n",
       " 'W': 0,\n",
       " 'Y': 0,\n",
       " 'Z': 0}"
      ]
     },
     "execution_count": 33,
     "metadata": {
     },
     "output_type": "execute_result"
    }
   ],
   "source": [
    "analyze_frequencies_test4(\"Here is some text!\", sort = True)"
   ]
  },
  {
   "cell_type": "code",
   "execution_count": 34,
   "metadata": {
    "collapsed": false
   },
   "outputs": [
    {
     "data": {
      "text/plain": [
       "{'E': 28.571,\n",
       " 'S': 14.286,\n",
       " 'T': 14.286,\n",
       " 'H': 7.143,\n",
       " 'I': 7.143,\n",
       " 'M': 7.143,\n",
       " 'O': 7.143,\n",
       " 'R': 7.143,\n",
       " 'X': 7.143,\n",
       " 'A': 0.0,\n",
       " 'B': 0.0,\n",
       " 'C': 0.0,\n",
       " 'D': 0.0,\n",
       " 'F': 0.0,\n",
       " 'G': 0.0,\n",
       " 'J': 0.0,\n",
       " 'K': 0.0,\n",
       " 'L': 0.0,\n",
       " 'N': 0.0,\n",
       " 'P': 0.0,\n",
       " 'Q': 0.0,\n",
       " 'U': 0.0,\n",
       " 'V': 0.0,\n",
       " 'W': 0.0,\n",
       " 'Y': 0.0,\n",
       " 'Z': 0.0}"
      ]
     },
     "execution_count": 34,
     "metadata": {
     },
     "output_type": "execute_result"
    }
   ],
   "source": [
    "analyze_frequencies_test4(\"Here is some text!\", output_format = \"percent\", sort = True)"
   ]
  },
  {
   "cell_type": "markdown",
   "metadata": {
    "collapsed": false
   },
   "source": [
    "## Plotting the results\n",
    "\n",
    "Once we have calculated the letter frequencies and stored them in a dictionary, we can make a bar chart to visualize the letter distribution.\n",
    "\n",
    "There are many ways to create plots in Python, and this module is not the place to get into it. To keep things simple, we'll import a common plotting library called PyPlot (part of Matplotlib). The abbreviation `plt` is standard. (This is called using an \"alias\". It saves us from having to type `matplotlib.pyplot` in front of every plotting command.)"
   ]
  },
  {
   "cell_type": "code",
   "execution_count": 35,
   "metadata": {
    "collapsed": false
   },
   "outputs": [
   ],
   "source": [
    "import matplotlib.pyplot as plt"
   ]
  },
  {
   "cell_type": "markdown",
   "metadata": {
    "collapsed": false
   },
   "source": [
    "The function below is full of mystery. Explaining it all would be more complicated than it's worth. (If you really want to know, [here's a link](https://stackoverflow.com/questions/63804769/what-does-the-in-zip-and-d-items-doing).) Let's just sit back and enjoy the pretty pictures."
   ]
  },
  {
   "cell_type": "code",
   "execution_count": 36,
   "metadata": {
    "collapsed": false
   },
   "outputs": [
   ],
   "source": [
    "def freq_bar(letter_frequencies):\n",
    "    plt.bar(*zip(*letter_frequencies.items()))\n",
    "    plt.show()"
   ]
  },
  {
   "cell_type": "code",
   "execution_count": 37,
   "metadata": {
    "collapsed": false
   },
   "outputs": [
    {
     "data": {
      "image/png": "[encoded data removed]",
      "text/plain": [
       "<Figure size 864x504 with 1 Axes>"
      ]
     },
     "execution_count": 37,
     "metadata": {
      "image/png": {
       "height": 411,
       "width": 706
      },
      "needs_background": "light"
     },
     "output_type": "execute_result"
    }
   ],
   "source": [
    "freq_bar(test_analysis_count)"
   ]
  },
  {
   "cell_type": "code",
   "execution_count": 38,
   "metadata": {
    "collapsed": false
   },
   "outputs": [
    {
     "data": {
      "image/png": "[encoded data removed]",
      "text/plain": [
       "<Figure size 864x504 with 1 Axes>"
      ]
     },
     "execution_count": 38,
     "metadata": {
      "image/png": {
       "height": 411,
       "width": 703
      },
      "needs_background": "light"
     },
     "output_type": "execute_result"
    }
   ],
   "source": [
    "freq_bar(test_analysis_percent)"
   ]
  },
  {
   "cell_type": "markdown",
   "metadata": {
    "collapsed": false
   },
   "source": [
    "When doing cryptanalysis, we'll want to know the usual distribution of letters in English text. The numbers in the dictionary below come from the Wikipedia page on [letter frequency](https://en.wikipedia.org/wiki/Letter_frequency)."
   ]
  },
  {
   "cell_type": "code",
   "execution_count": 39,
   "metadata": {
    "collapsed": false
   },
   "outputs": [
   ],
   "source": [
    "ENGLISH_LETTER_FREQ = {\n",
    "    \"A\": 8.167,\n",
    "    \"B\": 1.492,\n",
    "    \"C\": 2.782,\n",
    "    \"D\": 4.253,\n",
    "    \"E\": 12.702,\n",
    "    \"F\": 2.228,\n",
    "    \"G\": 2.015,\n",
    "    \"H\": 6.094,\n",
    "    \"I\": 6.966,\n",
    "    \"J\": 0.153,\n",
    "    \"K\": 0.772,\n",
    "    \"L\": 4.025,\n",
    "    \"M\": 2.406,\n",
    "    \"N\": 6.749,\n",
    "    \"O\": 7.507,\n",
    "    \"P\": 1.929,\n",
    "    \"Q\": 0.095,\n",
    "    \"R\": 5.987,\n",
    "    \"S\": 6.327,\n",
    "    \"T\": 9.056,\n",
    "    \"U\": 2.758,\n",
    "    \"V\": 0.978,\n",
    "    \"W\": 2.360,\n",
    "    \"X\": 0.150,\n",
    "    \"Y\": 1.974,\n",
    "    \"Z\": 0.074\n",
    "}"
   ]
  },
  {
   "cell_type": "code",
   "execution_count": 40,
   "metadata": {
    "collapsed": false
   },
   "outputs": [
    {
     "data": {
      "image/png": "[encoded data removed]",
      "text/plain": [
       "<Figure size 864x504 with 1 Axes>"
      ]
     },
     "execution_count": 40,
     "metadata": {
      "image/png": {
       "height": 411,
       "width": 703
      },
      "needs_background": "light"
     },
     "output_type": "execute_result"
    }
   ],
   "source": [
    "freq_bar(ENGLISH_LETTER_FREQ)"
   ]
  },
  {
   "cell_type": "code",
   "execution_count": 41,
   "metadata": {
    "collapsed": false
   },
   "outputs": [
   ],
   "source": [
    "ENGLISH_LETTER_FREQ_SORT = dict(sorted(ENGLISH_LETTER_FREQ.items(), key = lambda item: item[1], reverse = True))"
   ]
  },
  {
   "cell_type": "code",
   "execution_count": 42,
   "metadata": {
    "collapsed": false
   },
   "outputs": [
    {
     "data": {
      "image/png": "[encoded data removed]",
      "text/plain": [
       "<Figure size 864x504 with 1 Axes>"
      ]
     },
     "execution_count": 42,
     "metadata": {
      "image/png": {
       "height": 411,
       "width": 703
      },
      "needs_background": "light"
     },
     "output_type": "execute_result"
    }
   ],
   "source": [
    "freq_bar(ENGLISH_LETTER_FREQ_SORT)"
   ]
  },
  {
   "cell_type": "markdown",
   "metadata": {
    "collapsed": false
   },
   "source": [
    "Let's incorporate bar graphs into our frequency analysis function. The final version of the function (I promise!) appears below. The only change is that we've added the `freq_bar` function to produce a bar graph in addition to the dictionary of frequency values."
   ]
  },
  {
   "cell_type": "code",
   "execution_count": 43,
   "metadata": {
    "collapsed": false
   },
   "outputs": [
   ],
   "source": [
    "def analyze_frequencies(text, output_format = \"count\", sort = False):\n",
    "    # Store uppercase alphabet\n",
    "    alph_upper = string.ascii_uppercase\n",
    "    # Convert text to uppercase\n",
    "    text = text.upper()\n",
    "    # Initialize frequencies to 0\n",
    "    frequencies = {}\n",
    "    for letter in alph_upper:\n",
    "        frequencies[letter] = 0\n",
    "    # Go through the text and for each letter,\n",
    "    # add 1 to the value corresponding to that letter\n",
    "    for letter in text:\n",
    "        if letter in alph_upper:\n",
    "            frequencies[letter] += 1\n",
    "    # Check output_format argument\n",
    "    if output_format not in [\"count\", \"percent\"]:\n",
    "        print('The output format must be either \"count\" or \"percent\".')\n",
    "        return\n",
    "    elif output_format == \"percent\":\n",
    "        total_letters = sum(frequencies.values())\n",
    "        for letter in frequencies:\n",
    "            frequencies[letter] = round(100 * frequencies[letter]/total_letters, ndigits = 3)\n",
    "    # Check sort argument\n",
    "    if sort:\n",
    "        frequencies = dict(sorted(frequencies.items(), key = lambda item: item[1], reverse = True))\n",
    "    print(frequencies)\n",
    "    # Create bar graph\n",
    "    freq_bar(frequencies)"
   ]
  },
  {
   "cell_type": "code",
   "execution_count": 44,
   "metadata": {
    "collapsed": false
   },
   "outputs": [
    {
     "name": "stdout",
     "output_type": "stream",
     "text": [
      "{'A': 0, 'B': 0, 'C': 0, 'D': 0, 'E': 4, 'F': 0, 'G': 0, 'H': 1, 'I': 1, 'J': 0, 'K': 0, 'L': 0, 'M': 1, 'N': 0, 'O': 1, 'P': 0, 'Q': 0, 'R': 1, 'S': 2, 'T': 2, 'U': 0, 'V': 0, 'W': 0, 'X': 1, 'Y': 0, 'Z': 0}\n"
     ]
    },
    {
     "data": {
      "image/png": "[encoded data removed]",
      "text/plain": [
       "<Figure size 864x504 with 1 Axes>"
      ]
     },
     "execution_count": 44,
     "metadata": {
      "image/png": {
       "height": 411,
       "width": 706
      },
      "needs_background": "light"
     },
     "output_type": "execute_result"
    }
   ],
   "source": [
    "analyze_frequencies(\"Here is some text!\")"
   ]
  },
  {
   "cell_type": "code",
   "execution_count": 45,
   "metadata": {
    "collapsed": false
   },
   "outputs": [
    {
     "name": "stdout",
     "output_type": "stream",
     "text": [
      "{'E': 28.571, 'S': 14.286, 'T': 14.286, 'H': 7.143, 'I': 7.143, 'M': 7.143, 'O': 7.143, 'R': 7.143, 'X': 7.143, 'A': 0.0, 'B': 0.0, 'C': 0.0, 'D': 0.0, 'F': 0.0, 'G': 0.0, 'J': 0.0, 'K': 0.0, 'L': 0.0, 'N': 0.0, 'P': 0.0, 'Q': 0.0, 'U': 0.0, 'V': 0.0, 'W': 0.0, 'Y': 0.0, 'Z': 0.0}\n"
     ]
    },
    {
     "data": {
      "image/png": "[encoded data removed]",
      "text/plain": [
       "<Figure size 864x504 with 1 Axes>"
      ]
     },
     "execution_count": 45,
     "metadata": {
      "image/png": {
       "height": 411,
       "width": 703
      },
      "needs_background": "light"
     },
     "output_type": "execute_result"
    }
   ],
   "source": [
    "analyze_frequencies(\"Here is some text!\", output_format = \"percent\", sort = True)"
   ]
  },
  {
   "cell_type": "markdown",
   "metadata": {
    "collapsed": false
   },
   "source": [
    "## Analyzing longer texts\n",
    "\n",
    "Nothing prevents us from using our new function on longer pieces of text. For example, printed below is the very informative text of the Wikipedia page on [\"Toilet paper orientation\"](https://en.wikipedia.org/wiki/Toilet_paper_orientation). Since there are both apostrophes and double quotes in the article, we have to use triple (!) quotes to define this string."
   ]
  },
  {
   "cell_type": "code",
   "execution_count": 46,
   "metadata": {
    "collapsed": false
   },
   "outputs": [
   ],
   "source": [
    "toilet_paper = \"\"\"\n",
    "Some toilet roll holders or dispensers allow the toilet paper to hang in front of (over) or behind (under) the roll when it is placed parallel to the wall. This divides opinions about which orientation is better. Arguments range from aesthetics, hospitality, and cleanliness to paper conservation, ease of detaching sheets, and compatibility with pets.\n",
    "\n",
    "The US advice column Ask Ann Landers reported that the subject was the most controversial issue in the column's history and, at 15,000 letters in 1986, provoked the highest number of responses. Some writers have proposed that preference for one orientation over the other may have connections to age, sex, or political philosophy, and survey evidence has shown a correlation with socioeconomic status.\n",
    "\n",
    "The case study of \"toilet paper orientation\" is a widely used teaching tool in instruction sociology students in the practice of social constructionism.\n",
    "\n",
    "Arguments\n",
    "\n",
    "The main reasons given by people to explain why they hang their toilet paper a given way are ease of grabbing and habit.\n",
    "\n",
    "The over position reduces the risk of accidentally brushing the wall or cabinet with one's knuckles, potentially transferring grime and germs; makes it easier to visually locate and to grasp the loose end; gives the option to fold over the last sheet to show that the room has been cleaned; and is generally the intended direction of viewing for the manufacturer's branding, so patterned toilet paper looks better this way.\n",
    "\n",
    "The under position provides a tidier appearance, in that the loose end can be more hidden from view; reduces the risk of a toddler or a house pet such as a cat unrolling the toilet paper when batting at the roll; and in a recreational vehicle may reduce unrolling during driving. Partisans have claimed that each method makes it easier to tear the toilet paper on a perforated sheet boundary.\n",
    "\n",
    "The over position is shown in illustrations with the first patents for a free-hanging toilet-roll holders, issued in 1891.\n",
    "\n",
    "Various toilet paper dispensers are available which avoid the question of over or under orientation; for example, single sheet dispensers, jumbo roll dispensers in which the toilet roll is perpendicular to the wall, and twin roll dispensers. Swivelling toilet paper dispensers have been developed which allow the paper to be unrolled in either direction.\n",
    "\n",
    "Public opinion\n",
    "\n",
    "In various surveys, around 70% of people prefer the over position. In a survey of 1,000 Americans, Cottonelle found that \"overs\" are more likely than \"unders\" to notice a roll's direction (74 percent), to be annoyed when the direction is \"incorrect\" (24 percent), and to have flipped the direction at a friend's home (27 percent). According to W. C. Privy's Original Bathroom Companion, Number 2, \"By more than 4 to 1, older folks prefer to have their toilet paper dispense over the front.\" The same claim is made by James Buckley's The Bathroom Companion for people older than 50. Toilet paper orientation is sometimes mentioned as a hurdle for married couples. The issue may also arise in businesses and public places. At the Amundsen–Scott Research Station at the South Pole, complaints have been raised over which way to install toilet paper. It is unclear if one orientation is more economical than the other. The Centralian Advocate attributes a claim to Planet Green that over saves on paper usage.\n",
    "\n",
    "Uses in social studies\n",
    "\n",
    "The case study of \"toilet paper orientation\" is an important teaching tool in instruction sociology students in the practice of social constructionism.\n",
    "\n",
    "In the article \"Bathroom Politics: Introducing Students to Sociological Thinking from the Bottom Up\", Eastern Institute of Technology sociology professor Edgar Alan Burns describes some reasons toilet paper politics is worthy of examination. On the first day of Burns' introductory course in sociology, he asks his students, \"Which way do you think a roll of toilet paper should hang?\" In the following fifty minutes, the students examine why they picked their answers, exploring the social construction of \"rules and practices which they have never consciously thought about before\". Burns' activity has been adopted by a social psychology course at the University of Notre Dame, where it is used to illustrate the principles of Berger and Luckmann's 1966 classic The Social Construction of Reality.\n",
    "\n",
    "Christopher Peterson, a professor of psychology at the University of Michigan, classifies the choice of toilet paper orientation under \"tastes, preferences, and interests\" as opposed to either values or \"attitudes, traits, norms, and needs\". Other personal interests include one's favorite cola or baseball team. Interests are an important part of identity; one expects and prefers that different people have different interests, which serves one's \"sense of uniqueness\". Differences in interests usually lead at most to teasing and gentle chiding. For most people, interests do not cause the serious divisions caused by conflicts of values; a possible exception is what Peterson calls \"the 'get a life' folks among us\" who elevate interests into moral issues.\n",
    "\n",
    "Morton Ann Gernsbacher, a professor of psychology at the University of Wisconsin–Madison, compares the orientation of toilet paper to the orientation of cutlery in a dishwasher, the choice of which drawer in a chest of drawers to place one's socks, and the order of shampooing one's hair and lathering one's body in the shower. In each choice, there is a prototypical solution chosen by the majority, and it is tempting to offer simplistic explanations of how the minority must be different. She warns that neuroimaging experiments—which as of 2007 were beginning to probe behaviors from mental rotation and facial expressions to grocery shopping and tickling—must strive to avoid such cultural bias and stereotypes.\n",
    "\n",
    "In his book Conversational Capital, Bertrand Cesvet gives toilet paper placement as an example of ritualized behavior—one of the ways designers and marketers can create a memorable experience around a product that leads to word-of-mouth momentum. Cesvet's other examples include shaking a box of Tic Tacs and dissecting Oreo cookies.\n",
    "\"\"\""
   ]
  },
  {
   "cell_type": "code",
   "execution_count": 47,
   "metadata": {
    "collapsed": false
   },
   "outputs": [
    {
     "name": "stdout",
     "output_type": "stream",
     "text": [
      "{'A': 361, 'B': 62, 'C': 185, 'D': 153, 'E': 615, 'F': 94, 'G': 74, 'H': 218, 'I': 403, 'J': 4, 'K': 24, 'L': 211, 'M': 93, 'N': 358, 'O': 450, 'P': 161, 'Q': 2, 'R': 332, 'S': 375, 'T': 470, 'U': 120, 'V': 66, 'W': 55, 'X': 15, 'Y': 69, 'Z': 1}\n"
     ]
    },
    {
     "data": {
      "image/png": "[encoded data removed]",
      "text/plain": [
       "<Figure size 864x504 with 1 Axes>"
      ]
     },
     "execution_count": 47,
     "metadata": {
      "image/png": {
       "height": 411,
       "width": 710
      },
      "needs_background": "light"
     },
     "output_type": "execute_result"
    }
   ],
   "source": [
    "analyze_frequencies(toilet_paper)"
   ]
  },
  {
   "cell_type": "code",
   "execution_count": 48,
   "metadata": {
    "collapsed": false
   },
   "outputs": [
    {
     "name": "stdout",
     "output_type": "stream",
     "text": [
      "{'E': 12.372, 'T': 9.455, 'O': 9.053, 'I': 8.107, 'S': 7.544, 'A': 7.262, 'N': 7.202, 'R': 6.679, 'H': 4.385, 'L': 4.245, 'C': 3.722, 'P': 3.239, 'D': 3.078, 'U': 2.414, 'F': 1.891, 'M': 1.871, 'G': 1.489, 'Y': 1.388, 'V': 1.328, 'B': 1.247, 'W': 1.106, 'K': 0.483, 'X': 0.302, 'J': 0.08, 'Q': 0.04, 'Z': 0.02}\n"
     ]
    },
    {
     "data": {
      "image/png": "[encoded data removed]",
      "text/plain": [
       "<Figure size 864x504 with 1 Axes>"
      ]
     },
     "execution_count": 48,
     "metadata": {
      "image/png": {
       "height": 411,
       "width": 703
      },
      "needs_background": "light"
     },
     "output_type": "execute_result"
    }
   ],
   "source": [
    "analyze_frequencies(toilet_paper, output_format = \"percent\", sort = True)"
   ]
  },
  {
   "cell_type": "markdown",
   "metadata": {
    "collapsed": false
   },
   "source": [
    "### Exercise 7\n",
    "\n",
    "Find a long-ish piece of text somewhere on the web. Copy and paste it into the code cell below (inside the triple quotes). Then, perform a frequency analysis of the text, both by count and by percent. The percent one should be sorted. "
   ]
  },
  {
   "cell_type": "code",
   "execution_count": 49,
   "metadata": {
    "collapsed": false
   },
   "outputs": [
   ],
   "source": [
    "my_text = \"\"\"\n",
    "COPY AND PASTE YOUR TEXT HERE\n",
    "\"\"\""
   ]
  },
  {
   "cell_type": "code",
   "execution_count": 50,
   "metadata": {
    "collapsed": false
   },
   "outputs": [
   ],
   "source": [
    "# Add code here to produce a frequency analysis of your text by count"
   ]
  },
  {
   "cell_type": "code",
   "execution_count": 51,
   "metadata": {
    "collapsed": false
   },
   "outputs": [
   ],
   "source": [
    "# Add code here to produce a sorted frequency analysis of your text by percent"
   ]
  },
  {
   "cell_type": "markdown",
   "metadata": {
    "collapsed": false
   },
   "source": [
    "## Conclusion\n",
    "\n",
    "Frequency analysis is relatively easy to code in Python. The automation of this otherwise tedious task will be greatly beneficial in the future when we apply this technique to ciphertext. By matching frequencies, we will be able to make educated guesses about which plaintext letters are represented by which ciphertext letters."
   ]
  }
 ],
 "metadata": {
  "kernelspec": {
   "argv": [
    "/usr/bin/python3",
    "-m",
    "ipykernel",
    "--HistoryManager.enabled=False",
    "--matplotlib=inline",
    "-c",
    "%config InlineBackend.figure_formats = set(['retina'])\nimport matplotlib; matplotlib.rcParams['figure.figsize'] = (12, 7)",
    "-f",
    "{connection_file}"
   ],
   "display_name": "Python 3 (system-wide)",
   "env": {
   },
   "language": "python",
   "metadata": {
    "cocalc": {
     "description": "Python 3 programming language",
     "priority": 100,
     "url": "https://www.python.org/"
    }
   },
   "name": "python3",
   "resource_dir": "/ext/jupyter/kernels/python3"
  },
  "language_info": {
   "codemirror_mode": {
    "name": "ipython",
    "version": 3
   },
   "file_extension": ".py",
   "mimetype": "text/x-python",
   "name": "python",
   "nbconvert_exporter": "python",
   "pygments_lexer": "ipython3",
   "version": "3.8.10"
  }
 },
 "nbformat": 4,
 "nbformat_minor": 4
}