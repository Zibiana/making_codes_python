{
 "cells": [
  {
   "cell_type": "code",
   "execution_count": 1,
   "metadata": {
    "collapsed": false
   },
   "outputs": [
   ],
   "source": [
    "### Functions we need ###\n",
    "\n",
    "def shift_encrypt_letter(plaintext_letter, key):\n",
    "    # Check if plaintext_letter is uppercase\n",
    "    if ord(plaintext_letter) >= 65 and ord(plaintext_letter) <= 90:\n",
    "        plaintext_letter = plaintext_letter.lower() # Just replace the uppercase with lowercase\n",
    "    # Check if plaintext_letter is lowercase\n",
    "    if ord(plaintext_letter) >= 97 and ord(plaintext_letter) <= 122:\n",
    "        # Define constant that will allow us to move the letter codes by 97\n",
    "        MOVE_NUMBER = 97\n",
    "        # Convert input to ASCII, move range to 0-25, shift by key mod 26,\n",
    "        # move back to original range in ASCII table, and convert to an uppercase letter.\n",
    "        plaintext_ascii = ord(plaintext_letter)\n",
    "        plaintext_ascii_moved = plaintext_ascii - MOVE_NUMBER\n",
    "        ciphertext_ascii_moved = (plaintext_ascii_moved + key) % 26\n",
    "        ciphertext_ascii = ciphertext_ascii_moved + MOVE_NUMBER\n",
    "        ciphertext_letter = chr(ciphertext_ascii)\n",
    "        ciphertext_letter_upper = ciphertext_letter.upper()\n",
    "        return(ciphertext_letter_upper)\n",
    "    else:\n",
    "        # If we get to this spot, we know we don't have a letter at all, so just return the character as is\n",
    "        return(plaintext_letter)\n",
    "\n",
    "def shift_encrypt(plaintext, key):\n",
    "    ciphertext = \"\"\n",
    "    for letter in plaintext:\n",
    "        ciphertext_letter = shift_encrypt_letter(letter, key)\n",
    "        ciphertext = ciphertext + ciphertext_letter\n",
    "    return(ciphertext)\n",
    "\n",
    "def shift_decrypt(ciphertext, key):\n",
    "    plaintext = shift_encrypt(ciphertext, -key)\n",
    "    return(plaintext.lower())"
   ]
  },
  {
   "cell_type": "code",
   "execution_count": 2,
   "metadata": {
    "collapsed": false
   },
   "outputs": [
   ],
   "source": [
    "# Can we decrypt \"UFXAAWEXUWQKAGIQDQMNXQFASQFKAGDRGZOFUAZFAIADW\"?"
   ]
  },
  {
   "cell_type": "code",
   "execution_count": 3,
   "metadata": {
    "collapsed": false
   },
   "outputs": [
   ],
   "source": [
    "def brute_shift_decrypt(ciphertext):\n",
    "    for key in range(1, 26):\n",
    "        plaintext = shift_decrypt(ciphertext, key)\n",
    "        print(\"Key = \" + str(key) + \": \" + plaintext)"
   ]
  },
  {
   "cell_type": "code",
   "execution_count": 4,
   "metadata": {
    "collapsed": false
   },
   "outputs": [
    {
     "name": "stdout",
     "output_type": "stream",
     "text": [
      "Key = 1: tewzzvdwtvpjzfhpcplmwpezrpejzfcqfynetzyezhzcv\n",
      "Key = 2: sdvyyucvsuoiyegoboklvodyqodiyebpexmdsyxdygybu\n",
      "Key = 3: rcuxxtburtnhxdfnanjkuncxpnchxdaodwlcrxwcxfxat\n",
      "Key = 4: qbtwwsatqsmgwcemzmijtmbwombgwczncvkbqwvbwewzs\n",
      "Key = 5: pasvvrzsprlfvbdlylhislavnlafvbymbujapvuavdvyr\n",
      "Key = 6: ozruuqyroqkeuackxkghrkzumkzeuaxlatizoutzucuxq\n",
      "Key = 7: nyqttpxqnpjdtzbjwjfgqjytljydtzwkzshyntsytbtwp\n",
      "Key = 8: mxpssowpmoicsyaiviefpixskixcsyvjyrgxmsrxsasvo\n",
      "Key = 9: lworrnvolnhbrxzhuhdeohwrjhwbrxuixqfwlrqwrzrun\n",
      "Key = 10: kvnqqmunkmgaqwygtgcdngvqigvaqwthwpevkqpvqyqtm\n",
      "Key = 11: jumppltmjlfzpvxfsfbcmfuphfuzpvsgvodujpoupxpsl\n",
      "Key = 12: itlookslikeyouwereabletogetyourfunctiontowork\n",
      "Key = 13: hsknnjrkhjdxntvdqdzakdsnfdsxntqetmbshnmsnvnqj\n",
      "Key = 14: grjmmiqjgicwmsucpcyzjcrmecrwmspdslargmlrmumpi\n",
      "Key = 15: fqillhpifhbvlrtbobxyibqldbqvlrocrkzqflkqltloh\n",
      "Key = 16: ephkkgohegaukqsanawxhapkcapukqnbqjypekjpkskng\n",
      "Key = 17: dogjjfngdfztjprzmzvwgzojbzotjpmapixodjiojrjmf\n",
      "Key = 18: cnfiiemfceysioqylyuvfyniaynsiolzohwncihniqile\n",
      "Key = 19: bmehhdlebdxrhnpxkxtuexmhzxmrhnkyngvmbhgmhphkd\n",
      "Key = 20: aldggckdacwqgmowjwstdwlgywlqgmjxmfulagflgogjc\n",
      "Key = 21: zkcffbjczbvpflnvivrscvkfxvkpfliwletkzfekfnfib\n",
      "Key = 22: yjbeeaibyauoekmuhuqrbujewujoekhvkdsjyedjemeha\n",
      "Key = 23: xiaddzhaxztndjltgtpqatidvtindjgujcrixdcidldgz\n",
      "Key = 24: whzccygzwysmciksfsopzshcushmciftibqhwcbhckcfy\n",
      "Key = 25: vgybbxfyvxrlbhjrernoyrgbtrglbheshapgvbagbjbex\n"
     ]
    }
   ],
   "source": [
    "brute_shift_decrypt(\"UFXAAWEXUWQKAGIQDQMNXQFASQFKAGDRGZOFUAZFAIADW\")"
   ]
  },
  {
   "cell_type": "code",
   "execution_count": 0,
   "metadata": {
    "collapsed": false
   },
   "outputs": [
   ],
   "source": [
   ]
  },
  {
   "cell_type": "code",
   "execution_count": 7,
   "metadata": {
    "collapsed": false
   },
   "outputs": [
    {
     "data": {
      "text/plain": [
       "'MX EIB  WKG        LOCD   SK     GWZRF\\nBM ZEW  CQN        YQTUW  YP     YNQIX\\nWG OSL  XLH        IPN    QH     FSCNYW\\nNY INF  MAX        EKH    XO     HQQNLUKPGUU\\nSD AEX  GUR        XHGUA  RI     KNTRNO\\nLW FKC  YMI        RCBPU  GY     MQFUHGYOMXB\\nRC YCU  DRO        XIEXSR BS     DBZAM\\nMX EIB  WKG        COKCYX SK     QNEXARFF\\nBM ZEW  CQN        URTLPI YP     MSTI\\nWG OSL  XLH        ERWCNA QH     NOCZKSB\\nAI UNQ  XNXKQMABFY FHIRUH DB\\nYG TKN  RSYMNRL    ORSBER NL\\nZH ENAN CNN        QYSXQ  HNWIGY GB           AXNXF\\nZH ENAN CNN        QYSXQ  HNNIGY GUR          GMAXK  ZDB\\n'"
      ]
     },
     "execution_count": 7,
     "metadata": {
     },
     "output_type": "execute_result"
    }
   ],
   "source": [
    "text = \"\"\"MX EIB  WKG        LOCD   SK     GWZRF\n",
    "BM ZEW  CQN        YQTUW  YP     YNQIX\n",
    "WG OSL  XLH        IPN    QH     FSCNYW\n",
    "NY INF  MAX        EKH    XO     HQQNLUKPGUU\n",
    "SD AEX  GUR        XHGUA  RI     KNTRNO\n",
    "LW FKC  YMI        RCBPU  GY     MQFUHGYOMXB\n",
    "RC YCU  DRO        XIEXSR BS     DBZAM\n",
    "MX EIB  WKG        COKCYX SK     QNEXARFF\n",
    "BM ZEW  CQN        URTLPI YP     MSTI\n",
    "WG OSL  XLH        ERWCNA QH     NOCZKSB\n",
    "AI UNQ  XNXKQMABFY FHIRUH DB\n",
    "YG TKN  RSYMNRL    ORSBER NL\n",
    "ZH ENAN CNN        QYSXQ  HNWIGY GB           AXNXF\n",
    "ZH ENAN CNN        QYSXQ  HNNIGY GUR          GMAXK  ZDB\n",
    "\"\"\"\n",
    "text\n"
   ]
  },
  {
   "cell_type": "code",
   "execution_count": 8,
   "metadata": {
    "collapsed": false
   },
   "outputs": [
    {
     "data": {
      "text/plain": [
       "'MXEIBWKGLOCDSKGWZRFBMZEWCQNYQTUWYPYNQIXWGOSLXLHIPNQHFSCNYWNYINFMAXEKHXOHQQNLUKPGUUSDAEXGURXHGUARIKNTRNOLWFKCYMIRCBPUGYMQFUHGYOMXBRCYCUDROXIEXSRBSDBZAMMXEIBWKGCOKCYXSKQNEXARFFBMZEWCQNURTLPIYPMSTIWGOSLXLHERWCNAQHNOCZKSBAIUNQXNXKQMABFYFHIRUHDBYGTKNRSYMNRLORSBERNLZHENANCNNQYSXQHNWIGYGBAXNXFZHENANCNNQYSXQHNNIGYGURGMAXKZDB'"
      ]
     },
     "execution_count": 8,
     "metadata": {
     },
     "output_type": "execute_result"
    }
   ],
   "source": [
    "import re\n",
    "text_strip = re.sub(r\"\\s+\", \"\", text, flags=re.UNICODE)\n",
    "text_strip"
   ]
  }
 ],
 "metadata": {
  "kernelspec": {
   "display_name": "Python 3 (system-wide)",
   "language": "python",
   "metadata": {
    "cocalc": {
     "description": "Python 3 programming language",
     "priority": 100,
     "url": "https://www.python.org/"
    }
   },
   "name": "python3",
   "resource_dir": "/ext/jupyter/kernels/python3"
  },
  "language_info": {
   "codemirror_mode": {
    "name": "ipython",
    "version": 3
   },
   "file_extension": ".py",
   "mimetype": "text/x-python",
   "name": "python",
   "nbconvert_exporter": "python",
   "pygments_lexer": "ipython3",
   "version": "3.8.10"
  }
 },
 "nbformat": 4,
 "nbformat_minor": 4
}