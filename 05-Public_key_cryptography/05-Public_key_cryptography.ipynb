{
 "cells": [
  {
   "cell_type": "markdown",
   "metadata": {},
   "source": [
    "# Public key cryptography"
   ]
  },
  {
   "cell_type": "markdown",
   "metadata": {},
   "source": [
    "## Your name goes here. \\(Double\\-click on this cell to edit it.\\)\n",
    "\n",
    "Remember to hit Ctrl-Enter after editing any cell."
   ]
  },
  {
   "cell_type": "markdown",
   "metadata": {},
   "source": [
    "## Commands in python (re)introduced in this module\n",
    "\n",
    "---\n",
    "\n",
    "> pow()\n",
    "\n",
    "---\n",
    "\n",
    "### Recall commands/functions written for these modules\n",
    "\n",
    "---\n",
    "\n",
    "- convert_letter_to_number(\"a letter goes here\"), \n",
    "- convert_number_to_letter(a number goes here), \n",
    "- affine_encrypt_letter(\"a plaintext letter goes here\", key=a key goes here, m=a multiplier goes here), \n",
    "- affine_encrypt(\"a plaintext message goes here\", key=a key goes here, m=a multiplier goes here), \n",
    "- affine_decrypt(\"a ciphertext goes here\", key=a key goes here, m=a multiplier goes here)\n",
    "\n",
    "---\n",
    "\n"
   ]
  },
  {
   "cell_type": "markdown",
   "metadata": {},
   "source": [
    "## Math topics used in this module\n",
    "\n",
    "- Modular exponentiation \\(pg 73 in our Coursepack\\)\n",
    "- Commutativity\n",
    "\n"
   ]
  },
  {
   "cell_type": "markdown",
   "metadata": {},
   "source": [
    "## Objectives\n",
    "\n",
    "In this activity we will use Python to explore public key cryptography."
   ]
  },
  {
   "cell_type": "markdown",
   "metadata": {},
   "source": [
    "## Preliminaries\n",
    "Before working on the questions below, be sure to click in the code cell below and use Ctrl-Enter to run it."
   ]
  },
  {
   "cell_type": "code",
   "execution_count": 3,
   "metadata": {
    "collapsed": false,
    "jupyter": {
     "outputs_hidden": false
    }
   },
   "outputs": [],
   "source": [
    "##### Import libraries #####\n",
    "\n",
    "\n",
    "import math\n",
    "\n",
    "\n",
    "\n",
    "##### Helper functions #####\n",
    "\n",
    "\n",
    "### convert_letter_to_number(letter)\n",
    "### Converts a lowercase number to its value between 0 and 25\n",
    "### letter: string (a single lowercase letter)\n",
    "\n",
    "def convert_letter_to_number(letter):\n",
    "    # Define constant that will allow us to move the letter codes by 97\n",
    "    MOVE_NUMBER = 97\n",
    "    # Convert input to ASCII (97 to 122)\n",
    "    number_ascii = ord(letter)\n",
    "    # Move number to lie in the range 0 to 25\n",
    "    number = number_ascii - MOVE_NUMBER\n",
    "    return number\n",
    "\n",
    "\n",
    "### convert_number_to_letter(number)\n",
    "### Converts a number between 0 and 25 to its corresponding letter\n",
    "### number: integer (should be between 0 and 25)\n",
    "\n",
    "def convert_number_to_letter(number):\n",
    "    # Define constant that will allow us to move the letter codes by 97\n",
    "    MOVE_NUMBER = 97\n",
    "    # Move number to lie in the ASCII range 97 to 122\n",
    "    number_ascii = number + MOVE_NUMBER\n",
    "    # Convert number to letter\n",
    "    letter = chr(number_ascii)\n",
    "    return letter\n",
    "\n",
    "\n",
    "### affine_encrypt_letter(plaintext_letter, key, m)\n",
    "### Applies affine encrytpion to a plaintext letter p to produce ciphertext letter\n",
    "###     c = m*p + k mod 26\n",
    "### plaintext_letter: string (can be any character, but should be only a single character)\n",
    "### key: integer (between 1 and 25)\n",
    "### m: integer (relatively prime to 26)\n",
    "\n",
    "def affine_encrypt_letter(plaintext_letter, key, m = 1):\n",
    "    # Replace uppercase with lowercase\n",
    "    plaintext_letter = plaintext_letter.lower()\n",
    "    # Check if plaintext_letter is a lowercase letter\n",
    "    if ord(plaintext_letter) >= 97 and ord(plaintext_letter) <= 122:\n",
    "        plaintext_number = convert_letter_to_number(plaintext_letter)\n",
    "        ciphertext_number = (m* plaintext_number + key) % 26\n",
    "        ciphertext_letter = convert_number_to_letter(ciphertext_number)\n",
    "        return ciphertext_letter.upper()\n",
    "    else:\n",
    "        # If we get to this spot, we know we don't have a letter at all,\n",
    "        # so just return the character as is\n",
    "        return plaintext_letter\n",
    "\n",
    "\n",
    "\n",
    "##### Affine encryption/decryption functions #####\n",
    "\n",
    "\n",
    "### affine_encrypt(plaintext, key, m = 1)\n",
    "### Encrypts ciphertext using c = m*p + k mod 26.\n",
    "### plaintext: string\n",
    "### key: integer (the value of k in the linear congruence above, from 1 to 25)\n",
    "### m: integer (default value 1 results in shift encryption--should be relatively prime to 26)\n",
    "\n",
    "def affine_encrypt(plaintext, key, m = 1):\n",
    "    # Stop if m is not chosen appropriately\n",
    "    if math.gcd(m, 26) != 1:\n",
    "        print(\"The value of m must be relatively prime to 26!\")\n",
    "    else:\n",
    "        ciphertext = \"\"\n",
    "        for letter in plaintext:\n",
    "            ciphertext_letter = affine_encrypt_letter(letter, key, m)\n",
    "            ciphertext = ciphertext + ciphertext_letter\n",
    "        return ciphertext\n",
    "\n",
    "\n",
    "### affine_decrypt(ciphertext, key, m = 1)\n",
    "### Decrypts ciphertext encrypted using c = m*p + k mod 26.\n",
    "### ciphertext: string\n",
    "### key: integer (the value of k in the linear congruence above, from 1 to 25)\n",
    "### m: integer (default value 1 results in shift decryption--should be relatively prime to 26)\n",
    "\n",
    "def affine_decrypt(ciphertext, key, m = 1):\n",
    "    # Stop if m is not chosen appropriately\n",
    "    if math.gcd(m, 26) != 1:\n",
    "        print(\"The value of m must be relatively prime to 26!\")\n",
    "    else:\n",
    "        m_inv = pow(m, -1, mod = 26)\n",
    "        plaintext = affine_encrypt(ciphertext, -m_inv*key, m_inv)\n",
    "        return plaintext.lower()\n"
   ]
  },
  {
   "cell_type": "markdown",
   "metadata": {},
   "source": [
    "## The key distribution problem\n",
    "\n",
    "A major security flaw in any cryptographical scheme is the problem of making sure both parties have the same key. After all, if keys could be distributed securely, there would not be much need for encrypted messages, which could be distributed with the same level of security. Any risk of message interception is the exact same risk of key interception.\n",
    "\n",
    "Sure, sometimes keys can be shared one time in a secure space allowing for future communications to be encrypted. But what about situations where keys also have to be transmitted to faraway recipients?"
   ]
  },
  {
   "cell_type": "markdown",
   "metadata": {},
   "source": [
    "## The \"padlock\" analogy\n",
    "\n",
    "Imagine a physical key that fits a padlock that secures a physical box. If Alicia wants to send a secret object to Beto in that box, both Alicia and Beto will need copies of the key. If Alicia and Beto are lucky enough to have a secure way to obtain the same key initially, things will be okay for a while, at least until a new key is required. But what happens if Alicia and Beto are far away from each other and have no ability to meet to get a common key?\n",
    "\n",
    "One possible solution looks like the following. Suppose that both Alicia and Beto have their own padlocks with their own private keys. Then they can execute the following procedure:\n",
    "\n",
    "- Alicia puts the secret object in a box, locks it, and sends it to Beto.\n",
    "- Beto locks the box again with his lock and sends the box back to Alicia.\n",
    "- Alicia removes her lock and sends the box back to Beto.\n",
    "- Beto removes the final lock and accesses the secret object.\n",
    "\n",
    "This is called a \"double\" lock. What does this look like for encrypting a message?\n",
    "\n"
   ]
  },
  {
   "cell_type": "markdown",
   "metadata": {},
   "source": [
    "## Double lock with a cipher?\n",
    "\n",
    "Let's try out this double lock idea with a type of crypotgraphic protocol we've already studied, say an affine cipher."
   ]
  },
  {
   "cell_type": "markdown",
   "metadata": {},
   "source": [
    "### Question 1"
   ]
  },
  {
   "cell_type": "markdown",
   "metadata": {},
   "source": [
    "Encrypt a short message of your choice using the affine cipher\n",
    "$$\n",
    "C \\equiv 3P + 1 \\mod 26.\n",
    "$$\n",
    "Recall that you'll use the `affine_encrypt` function (see the code cell above).\n",
    "\n",
    "We'll call this \"Lock A\". Assign the result of this encryption to the variable `textA`."
   ]
  },
  {
   "cell_type": "code",
   "execution_count": 4,
   "metadata": {
    "collapsed": false,
    "jupyter": {
     "outputs_hidden": false
    }
   },
   "outputs": [],
   "source": [
    "# Add code here to encrypt a message using an affine cipher with key = 1 and m = 3.\n",
    "# Be sure to store the result in the variable textA\n",
    "\n",
    "# When you have created your code above, uncomment the line below (remove the hashtag) to print the result\n",
    "\n",
    "# textA"
   ]
  },
  {
   "cell_type": "markdown",
   "metadata": {},
   "source": [
    "### Question 2"
   ]
  },
  {
   "cell_type": "markdown",
   "metadata": {},
   "source": [
    "Encrypt `textA` using another affine cipher:\n",
    "$$\n",
    "C \\equiv 7P + 6 \\mod 26.\n",
    "$$\n",
    "\n",
    "We'll call this \"Lock B\". Assign the result of this encryption to the variable `textAB` (since we applied Lock A first, followed by Lock B)."
   ]
  },
  {
   "cell_type": "code",
   "execution_count": 15,
   "metadata": {
    "collapsed": false,
    "jupyter": {
     "outputs_hidden": false
    }
   },
   "outputs": [
    {
     "data": {
      "text/plain": [
       "1"
      ]
     },
     "execution_count": 15,
     "metadata": {},
     "output_type": "execute_result"
    }
   ],
   "source": [
    "# Add code here to encrypt textA using an affine cipher with key = 6 and m = 7.\n",
    "# Be sure to store the result in the variable textAB\n",
    "\n",
    "# When you have created your code above, uncomment the line below (remove the hashtag) to print the result\n",
    "\n",
    "# textAB"
   ]
  },
  {
   "cell_type": "markdown",
   "metadata": {},
   "source": [
    "*****"
   ]
  },
  {
   "cell_type": "markdown",
   "metadata": {},
   "source": [
    "Now we'll decrypt `textAB` by reversing the procedure. We'll need to apply `affine_decrypt` twice, once by unlocking Lock A (using Key A) and then by unlocking Lock B (using Key B). Does the order matter?"
   ]
  },
  {
   "cell_type": "markdown",
   "metadata": {},
   "source": [
    "### Question 3"
   ]
  },
  {
   "cell_type": "markdown",
   "metadata": {},
   "source": [
    "Start by decrypting `textAB` using Key B. Assign the result of this decryption to the variable `textABB`."
   ]
  },
  {
   "cell_type": "code",
   "execution_count": 6,
   "metadata": {
    "collapsed": false,
    "jupyter": {
     "outputs_hidden": false
    }
   },
   "outputs": [],
   "source": [
    "# Add code here to decrypt textAB using Key B.\n",
    "# Be sure to store the result in the variable textABB\n",
    "\n",
    "# When you have created your code above, uncomment the line below (remove the hashtag) to print the result\n",
    "\n",
    "# textABB"
   ]
  },
  {
   "cell_type": "markdown",
   "metadata": {},
   "source": [
    "Do you recognize the output `textABB`? What is it the same as?"
   ]
  },
  {
   "cell_type": "markdown",
   "metadata": {},
   "source": [
    "<span style='color:#9c27b0'>_Please write up your answer here._</span>\n"
   ]
  },
  {
   "cell_type": "markdown",
   "metadata": {},
   "source": [
    "### Question 4"
   ]
  },
  {
   "cell_type": "markdown",
   "metadata": {},
   "source": [
    "Now decrypt `textABB` using Key A. Assign the result of this decryption to the variable `textABBA`."
   ]
  },
  {
   "cell_type": "code",
   "execution_count": 7,
   "metadata": {
    "collapsed": false,
    "jupyter": {
     "outputs_hidden": false
    }
   },
   "outputs": [],
   "source": [
    "# Add code here to decrypt textABB using Key A.\n",
    "# Be sure to store the result in the variable textABBA\n",
    "\n",
    "# When you have created your code above, uncomment the line below (remove the hashtag) to print the result\n",
    "\n",
    "# textABBA"
   ]
  },
  {
   "cell_type": "markdown",
   "metadata": {},
   "source": [
    "Do you recognize the output `textABBA`? What is it the same as?"
   ]
  },
  {
   "cell_type": "markdown",
   "metadata": {},
   "source": [
    "<span style='color:#9c27b0'>_Please write up your answer here._</span>\n"
   ]
  },
  {
   "cell_type": "markdown",
   "metadata": {},
   "source": [
    "*****"
   ]
  },
  {
   "cell_type": "markdown",
   "metadata": {},
   "source": [
    "Now let's try decrypting using the other possible order."
   ]
  },
  {
   "cell_type": "markdown",
   "metadata": {},
   "source": [
    "### Question 5"
   ]
  },
  {
   "cell_type": "markdown",
   "metadata": {},
   "source": [
    "Decrypt `textAB`, but this time starting with Key A. Assign the result of this decryption to the variable `textABA`."
   ]
  },
  {
   "cell_type": "code",
   "execution_count": 8,
   "metadata": {
    "collapsed": false,
    "jupyter": {
     "outputs_hidden": false
    }
   },
   "outputs": [],
   "source": [
    "# Add code here to decrypt textAB using Key A.\n",
    "# Be sure to store the result in the variable textABA\n",
    "\n",
    "# When you have created your code above, uncomment the line below (remove the hashtag) to print the result\n",
    "\n",
    "# textABA"
   ]
  },
  {
   "cell_type": "markdown",
   "metadata": {},
   "source": [
    "### Question 6"
   ]
  },
  {
   "cell_type": "markdown",
   "metadata": {},
   "source": [
    "Finally, decrypt `textABA` using Key B. Assign the result of this decryption to the variable `textABAB`."
   ]
  },
  {
   "cell_type": "code",
   "execution_count": 9,
   "metadata": {
    "collapsed": false,
    "jupyter": {
     "outputs_hidden": false
    }
   },
   "outputs": [],
   "source": [
    "# Add code here to decrypt textABA using Key B.\n",
    "# Be sure to store the result in the variable textABAB\n",
    "\n",
    "# When you have created your code above, uncomment the line below (remove the hashtag) to print the result\n",
    "\n",
    "# textABAB"
   ]
  },
  {
   "cell_type": "markdown",
   "metadata": {},
   "source": [
    "### Question 7"
   ]
  },
  {
   "cell_type": "markdown",
   "metadata": {},
   "source": [
    "Did the order in which we \"unlocked\" the locks matter with the affine cipher? (The reason why this happens is a little technical, but give it a little thought. Why might the order matter?)"
   ]
  },
  {
   "cell_type": "markdown",
   "metadata": {},
   "source": [
    "<span style='color:#9c27b0'>_Please write up your answer here._</span>\n"
   ]
  },
  {
   "cell_type": "markdown",
   "metadata": {},
   "source": [
    "### Question 8"
   ]
  },
  {
   "cell_type": "markdown",
   "metadata": {},
   "source": [
    "Following the \"double lock\" strategy described above, would we obtain `textABAB` or `textABBA`? Why is that a problem for using the affine cipher as a double lock?"
   ]
  },
  {
   "cell_type": "markdown",
   "metadata": {},
   "source": [
    "<span style='color:#9c27b0'>_Please write up your answer here._</span>\n"
   ]
  },
  {
   "cell_type": "markdown",
   "metadata": {},
   "source": [
    "*****"
   ]
  },
  {
   "cell_type": "markdown",
   "metadata": {},
   "source": [
    "The problem described above is often called the \"socks and shoes\" problem. You put on your socks first and then your shoes. To remove these items of clothing, the only way to do it is to work backward, taking off the shoes first and then the socks.\n",
    "\n",
    "Well into the 20th century, all known cryptographic schemes followed the \"socks and shoes\" principle (except for very simple ones like a shift cipher, which, of course, are not suitable for secure crytography). They all had to be undone by reversing the steps. This made the \"double lock\" idea unfeasible."
   ]
  },
  {
   "cell_type": "markdown",
   "metadata": {},
   "source": [
    "## Diffie-Hellman-Merkle key exchange\n",
    "\n",
    "Be sure to watch the video here first:\n",
    "\n",
    "[Public key cryptography - Diffie-Hellman Key Exchange (full version)](https://youtu.be/YEBfamv-_do)\n",
    "\n",
    "The analogy with color mixing is a very helpful way of understanding the process. Let's explore how the math works.\n",
    "\n",
    "First, Alicia and Beto need to choose a prime number $p$. This number will be publicly known; it is not a secret. For purposes of exposition, suppose $p = 17$. \\(In reality, this prime will be much, much larger.\\) Next, Alicia and Beto need to decide on $g$ which will need to be a _unit_ mod 17, in other words, a number that is relatively prime to 17. \\(Of course, if we start with a prime number $p$, all possible choices of $g$ will be relatively prime to 17 as long as we don't pick 0 or 1.\\) Let's suppose $g = 3$. This number is also publicly known.\n",
    "\n",
    "Now, both Alicia and Beto need to choose their own separate private keys. These can be any numbers whatsoever. Say Alicia's private key is $a = 15$ and Beto's private key is $b = 13$.\n",
    "\n",
    "The important expression is\n",
    "\n",
    "$$\n",
    "g^{x} \\mod p\n",
    "$$\n",
    "\n",
    "where $g = 3$ and $p = 17$. We'll see how to use the exponent $x$ in a moment.\n",
    "\n",
    "Using the numbers in this example, we have\n",
    "\n",
    "$$\n",
    "3^{x} \\mod 17.\n",
    "$$\n",
    "\n",
    "Again, just as a reminder, every part of the above expression is public knowledge.\n",
    "\n",
    "Here's where the secret private keys play their part. Alicia uses her private key as the exponent first:\n",
    "\n",
    "$$\n",
    "3^{15} \\mod 17.\n",
    "$$\n",
    "\n",
    "In symbols,\n",
    "\n",
    "$$\n",
    "g^{a} \\mod p\n",
    "$$\n",
    "\n",
    "We can use Python to compute this easily:\n",
    "\n"
   ]
  },
  {
   "cell_type": "code",
   "execution_count": 10,
   "metadata": {
    "collapsed": false,
    "jupyter": {
     "outputs_hidden": false
    }
   },
   "outputs": [
    {
     "data": {
      "text/plain": [
       "6"
      ]
     },
     "execution_count": 10,
     "metadata": {},
     "output_type": "execute_result"
    }
   ],
   "source": [
    "pow(3, 15, mod = 17)"
   ]
  },
  {
   "cell_type": "markdown",
   "metadata": {},
   "source": [
    "Alicia posts the answer 6 publicly.\n",
    "\n",
    "It's worth noting here that the following congruence is now entirely public:\n",
    "\n",
    "$$\n",
    "3^{a} \\equiv 6 \\mod 17.\n",
    "$$\n",
    "\n",
    "If you could solve this equation for $a$, then you would know Alicia's secret key. For this simple example, it's not too hard to find $a$, but with much larger numbers, this is a very challenging problem called the _discrete logarithm problem_. Modular exponentiation is an example of a _one\\-way function_, which is a function that is easy to compute one direction, but hard to compute in reverse. This is similar to mixing paint: it's easy to mix the paint, but pretty much impossible to go backwards and separate the paint into its original colors.\n",
    "\n",
    "Beto now takes Alicia's public answer 6 and applies his own private key:\n",
    "\n",
    "$$\n",
    "6^{13} \\mod 17.\n",
    "$$\n",
    "\n"
   ]
  },
  {
   "cell_type": "markdown",
   "metadata": {},
   "source": [
    "### Question 9\n",
    "\n",
    "Do this calculation in Python."
   ]
  },
  {
   "cell_type": "code",
   "execution_count": 11,
   "metadata": {
    "collapsed": false,
    "jupyter": {
     "outputs_hidden": false
    }
   },
   "outputs": [],
   "source": [
    "# Add code here to compute 6^13 mod 17"
   ]
  },
  {
   "cell_type": "markdown",
   "metadata": {},
   "source": [
    "*****"
   ]
  },
  {
   "cell_type": "markdown",
   "metadata": {},
   "source": [
    "Mathematically, this is what has happened up to this point:\n",
    "\n",
    "$$\n",
    "6^{13} \\equiv (3^{15})^{13}  \\equiv 10 \\mod 17.\n",
    "$$\n",
    "\n",
    "In symbols, this is\n",
    "\n",
    "$$\n",
    "(g^{a})^b \\mod p.\n",
    "$$\n",
    "\n",
    "The answer, 10, is the secret key. And Beto now knows it.\n",
    "\n",
    "Now we can start with Beto and run through the same procedure again. Beto applies his private key $b = 13$ in the public expression\n",
    "\n",
    "$$\n",
    "3^{13} \\mod 17.\n",
    "$$\n",
    "\n"
   ]
  },
  {
   "cell_type": "markdown",
   "metadata": {},
   "source": [
    "### Question 10\n",
    "\n",
    "Do this calculation in Python."
   ]
  },
  {
   "cell_type": "code",
   "execution_count": 12,
   "metadata": {
    "collapsed": false,
    "jupyter": {
     "outputs_hidden": false
    }
   },
   "outputs": [],
   "source": [
    "# Add code here to compute 3^13 mod 17"
   ]
  },
  {
   "cell_type": "markdown",
   "metadata": {},
   "source": [
    "*****"
   ]
  },
  {
   "cell_type": "markdown",
   "metadata": {},
   "source": [
    "Now Beto posts his answer 12 publicly. Let's see what happens when Alicia applies her private key to 12:\n",
    "\n",
    "$$\n",
    "12^{15} \\mod 17.\n",
    "$$\n",
    "\n"
   ]
  },
  {
   "cell_type": "markdown",
   "metadata": {},
   "source": [
    "### Question 11\n",
    "\n",
    "Do this calculation in Python."
   ]
  },
  {
   "cell_type": "code",
   "execution_count": 13,
   "metadata": {
    "collapsed": false,
    "jupyter": {
     "outputs_hidden": false
    }
   },
   "outputs": [],
   "source": [
    "# Add code here to compute 12^15 mod 17"
   ]
  },
  {
   "cell_type": "markdown",
   "metadata": {},
   "source": [
    "*****"
   ]
  },
  {
   "cell_type": "markdown",
   "metadata": {},
   "source": [
    "Mathematically, this is what happened:\n",
    "\n",
    "$$\n",
    "12^{15} \\equiv (3^{13})^{15}  \\equiv 10 \\mod 17.\n",
    "$$\n",
    "\n",
    "In symbols, this is\n",
    "\n",
    "$$\n",
    "(g^{b})^a \\mod p.\n",
    "$$\n",
    "\n",
    "The answer, 10, is the secret key. And Alicia now knows it. Both Beto and Alice know the secret key 10, but 10 was not one of the numbers that was publicly shared. And because it's an example of the discrete logarithm problem, it is very challenging to figure out the secret key 10 by anyone who only knows the information that has been shared publicly. \\(Well, again, it would be relatively simple in this case where we have small numbers, but in the real world, where much larger numbers are used, it would be computationally impractical.\\)\n"
   ]
  },
  {
   "cell_type": "markdown",
   "metadata": {},
   "source": [
    "### Question 12\n",
    "\n",
    "Explain mathematically why Alicia and Beto got the same final answer, 10. Hint: look at the results of their calculations in symbols. Why do these give the same number?\n"
   ]
  },
  {
   "cell_type": "markdown",
   "metadata": {},
   "source": [
    "<span style='color:#9c27b0'>_Please write up your answer here._</span>\n"
   ]
  },
  {
   "cell_type": "markdown",
   "metadata": {},
   "source": [
    "*****"
   ]
  },
  {
   "cell_type": "markdown",
   "metadata": {},
   "source": [
    "At this point, the secret key 10 can now be used as a shared key for any cryptographic scheme that Alicia and Beto wish to use. For example, they can now use 10 as their Caesar shift. Or 10 in their Vigenère cipher.\n",
    "\n",
    "**Side note**: to be secure with current computational resources, it is recommended to use a prime number $p$ that has at least 2048 digits when expressed in binary \\(0s and 1s\\). That's at least a 617\\-digit number.\n",
    "\n"
   ]
  },
  {
   "cell_type": "markdown",
   "metadata": {},
   "source": [
    "## Conclusion\n",
    "\n",
    "### Question 13\n",
    "\n",
    "What do you conclude from this reading and activity?\n",
    "\n",
    "<span style='color:#673ab7'>Put your thoughts here. </span>\n"
   ]
  }
 ],
 "metadata": {
  "kernelspec": {
   "display_name": "Python 3 (ipykernel)",
   "language": "python",
   "name": "python3"
  },
  "language_info": {
   "codemirror_mode": {
    "name": "ipython",
    "version": 3
   },
   "file_extension": ".py",
   "mimetype": "text/x-python",
   "name": "python",
   "nbconvert_exporter": "python",
   "pygments_lexer": "ipython3",
   "version": "3.11.3"
  }
 },
 "nbformat": 4,
 "nbformat_minor": 4
}
