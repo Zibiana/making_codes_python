{
 "cells": [
  {
   "cell_type": "markdown",
   "metadata": {
    "collapsed": false
   },
   "source": [
    "# Affine ciphers"
   ]
  },
  {
   "cell_type": "markdown",
   "metadata": {
    "collapsed": false
   },
   "source": [
    "## Your name goes here. \\(Double\\-click on this cell to edit it.\\)\n",
    "\n",
    "Remember to hit Ctrl-Enter after editing any cell.\n",
    "\n"
   ]
  },
  {
   "cell_type": "markdown",
   "metadata": {
    "collapsed": false
   },
   "source": [
    "## Commands in python introduced in this module\n",
    "\n",
    "---\n",
    "> pow, import math, math.gcd, !=\n",
    "___"
   ]
  },
  {
   "cell_type": "markdown",
   "metadata": {
    "collapsed": false
   },
   "source": [
    "## Math topics used in this module\n",
    "\n",
    "* Modular arithmetic\n",
    "* inverses mod $n$\n",
    "* linear congruences\n",
    "* Solving systems of equations\n",
    "* Exponents"
   ]
  },
  {
   "cell_type": "markdown",
   "metadata": {
    "collapsed": false
   },
   "source": [
    "## Objectives\n",
    "\n",
    "In this activity we will use Python to encrypt and decrypt affine ciphers.\n",
    "\n"
   ]
  },
  {
   "cell_type": "markdown",
   "metadata": {
    "collapsed": false
   },
   "source": [
    "## Some math\n",
    "\n",
    "Before discussing affine ciphers, let's return to the simple shift cipher, but introduce some mathematical notation  \n",
    " to describe what is happening.\n",
    "\n",
    "Suppose the letters of the alphabet are replaced with numbers so that \"a\" = 0 and \"z\" = 25. (Make sure you understand why \"z\" is 25 and not 26!)\n",
    "\n",
    "Suppose there are $n$ letters of plaintext that need to be encoded. We will call these letters $p_0, p_1, p_2,  \\dots, p_{n-1}$. For example, if the plaintext is \"mysecret\", then\n",
    "\n",
    "$$\n",
    "p_0 = m \\\\\n",
    "p_1 = y \\\\\n",
    "p_2 = s \\\\\n",
    "p_3 = e \\\\\n",
    "p_4 = c \\\\\n",
    "p_5 = r \\\\\n",
    "p_6 = e \\\\\n",
    "p_7 = t\n",
    "$$\n",
    "\n",
    "Suppose the key is a number $k$. Then the ciphertext characters $c_0, c_1, c_2, \\dots, c_{n-1}$ will be given by the following formula:\n",
    "\n",
    "$$\n",
    "c_i \\equiv p_i + k \\mod 26\n",
    "$$\n",
    "\n"
   ]
  },
  {
   "cell_type": "markdown",
   "metadata": {
    "collapsed": false
   },
   "source": [
    "### Exercise 1\n",
    "\n",
    "The formula above converts plaintext numbers $p_i$ to ciphertext numbers $c_i$ by adding the key $k$ and reducing the result mod 26. (The numbers, of course, represent letters.)\n",
    "\n",
    "Make a few small changes to the formula above to show what happens when you decode the ciphertext numbers to produce plaintext numbers. In other words, rewrite the linear congruence by solving for $p_i$.\n",
    "\n",
    "Here is the formula copied from above. <span style='color:#9c27b0'>Make the changes below</span>:\n"
   ]
  },
  {
   "cell_type": "markdown",
   "metadata": {
    "collapsed": false
   },
   "source": [
    "$$\n",
    "c_i \\equiv p_i + k \\mod 26\n",
    "$$\n",
    "\n"
   ]
  },
  {
   "cell_type": "markdown",
   "metadata": {
    "collapsed": false
   },
   "source": [
    "\n",
    "*****"
   ]
  },
  {
   "cell_type": "markdown",
   "metadata": {
    "collapsed": false
   },
   "source": [
    "The *affine cipher* is a generalization of the shift cipher, where you multiply by a number first before shifting:\n",
    "\n",
    "$$\n",
    "c_i \\equiv m p_i + k \\mod 26\n",
    "$$\n",
    "\n",
    "This is much harder to decode. In a simple shift cipher, once you have one letter correct, the key becomes apparent and the rest of the message is trivial to decipher. With the affine cipher, not only is the key $k$ unknown, but also the multiplicative factor $m$.\n",
    "\n",
    "To decrypt a message encoded with an affine cipher, we have to solve the above linear congruence for $p_i$. The first step of subtracting $k$ from both sides is straightforward:\n",
    "\n",
    "$$\n",
    "m p_i \\equiv c_i  - k \\mod 26\n",
    "$$\n",
    "\n",
    "There is no way to \"divide by $m$\" in a linear congruence, but we may be able to find the multiplicative inverse of $m$. If such an inverse $m^{-1}$ exists, we can multiply both sides by it to isolate $p_i$:\n",
    "\n",
    "$$\n",
    "p_i \\equiv m^{-1} (c_i  - k) \\mod 26\n",
    "$$\n",
    "\n",
    "\n",
    "\n"
   ]
  },
  {
   "cell_type": "markdown",
   "metadata": {
    "collapsed": false
   },
   "source": [
    "### Exercise 2\n",
    "\n",
    "The values of $m$ that have a multiplicative inverse mod 26 are those numbers between 1 and 25 that are relatively prime to 26. Two numbers are relatively prime if their GCD is 1. Make a list of all such values below:\n"
   ]
  },
  {
   "cell_type": "markdown",
   "metadata": {
    "collapsed": false
   },
   "source": [
    "<span style='color:#673ab7'>_Please write up your answer here._</span>\n",
    "\n"
   ]
  },
  {
   "cell_type": "markdown",
   "metadata": {
    "collapsed": false
   },
   "source": [
    "*****"
   ]
  },
  {
   "cell_type": "markdown",
   "metadata": {
    "collapsed": false
   },
   "source": [
    "Conveniently, Python has a function that allows us to compute inverses. It's called `pow`. For example, suppose we want to find the inverse of 3 mod 26. (Click in the cell below and hit Ctrl-Enter to run it. You will be expected to remember to run all code cells that follow.)"
   ]
  },
  {
   "cell_type": "code",
   "execution_count": 0,
   "metadata": {
    "collapsed": false
   },
   "outputs": [
   ],
   "source": [
    "pow(3, -1, mod = 26)"
   ]
  },
  {
   "cell_type": "markdown",
   "metadata": {
    "collapsed": false
   },
   "source": [
    "The answer is 9."
   ]
  },
  {
   "cell_type": "markdown",
   "metadata": {
    "collapsed": false
   },
   "source": [
    "### Exercise 3\n",
    "\n",
    "Verify that 3 and 9 are inverses mod 26 by multiplying them together and reducing mod 26."
   ]
  },
  {
   "cell_type": "markdown",
   "metadata": {
    "collapsed": false
   },
   "source": [
    "<span style='color:#9c27b0'>_Please write up your answer here._</span>\n"
   ]
  },
  {
   "cell_type": "markdown",
   "metadata": {
    "collapsed": false
   },
   "source": [
    "*****"
   ]
  },
  {
   "cell_type": "markdown",
   "metadata": {
    "collapsed": false
   },
   "source": [
    "The `pow` function is actually a function to calculate powers of a number. For example, $2^{4}$ is 16."
   ]
  },
  {
   "cell_type": "code",
   "execution_count": 0,
   "metadata": {
    "collapsed": false
   },
   "outputs": [
   ],
   "source": [
    "pow(2, 4)"
   ]
  },
  {
   "cell_type": "markdown",
   "metadata": {
    "collapsed": false
   },
   "source": [
    "If we want to calculate inverses, we can use a -1 for the power:"
   ]
  },
  {
   "cell_type": "code",
   "execution_count": 0,
   "metadata": {
    "collapsed": false
   },
   "outputs": [
   ],
   "source": [
    "pow(2, -1)"
   ]
  },
  {
   "cell_type": "markdown",
   "metadata": {
    "collapsed": false
   },
   "source": [
    "The multiplicative inverse of 2 using normal real numbers is, indeed, 1/2.\n",
    "\n",
    "If we want to do the problem in modular arithmetic, we can throw in the modulus as a third argument to the function:"
   ]
  },
  {
   "cell_type": "code",
   "execution_count": 0,
   "metadata": {
    "collapsed": false
   },
   "outputs": [
   ],
   "source": [
    "pow(6, 2, mod = 20)"
   ]
  },
  {
   "cell_type": "markdown",
   "metadata": {
    "collapsed": false
   },
   "source": [
    "### Exercise 4\n",
    "\n",
    "Explain why the answer was 16 in the example above."
   ]
  },
  {
   "cell_type": "markdown",
   "metadata": {
    "collapsed": false
   },
   "source": [
    "<span style='color:#9c27b0'>_Please write up your answer here._</span>\n"
   ]
  },
  {
   "cell_type": "markdown",
   "metadata": {
    "collapsed": false
   },
   "source": [
    "### Exercise 5\n",
    "\n",
    "What happens if you try to find an inverse that doesn't exist? Try it in the code cell below. (Hint: First you need to find a number that has no inverse for a certain modulus. When is it the case that a number fails to have an inverse?)"
   ]
  },
  {
   "cell_type": "code",
   "execution_count": 0,
   "metadata": {
    "collapsed": false
   },
   "outputs": [
   ],
   "source": [
    "# Add code here to test the pow function when there is no inverse"
   ]
  },
  {
   "cell_type": "markdown",
   "metadata": {
    "collapsed": false
   },
   "source": [
    "<span style='color:#9c27b0'>_Please write up your answer here._</span>\n"
   ]
  },
  {
   "cell_type": "markdown",
   "metadata": {
    "collapsed": false
   },
   "source": [
    "**VERY IMPORTANT!** Since the last command should have resulted in an error, if we leave it alone, it may prevent future cells from running if we ever go back and run all the cells from the beginning of the document. Once you have verified that you get the appropriate error, go back into the code cell and put a hashtag at the beginning of the line with the pow function. This will tell Python to ignore this code on future passes."
   ]
  },
  {
   "cell_type": "markdown",
   "metadata": {
    "collapsed": false
   },
   "source": [
    "## Encryption\n",
    "\n",
    "We can now write a function that will encrypt a message using an affine cipher. Before we do so, though, we need to re-introduce the little helper functions from the last module that converted letters to numbers and numbers to letters.\n",
    "\n",
    "The following code cell contains no new code. It's just a copy of two functions we developed in the last module. You should be hitting Ctrl-Enter in every code cell, but be extra sure to do so below. If you don't, there are code cells later that will not work."
   ]
  },
  {
   "cell_type": "code",
   "execution_count": 0,
   "metadata": {
    "collapsed": false
   },
   "outputs": [
   ],
   "source": [
    "def convert_letter_to_number(letter):\n",
    "    # Define constant that will allow us to move the letter codes by 97\n",
    "    MOVE_NUMBER = 97\n",
    "    # Convert input to ASCII (97 to 122)\n",
    "    number_ascii = ord(letter)\n",
    "    # Move number to lie in the range 0 to 25\n",
    "    number = number_ascii - MOVE_NUMBER\n",
    "    return number\n",
    "\n",
    "def convert_number_to_letter(number):\n",
    "    # Define constant that will allow us to move the letter codes by 97\n",
    "    MOVE_NUMBER = 97\n",
    "    # Move number to lie in the ASCII range 97 to 122\n",
    "    number_ascii = number + MOVE_NUMBER\n",
    "    # Convert number to letter\n",
    "    letter = chr(number_ascii)\n",
    "    return letter"
   ]
  },
  {
   "cell_type": "markdown",
   "metadata": {
    "collapsed": false
   },
   "source": [
    "The code for performing affine encryption below looks very, very similar to the `shift_encrypt_letter` function we developed in the last module."
   ]
  },
  {
   "cell_type": "code",
   "execution_count": 0,
   "metadata": {
    "collapsed": false
   },
   "outputs": [
   ],
   "source": [
    "def affine_encrypt_letter(plaintext_letter, key, m):\n",
    "    # Replace uppercase with lowercase\n",
    "    plaintext_letter = plaintext_letter.lower()\n",
    "    # Check if plaintext_letter is a lowercase letter\n",
    "    if ord(plaintext_letter) >= 97 and ord(plaintext_letter) <= 122:\n",
    "        plaintext_number = convert_letter_to_number(plaintext_letter)\n",
    "        ciphertext_number = (m* plaintext_number + key) % 26\n",
    "        ciphertext_letter = convert_number_to_letter(ciphertext_number)\n",
    "        return ciphertext_letter.upper()\n",
    "    else:\n",
    "        # If we get to this spot, we know we don't have a letter at all,\n",
    "        # so just return the character as is\n",
    "        return plaintext_letter"
   ]
  },
  {
   "cell_type": "markdown",
   "metadata": {
    "collapsed": false
   },
   "source": [
    "### Exercise 6\n",
    "\n",
    "There are only two lines of code that changed from the `shift_encrypt_letter` function. Which lines are they, and what were the changes? (You are welcome to go back and look at the `shift_encrypt_letter` function in the previous assignment, but I'll bet you can spot the differences without having to.)"
   ]
  },
  {
   "cell_type": "markdown",
   "metadata": {
    "collapsed": false
   },
   "source": [
    "<span style='color:#9c27b0'>_Please write up your answer here._</span>\n"
   ]
  },
  {
   "cell_type": "markdown",
   "metadata": {
    "collapsed": false
   },
   "source": [
    "*****"
   ]
  },
  {
   "cell_type": "markdown",
   "metadata": {
    "collapsed": false
   },
   "source": [
    "Let's test this function with some letters that we can verify by hand. For example \"c\" = 2. Let's suppose that the key is 16 and $m = 3$.\n",
    "\n",
    "$$\n",
    "3(2) + 16 = 22\n",
    "$$\n",
    "\n",
    "The letter corresponding to 22 is \"W\"."
   ]
  },
  {
   "cell_type": "code",
   "execution_count": 0,
   "metadata": {
    "collapsed": false
   },
   "outputs": [
   ],
   "source": [
    "affine_encrypt_letter(\"c\", key = 16, m = 3)"
   ]
  },
  {
   "cell_type": "markdown",
   "metadata": {
    "collapsed": false
   },
   "source": [
    "It works!"
   ]
  },
  {
   "cell_type": "markdown",
   "metadata": {
    "collapsed": false
   },
   "source": [
    "### Exercise 7\n",
    "\n",
    "In fairness, we didn't really test the function above all that rigorously. The result of using the letter \"c\" with key 16 and $m = 3$ was not greater than 26, so we didn't really test that everything works mod 26. Try it again with the letter \"f\" using a key of 5 and $m = 11$. Figure out what the answer should be by hand. Then use the `affine_encrypt_letter` function to verify your work."
   ]
  },
  {
   "cell_type": "markdown",
   "metadata": {
    "collapsed": false
   },
   "source": [
    "<span style='color:#9c27b0'>_Please write up your answer here._</span>\n"
   ]
  },
  {
   "cell_type": "code",
   "execution_count": 0,
   "metadata": {
    "collapsed": false
   },
   "outputs": [
   ],
   "source": [
    "# Add code here to check the function against your work by hand."
   ]
  },
  {
   "cell_type": "markdown",
   "metadata": {
    "collapsed": false
   },
   "source": [
    "*****"
   ]
  },
  {
   "cell_type": "markdown",
   "metadata": {
    "collapsed": false
   },
   "source": [
    "Now we need to extend the single letter encryption function to one that will encrypt an entire message. We do this with a for loop."
   ]
  },
  {
   "cell_type": "code",
   "execution_count": 0,
   "metadata": {
    "collapsed": false
   },
   "outputs": [
   ],
   "source": [
    "def affine_encrypt_test(plaintext, key, m):\n",
    "    ciphertext = \"\"\n",
    "    for letter in plaintext:\n",
    "        ciphertext_letter = affine_encrypt_letter(letter, key, m)\n",
    "        ciphertext = ciphertext + ciphertext_letter\n",
    "    return ciphertext"
   ]
  },
  {
   "cell_type": "markdown",
   "metadata": {
    "collapsed": false
   },
   "source": [
    "Let's try it with some plaintext: \"Affine ciphers aren't so bad!\" Suppose the key is 21 and $m = 15$."
   ]
  },
  {
   "cell_type": "code",
   "execution_count": 0,
   "metadata": {
    "collapsed": false
   },
   "outputs": [
   ],
   "source": [
    "affine_encrypt_test(\"Affine ciphers aren't so bad!\", key = 21, m = 15)"
   ]
  },
  {
   "cell_type": "markdown",
   "metadata": {
    "collapsed": false
   },
   "source": [
    "Notice that nothing in our function prevents us from using a \"forbidden\" value of $m$. Let's see what happens when we do.\n",
    "\n",
    "For example, $m = 2$ is not relatively prime to 26. So what happens if we use $m = 2$? To make it even easier to see the problem, let's set our key to 0. In other words, after multiplying by 2, there will be no additional shift."
   ]
  },
  {
   "cell_type": "code",
   "execution_count": 0,
   "metadata": {
    "collapsed": false
   },
   "outputs": [
   ],
   "source": [
    "affine_encrypt_test(\"Affine ciphers aren't so bad!\", key = 0, m = 2)"
   ]
  },
  {
   "cell_type": "markdown",
   "metadata": {
    "collapsed": false
   },
   "source": [
    "### Exercise 8\n",
    "\n",
    "Examine the output above carefully. Can you spot the problem? (Hint: Because there is no shift, \"a\" = 0 will be encoded as \"A\" because 2 times 0 is still 0. But what if you were trying to decode the letter \"A\" in the rest of the ciphertext?)\n",
    "\n",
    "Explain using modular arithmetic why certain pairs of distinct plaintext letters get encoded as the same ciphertext letter."
   ]
  },
  {
   "cell_type": "markdown",
   "metadata": {
    "collapsed": false
   },
   "source": [
    "<span style='color:#9c27b0'>_Please write up your answer here._</span>\n"
   ]
  },
  {
   "cell_type": "markdown",
   "metadata": {
    "collapsed": false
   },
   "source": [
    "### Exercise 9\n",
    "\n",
    "Try encrypting any phrase you'd like using any key and $m = 13$. (Test it with several different choices of key.) Explain using modular arithmetic the weird output you get."
   ]
  },
  {
   "cell_type": "code",
   "execution_count": 0,
   "metadata": {
    "collapsed": false
   },
   "outputs": [
   ],
   "source": [
    "# Add code here to encrypt a phrase using m = 13"
   ]
  },
  {
   "cell_type": "markdown",
   "metadata": {
    "collapsed": false
   },
   "source": [
    "<span style='color:#9c27b0'>_Please write up your answer here._</span>\n"
   ]
  },
  {
   "cell_type": "markdown",
   "metadata": {
    "collapsed": false
   },
   "source": [
    "*****"
   ]
  },
  {
   "cell_type": "markdown",
   "metadata": {
    "collapsed": false
   },
   "source": [
    "### Making our function more robust\n",
    "\n",
    "As we saw above, there are issues with using a value of $m$ that is not relatively prime to 26. We can build into our function a test that forces the user to choose a suitable value of $m$.\n",
    "\n",
    "To do this, we need a way of checking that $m$ and 26 are relatively prime. In other words, we need to check that the greatest common divisor (gcd) of $m$ and 26 is 1.\n",
    "\n",
    "While there is no `gcd` function built into basic Python, there is a library called `math` that contains a `gcd` function.\n",
    "\n",
    "To use functions from an external library, we need the following line of code:"
   ]
  },
  {
   "cell_type": "code",
   "execution_count": 0,
   "metadata": {
    "collapsed": false
   },
   "outputs": [
   ],
   "source": [
    "import math"
   ]
  },
  {
   "cell_type": "markdown",
   "metadata": {
    "collapsed": false
   },
   "source": [
    "And now we have access to the `gcd` function, as illustrated below:"
   ]
  },
  {
   "cell_type": "code",
   "execution_count": 0,
   "metadata": {
    "collapsed": false
   },
   "outputs": [
   ],
   "source": [
    "math.gcd(153, 68)"
   ]
  },
  {
   "cell_type": "markdown",
   "metadata": {
    "collapsed": false
   },
   "source": [
    "Here is the new and improved affine encryption function:"
   ]
  },
  {
   "cell_type": "code",
   "execution_count": 0,
   "metadata": {
    "collapsed": false
   },
   "outputs": [
   ],
   "source": [
    "def affine_encrypt(plaintext, key, m):\n",
    "    # Stop if m is not chosen appropriately\n",
    "    if math.gcd(m, 26) != 1:\n",
    "        print(\"The value of m must be relatively prime to 26!\")\n",
    "    else:\n",
    "        ciphertext = \"\"\n",
    "        for letter in plaintext:\n",
    "            ciphertext_letter = affine_encrypt_letter(letter, key, m)\n",
    "            ciphertext = ciphertext + ciphertext_letter\n",
    "        return ciphertext"
   ]
  },
  {
   "cell_type": "markdown",
   "metadata": {
    "collapsed": false
   },
   "source": [
    "### Exercise 10\n",
    "\n",
    "The new line of code\n",
    "\n",
    "```\n",
    "if math.gcd(m, 26) != 1:\n",
    "```\n",
    "\n",
    "contains a symbol we have not seen before: `!=`.\n",
    "\n",
    "Given what you know about the purpose of this line of code, what is the meaning of `!=`?"
   ]
  },
  {
   "cell_type": "markdown",
   "metadata": {
    "collapsed": false
   },
   "source": [
    "<span style='color:#9c27b0'>_Please write up answer here._</span>\n"
   ]
  },
  {
   "cell_type": "markdown",
   "metadata": {
    "collapsed": false
   },
   "source": [
    "### Exercise 11\n",
    "\n",
    "Test the new function `affine_encrypt` by trying to use an illegal value of $m$."
   ]
  },
  {
   "cell_type": "code",
   "execution_count": 0,
   "metadata": {
    "collapsed": false
   },
   "outputs": [
   ],
   "source": [
    "# Add code here to test an illegal value of m"
   ]
  },
  {
   "cell_type": "markdown",
   "metadata": {
    "collapsed": false
   },
   "source": [
    "## Decryption\n",
    "\n",
    "You may recall from the last module that we were able to use the shift encryption function in a clever way to produce a decryption function with almost no additional fuss. The idea was that decryption was equivalent to encryption, but with a negative key.\n",
    "\n",
    "However, for affine ciphers, the decryption formula is not just a simple modification of the encryption formula. Recall that encryption looks like\n",
    "\n",
    "$$\n",
    "c_i \\equiv m p_i + k \\mod 26\n",
    "$$\n",
    "\n",
    "whereas decryption looks like\n",
    "\n",
    "$$\n",
    "p_i \\equiv m^{-1} (c_i  - k) \\mod 26\n",
    "$$\n",
    "\n",
    "But not all is lost. If we continue to manipulate the above congruence by distributing $m^{-1}$, we get\n",
    "\n",
    "$$\n",
    "p_i \\equiv m^{-1} c_i  - m^{-1} k \\mod 26\n",
    "$$\n",
    "\n",
    "In other words, if we start with a ciphertext letter, we first have to multiply it by $m^{-1}$. But then all we have to do is shift by $-m^{-1}k$. In other words, we can use the encryption algorithm with key $-m^{-1}k$. Let's try it:"
   ]
  },
  {
   "cell_type": "code",
   "execution_count": 0,
   "metadata": {
    "collapsed": false
   },
   "outputs": [
   ],
   "source": [
    "def affine_decrypt(ciphertext, key, m):\n",
    "    # Stop if m is not chosen appropriately\n",
    "    if math.gcd(m, 26) != 1:\n",
    "        print(\"The value of m must be relatively prime to 26!\")\n",
    "    else:\n",
    "        m_inv = pow(m, -1, mod = 26)\n",
    "        plaintext = affine_encrypt(ciphertext, -m_inv*key, m_inv)\n",
    "        return plaintext.lower()"
   ]
  },
  {
   "cell_type": "markdown",
   "metadata": {
    "collapsed": false
   },
   "source": [
    "Testing the function:"
   ]
  },
  {
   "cell_type": "code",
   "execution_count": 0,
   "metadata": {
    "collapsed": false
   },
   "outputs": [
   ],
   "source": [
    "affine_decrypt(\"VSSLID ZLMWDQF VQDI'U FX KVO!\", key = 21, m = 15)"
   ]
  },
  {
   "cell_type": "markdown",
   "metadata": {
    "collapsed": false
   },
   "source": [
    "Woo hoo!"
   ]
  },
  {
   "cell_type": "markdown",
   "metadata": {
    "collapsed": false
   },
   "source": [
    "## Brute force decryption\n",
    "\n",
    "If we are the desired recipient of an encrypted message, the idea is that we know the key used to encrypt it as well as the correct value of $m$. We can then use the function `affine_decrypt` from above to decipher the message sent to us.\n",
    "\n",
    "However, suppose we intercept an encrypted message. We do not know the key or the value of $m$. So how might we go about deciphering the message?"
   ]
  },
  {
   "cell_type": "markdown",
   "metadata": {
    "collapsed": false
   },
   "source": [
    "### Exercise 12\n",
    "\n",
    "In the case of a shift cipher, there are only 25 different possible keys. How many possibilities are there for an affine cipher once we include the choice of $m$? (Assume that $m = 1$ is a valid choice.)"
   ]
  },
  {
   "cell_type": "markdown",
   "metadata": {
    "collapsed": false
   },
   "source": [
    "<span style='color:#9c27b0'>_Please write up your answer here?_</span>\n"
   ]
  },
  {
   "cell_type": "markdown",
   "metadata": {
    "collapsed": false
   },
   "source": [
    "*****"
   ]
  },
  {
   "cell_type": "markdown",
   "metadata": {
    "collapsed": false
   },
   "source": [
    "For the next part, we'll need a list of the numbers that are relatively prime to 26. (Such numbers are called \"units\" mod 26.) We could input such a list manually, but let's use the magic of computer programming to accomplish the task instead. The code below works for any integer $n$ (not just 26).\n",
    "\n",
    "A few things to note about the code below.\n",
    "\n",
    "* The first line of code defines the function with name `generate_units` and takes, as input, an integer $n$. That value $n$ is the modulus. (It will be 26 for applications we care about.)\n",
    "* The next line initializes an empty \"list\" using brackets `[]`. We will populate this list one element at a time in the subsequent code.\n",
    "* The next line is a for loop that loops through all integers $m$ from 1 up to $n - 1$.\n",
    "* The if statement checks if each $m$, in turn, is relatively prime to the modulus $n$. The new thing to notice here is the double equal sign `==`. In code, we use a single equal sign to assign values to variables. If we want to *test* that two things are equal, we have to use a double equal sign.\n",
    "* If we have a unit (a number relatively prime to $n$), we will `append` it to the list, meaning, we will tack it onto the end of the list already generated.\n",
    "* Note that if the for loop hits a value of $m$ that is *not* relatively prime to $n$, the statement inside the `if` clause just gets skipped and nothing happens.\n",
    "* When the for loop is finished, the last line of code returns the completed list to the user."
   ]
  },
  {
   "cell_type": "code",
   "execution_count": 0,
   "metadata": {
    "collapsed": false
   },
   "outputs": [
   ],
   "source": [
    "def generate_units(n):\n",
    "    unit_list = []\n",
    "    for m in range(1, n):\n",
    "        if math.gcd(m, n) == 1:\n",
    "            unit_list.append(m)\n",
    "    return unit_list"
   ]
  },
  {
   "cell_type": "code",
   "execution_count": 0,
   "metadata": {
    "collapsed": false
   },
   "outputs": [
   ],
   "source": [
    "generate_units(26)"
   ]
  },
  {
   "cell_type": "markdown",
   "metadata": {
    "collapsed": false
   },
   "source": [
    "### Exercise 13\n",
    "\n",
    "Test the `generate_units` function for a whole bunch of different values for $n$.\n",
    "\n",
    "For some values of $n$, you might notice that the output includes every number from 1 to $n - 1$. What is true about all the values of $n$ for which this happens?"
   ]
  },
  {
   "cell_type": "code",
   "execution_count": 0,
   "metadata": {
    "collapsed": false
   },
   "outputs": [
   ],
   "source": [
    "# Add code here to test generate_units for different values of n"
   ]
  },
  {
   "cell_type": "markdown",
   "metadata": {
    "collapsed": false
   },
   "source": [
    "<span style='color:#9c27b0'>_Please write up your answer here._</span>\n"
   ]
  },
  {
   "cell_type": "markdown",
   "metadata": {
    "collapsed": false
   },
   "source": [
    "### Exercise 14\n",
    "\n",
    "In the code cell below, we define a function called `brute_affine_decrypt`. Its goal is to try every possible key and every possible value of $m$ on the ciphertext and print the resulting plaintext. Notice that to do that, we have *nested* for loops. For every value of the key, we also cycle through every legal value of $m$.\n",
    "\n",
    "Remove the hashtag from the missing line and type the code that will make this function work. (Hint: you should use a function we already defined.)"
   ]
  },
  {
   "cell_type": "code",
   "execution_count": 0,
   "metadata": {
    "collapsed": false
   },
   "outputs": [
   ],
   "source": [
    "def brute_affine_decrypt(ciphertext):\n",
    "    # Get list of legal m values\n",
    "    m_list = generate_units(26)\n",
    "    for key in range(1, 26):\n",
    "        for m in m_list:\n",
    "            # You fill in the missing line here\n",
    "            print(\"Key = \" + str(key) + \", m = \" + str(m) + \": \" + plaintext)"
   ]
  },
  {
   "cell_type": "markdown",
   "metadata": {
    "collapsed": false
   },
   "source": [
    "### Exercise 15\n",
    "\n",
    "Test out your function on the ciphertext\n",
    "\n",
    "\"NS'B DJPW WHKGXK SL ONUG SWX CMHNUSXIS RWXU ZLJ WHAX SL BPKLMM SWKLJFW BL DHUZ CLBBNYNMNSNXB!\"\n",
    "\n",
    "If you did everything correctly above, the output should be 300 lines (!), 299 of which will be complete and utter nonsense, and one of which will be the plaintext. In the space below the code cell (keep scrolling!), write out the plaintext with proper spacing and punctuation. Also indicate what key and what value of $m$ was used to encrypt the message.\n"
   ]
  },
  {
   "cell_type": "code",
   "execution_count": 0,
   "metadata": {
    "collapsed": false
   },
   "outputs": [
   ],
   "source": [
    "# Add code here to decrypt\n",
    "#   \"NS'B DJPW WHKGXK SL ONUG SWX CMHNUSXIS RWXU ZLJ WHAX SL BPKLMM SWKLJFW BL DHUZ CLBBNYNMNSNXB!\""
   ]
  },
  {
   "cell_type": "markdown",
   "metadata": {
    "collapsed": false
   },
   "source": [
    "<span style='color:#9c27b0'>_Please write up your answer here._</span>\n"
   ]
  },
  {
   "cell_type": "markdown",
   "metadata": {
    "collapsed": false
   },
   "source": [
    "## Conclusion\n",
    "\n",
    "Affine ciphers add enough complexity that it would be very difficult to decrypt them by hand. Even a brute force algorithm to do so starts straining our resources a bit. It doesn't actually strain the computer at all; the program runs in mere hundredths of a second! But it is starting to strain our ability to look through that much output to try to spot the plaintext."
   ]
  }
 ],
 "metadata": {
  "kernelspec": {
   "argv": [
    "/usr/bin/python3",
    "-m",
    "ipykernel",
    "--HistoryManager.enabled=False",
    "--matplotlib=inline",
    "-c",
    "%config InlineBackend.figure_formats = set(['retina'])\nimport matplotlib; matplotlib.rcParams['figure.figsize'] = (12, 7)",
    "-f",
    "{connection_file}"
   ],
   "display_name": "Python 3 (system-wide)",
   "env": {
   },
   "language": "python",
   "metadata": {
    "cocalc": {
     "description": "Python 3 programming language",
     "priority": 100,
     "url": "https://www.python.org/"
    }
   },
   "name": "python3",
   "resource_dir": "/ext/jupyter/kernels/python3"
  },
  "language_info": {
   "codemirror_mode": {
    "name": "ipython",
    "version": 3
   },
   "file_extension": ".py",
   "mimetype": "text/x-python",
   "name": "python",
   "nbconvert_exporter": "python",
   "pygments_lexer": "ipython3",
   "version": "3.8.10"
  }
 },
 "nbformat": 4,
 "nbformat_minor": 4
}