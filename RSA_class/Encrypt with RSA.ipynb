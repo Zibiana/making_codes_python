{
 "cells": [
  {
   "cell_type": "markdown",
   "id": "ff05f230-ae5c-49e5-88e3-7eca13726273",
   "metadata": {},
   "source": [
    "# Making an RSA Class"
   ]
  },
  {
   "cell_type": "code",
   "execution_count": 106,
   "id": "09bd3ad9-3fa9-4d91-bd86-f0c251d7c605",
   "metadata": {},
   "outputs": [],
   "source": [
    "## Old class, trying again in next cell\n",
    "from sympy import isprime\n",
    "from math import gcd\n",
    "import random\n",
    "class RSA:\n",
    "    def __init__(self, p, q):\n",
    "        if isprime(p) and isprime(q):\n",
    "            self.p=p\n",
    "            self.q=q\n",
    "            self.n=self.p*self.q\n",
    "            self.phi_n = (self.p-1)*(self.q-1)  \n",
    "            self.e = self.choose_e()  # Select e\n",
    "            self.d=pow(self.e,-1,self.phi_n)\n",
    "        else: \n",
    "            raise ValueError(\"Try again, p or q is not a prime\")\n",
    "        \n",
    "\n",
    "    def phi(self,n): #We're creating a new function, we'll call if phi. It takes in a number n.\n",
    "        counter = 0        #Here is our counter. We'll start it at 0 because we haven't added anything to it.\n",
    "        for k in range(1, n): #here is where ne plays a role. We'redoing a for loop to check every number from 1 to n-1. \n",
    "            if gcd(n, k) == 1:\n",
    "                counter += 1 #We count only the values k that are relatively prime to n. This increases our counter by 1.\n",
    "        return counter  \n",
    "        \n",
    "    def print_n(self):\n",
    "        return self.n\n",
    "        \n",
    "    def print_phi_n(self):\n",
    "        return self.phi_n    \n",
    "\n",
    "    def choose_e(self):\n",
    "        \"\"\" Securely selects e that is coprime with phi(n) \"\"\"\n",
    "        preferred_e = 65537  # Standard choice\n",
    "        if preferred_e < self.phi_n and gcd(preferred_e, self.phi_n) == 1:\n",
    "            return preferred_e\n",
    "        # Otherwise, find the next valid e\n",
    "        e = 3\n",
    "        while gcd(e, self.phi_n) != 1:\n",
    "            e += 2  # Increment by 2 to stay odd\n",
    "        return e\n",
    "\n",
    "    def print_e(self):\n",
    "        return self.e\n",
    "\n",
    "    def print_d(self):\n",
    "        return self.d\n",
    "\n",
    "\n",
    "\n",
    "    def convert_letter_to_number(self, letter):\n",
    "        \"\"\" Converts letters a-z to numbers in range 11-36 \"\"\"\n",
    "        MOVE_NUMBER = 86  # Moves 'a' to 11, 'z' to 36\n",
    "        letter = letter.lower()\n",
    "        if 'a' <= letter <= 'z':  # Ensures it's a valid letter\n",
    "            number = ord(letter) - MOVE_NUMBER\n",
    "            return str(number)  # Return as string for consistency\n",
    "        return letter  # Return non-letters unchanged\n",
    "\n",
    "    def convert_number_to_letter(self, number):\n",
    "        \"\"\" Converts numbers in range 11-36 back to letters \"\"\"\n",
    "        MOVE_NUMBER = 86\n",
    "        try:\n",
    "            number_ascii = int(number) + MOVE_NUMBER  # Convert string back to int\n",
    "            letter = chr(number_ascii)\n",
    "            return letter\n",
    "        except ValueError:\n",
    "            return number  # If it's not a valid number, return as is\n",
    "\n",
    "    # def convert_message_to_number(self, plaintext):\n",
    "    #     \"\"\" Converts a message to its numeric representation \"\"\"\n",
    "    #     converted_message = []\n",
    "    #     plaintext = plaintext.lower()\n",
    "\n",
    "    #     for letter in plaintext:\n",
    "    #         if 'a' <= letter <= 'z':  # Check if it's a letter\n",
    "    #             plaintext_number = self.convert_letter_to_number(letter)\n",
    "    #             converted_message.append(plaintext_number)\n",
    "    #         else:\n",
    "    #             converted_message.append(letter)  # Keep non-letters unchanged\n",
    "\n",
    "    #     return \"\".join(converted_message)  # Return as a single string\n",
    "\n",
    "    def convert_message_to_number(self, plaintext):\n",
    "        converted_message = []\n",
    "        plaintext = plaintext.lower()\n",
    "    \n",
    "        for letter in plaintext:\n",
    "            if 'a' <= letter <= 'z':  # Check if it's a letter\n",
    "                plaintext_number = self.convert_letter_to_number(letter)  # Ensure two-digit encoding\n",
    "                converted_message.append(plaintext_number)\n",
    "        \n",
    "        # Join without spaces\n",
    "        return ''.join(converted_message)\n",
    "\n",
    "    def convert_number_to_message(self, number_string):\n",
    "        \"\"\" Converts a number representation back to text \"\"\"\n",
    "        numbers = [number_string[i:i+2] for i in range(0, len(number_string), 2)]  # Split into pairs\n",
    "        return \"\".join(self.convert_number_to_letter(num) for num in numbers)\n",
    "\n",
    "\n",
    "    def partition_message(self, numeric_message):\n",
    "        \"\"\" Splits the numeric message into equal-sized chunks, ensuring no letter is split \"\"\"\n",
    "        max_chunk_size = len(str(self.n)) - 1  # Ensure each chunk < n\n",
    "        chunks = []\n",
    "        i = 0\n",
    "\n",
    "        while i < len(numeric_message):\n",
    "            chunk_size = min(max_chunk_size, len(numeric_message) - i)\n",
    "\n",
    "            # Ensure we don't split a letter (adjust chunk size to be even)\n",
    "            if chunk_size % 2 == 1:\n",
    "                chunk_size -= 1  # Make it even\n",
    "\n",
    "            chunk = numeric_message[i:i + chunk_size]\n",
    "            chunks.append(int(chunk))  # ✅ Convert chunk to integer\n",
    "            i += chunk_size\n",
    "\n",
    "        return chunks\n",
    "\n",
    "    def encrypt(self, plaintext):\n",
    "        \"\"\" Encrypts a message using RSA \"\"\"\n",
    "        numeric_message = self.convert_message_to_number(plaintext)\n",
    "        chunks = self.partition_message(numeric_message)\n",
    "\n",
    "        encrypted_chunks = [pow(chunk, self.e, self.n) for chunk in chunks]\n",
    "        return encrypted_chunks \n",
    "\n",
    "    def decrypt(self, encrypted_chunks):\n",
    "        \"\"\" Decrypts an encrypted message \"\"\"\n",
    "        decrypted_numbers = [pow(chunk, self.d, self.n) for chunk in encrypted_chunks]  # ✅ RSA Decryption\n",
    "        decrypted_message = \"\".join(str(num) for num in decrypted_numbers)  # Reassemble numbers\n",
    "\n",
    "        # Convert back to letters\n",
    "        plaintext = \"\"\n",
    "        i = 0\n",
    "        while i < len(decrypted_message):\n",
    "            number = int(decrypted_message[i:i+2])  # Read 2-digit numbers\n",
    "            plaintext += self.convert_number_to_letter(number)\n",
    "            i += 2  # Move by 2 since each letter is two digits\n",
    "\n",
    "        return plaintext\n",
    "    "
   ]
  },
  {
   "cell_type": "code",
   "execution_count": 131,
   "id": "3a022d75-fe53-474e-a6bf-ee3bffb2c62a",
   "metadata": {},
   "outputs": [],
   "source": [
    "from sympy import isprime\n",
    "from math import gcd\n",
    "import random\n",
    "class RSA:\n",
    "    def __init__(self, p, q):\n",
    "        if isprime(p) and isprime(q):\n",
    "            self.p = p\n",
    "            self.q = q\n",
    "            self.n = self.p * self.q\n",
    "            self.phi_n = (self.p - 1) * (self.q - 1)  \n",
    "            self.e = self.choose_e()  # Select e\n",
    "            self.d = pow(self.e, -1, self.phi_n)\n",
    "        else: \n",
    "            raise ValueError(\"p or q is not a prime number\")\n",
    "            \n",
    "    def print_e(self):\n",
    "        return self.e\n",
    "\n",
    "    def print_d(self):\n",
    "        return self.d        \n",
    "\n",
    "    def print_n(self):\n",
    "            return self.n\n",
    "        \n",
    "    def print_phi_n(self):\n",
    "        return self.phi_n    \n",
    "\n",
    "    \n",
    "    def choose_e(self):\n",
    "        \"\"\" Securely selects e that is coprime with phi(n) \"\"\"\n",
    "        preferred_e = 65537  # Standard choice\n",
    "        if preferred_e < self.phi_n and gcd(preferred_e, self.phi_n) == 1:\n",
    "            return preferred_e\n",
    "        e = 3\n",
    "        while gcd(e, self.phi_n) != 1:\n",
    "            e += 2  # Increment by 2 to stay odd\n",
    "        return e\n",
    "\n",
    "    def convert_letter_to_number(self, letter):\n",
    "        \"\"\" Converts letters a-z to numbers in range 11-36 \"\"\"\n",
    "        MOVE_NUMBER = 86\n",
    "        letter = letter.lower()\n",
    "        if 'a' <= letter <= 'z':  # Valid letter\n",
    "            return str(ord(letter) - MOVE_NUMBER)\n",
    "        return None  # Non-letters return None\n",
    "\n",
    "    def convert_number_to_letter(self, number):\n",
    "        \"\"\" Converts numbers in range 11-36 back to letters \"\"\"\n",
    "        MOVE_NUMBER = 86\n",
    "        try:\n",
    "            return chr(int(number) + MOVE_NUMBER)\n",
    "        except ValueError:\n",
    "            return number  # Return number unchanged if invalid\n",
    "\n",
    "    def convert_message_to_number(self, plaintext):\n",
    "        \"\"\" Converts a message to its numeric representation \"\"\"\n",
    "        converted_message = []\n",
    "        for letter in plaintext.lower():\n",
    "            number = self.convert_letter_to_number(letter)\n",
    "            if number:  # Only convert valid letters\n",
    "                converted_message.append(number)\n",
    "        return ''.join(converted_message)\n",
    "\n",
    "    def convert_number_to_message(self, number_string):\n",
    "        \"\"\" Converts a number representation back to text \"\"\"\n",
    "        numbers = [number_string[i:i+2] for i in range(0, len(number_string), 2)]\n",
    "        return ''.join(self.convert_number_to_letter(num) for num in numbers)\n",
    "\n",
    "    def partition_message(self, numeric_message):\n",
    "        \"\"\" Splits the numeric message into equal-sized chunks, ensuring no letter is split \"\"\"\n",
    "        max_chunk_size = len(str(self.n)) - 1  # Ensure each chunk < n\n",
    "        chunks = []\n",
    "        i = 0\n",
    "        while i < len(numeric_message):\n",
    "            chunk_size = min(max_chunk_size, len(numeric_message) - i)\n",
    "            if chunk_size % 2 == 1:\n",
    "                chunk_size -= 1  # Make it even if necessary\n",
    "            chunk = numeric_message[i:i + chunk_size]\n",
    "            chunks.append(int(chunk))\n",
    "            i += chunk_size\n",
    "        return chunks\n",
    "\n",
    "    def encrypt(self, plaintext):\n",
    "        \"\"\" Encrypts a message using RSA \"\"\"\n",
    "        numeric_message = self.convert_message_to_number(plaintext)\n",
    "        chunks = self.partition_message(numeric_message)\n",
    "        encrypted_chunks = [pow(chunk, self.e, self.n) for chunk in chunks]\n",
    "        return encrypted_chunks \n",
    "\n",
    "    def decrypt(self, encrypted_chunks):\n",
    "        \"\"\" Decrypts an encrypted message \"\"\"\n",
    "        decrypted_numbers = [pow(chunk, self.d, self.n) for chunk in encrypted_chunks]\n",
    "        decrypted_message = ''.join(str(num) for num in decrypted_numbers)\n",
    "\n",
    "        # Convert back to letters\n",
    "        plaintext = \"\"\n",
    "        i = 0\n",
    "        while i < len(decrypted_message):\n",
    "            number = decrypted_message[i:i+2]\n",
    "            plaintext += self.convert_number_to_letter(number)\n",
    "            i += 2\n",
    "\n",
    "        return plaintext"
   ]
  },
  {
   "cell_type": "code",
   "execution_count": 78,
   "id": "721ed903-114f-4691-b460-2993d571a468",
   "metadata": {},
   "outputs": [],
   "source": [
    "gp1=RSA(2039,307)"
   ]
  },
  {
   "cell_type": "code",
   "execution_count": 79,
   "id": "342c3ecc-028c-40f3-a738-6131252e9cf6",
   "metadata": {},
   "outputs": [
    {
     "data": {
      "text/plain": [
       "'131130'"
      ]
     },
     "execution_count": 79,
     "metadata": {},
     "output_type": "execute_result"
    }
   ],
   "source": [
    "message=\"cat\"\n",
    "gp1.convert_message_to_number(message)"
   ]
  },
  {
   "cell_type": "code",
   "execution_count": 80,
   "id": "f862b34c-4fc1-483c-991f-56011c46be4f",
   "metadata": {},
   "outputs": [
    {
     "data": {
      "text/plain": [
       "'cat'"
      ]
     },
     "execution_count": 80,
     "metadata": {},
     "output_type": "execute_result"
    }
   ],
   "source": [
    "gp1.convert_number_to_message('131130')"
   ]
  },
  {
   "cell_type": "code",
   "execution_count": 132,
   "id": "c8692b52-afe7-4736-b321-1e136e237cf5",
   "metadata": {},
   "outputs": [],
   "source": [
    "m1=\"I have hidden\"\n",
    "m2=\"some cookies some\"\n",
    "m3=\"where in meldrum\"\n",
    "m4=\"find kyles office\"\n",
    "m5=\"the office manager\""
   ]
  },
  {
   "cell_type": "code",
   "execution_count": 140,
   "id": "8bee64fa-6d79-4b76-be36-43855ba8079b",
   "metadata": {},
   "outputs": [
    {
     "data": {
      "text/plain": [
       "5712285641"
      ]
     },
     "execution_count": 140,
     "metadata": {},
     "output_type": "execute_result"
    }
   ],
   "source": [
    "gp1.print_n()"
   ]
  },
  {
   "cell_type": "code",
   "execution_count": 135,
   "id": "45199297-f4d7-47c5-8dc1-c5ec01e765e2",
   "metadata": {},
   "outputs": [
    {
     "name": "stdout",
     "output_type": "stream",
     "text": [
      "Encrypted Chunks: [3896807382, 581523455, 3795033303]\n",
      "Decrypted Message: ihavehidden\n",
      "e= 65537\n",
      "n= 5712285641\n"
     ]
    }
   ],
   "source": [
    "gp1 = RSA(p1,q1)\n",
    "encrypted_message = gp1.encrypt(m1)\n",
    "print(\"Encrypted Chunks:\", encrypted_message)\n",
    "decrypted_message = gp1.decrypt(encrypted_message)\n",
    "print(\"Decrypted Message:\", decrypted_message)\n",
    "print(\"e=\",gp1.print_e())\n",
    "print(\"n=\", gp1.print_n())"
   ]
  },
  {
   "cell_type": "code",
   "execution_count": 136,
   "id": "4023440c-ffa3-4838-8441-cc6bb7a7c116",
   "metadata": {},
   "outputs": [
    {
     "name": "stdout",
     "output_type": "stream",
     "text": [
      "Encrypted Chunks: [445095913, 350116070, 503420017, 563425008]\n",
      "Decrypted Message: somecookiessome\n",
      "e= 65537\n",
      "n= 619626379\n"
     ]
    }
   ],
   "source": [
    "gp2 = RSA(p2,q2)\n",
    "encrypted_message = gp2.encrypt(m2)\n",
    "print(\"Encrypted Chunks:\", encrypted_message)\n",
    "decrypted_message = gp2.decrypt(encrypted_message)\n",
    "print(\"Decrypted Message:\", decrypted_message)\n",
    "print(\"e=\",gp2.print_e())\n",
    "print(\"n=\", gp2.print_n())"
   ]
  },
  {
   "cell_type": "code",
   "execution_count": 137,
   "id": "087de957-e0e5-43a9-95f5-cbe0808a7595",
   "metadata": {},
   "outputs": [
    {
     "name": "stdout",
     "output_type": "stream",
     "text": [
      "Encrypted Chunks: [646036349, 260593007, 265276440, 454948204]\n",
      "Decrypted Message: whereinmeldrum\n",
      "e= 65537\n",
      "n= 657078017\n"
     ]
    }
   ],
   "source": [
    "gp3 = RSA(p3,q3)\n",
    "encrypted_message = gp3.encrypt(m3)\n",
    "print(\"Encrypted Chunks:\", encrypted_message)\n",
    "decrypted_message = gp3.decrypt(encrypted_message)\n",
    "print(\"Decrypted Message:\", decrypted_message)\n",
    "print(\"e=\",gp3.print_e())\n",
    "print(\"n=\", gp3.print_n())"
   ]
  },
  {
   "cell_type": "code",
   "execution_count": 138,
   "id": "9521f416-0ffc-4288-966d-3952274e196d",
   "metadata": {},
   "outputs": [
    {
     "name": "stdout",
     "output_type": "stream",
     "text": [
      "Encrypted Chunks: [1536085568, 1984800218, 227777262, 930794573]\n",
      "Decrypted Message: findkylesoffice\n",
      "e= 65537\n",
      "n= 2042561737\n"
     ]
    }
   ],
   "source": [
    "gp4 = RSA(p4,q4)\n",
    "encrypted_message = gp4.encrypt(m4)\n",
    "print(\"Encrypted Chunks:\", encrypted_message)\n",
    "decrypted_message = gp4.decrypt(encrypted_message)\n",
    "print(\"Decrypted Message:\", decrypted_message)\n",
    "print(\"e=\",gp4.print_e())\n",
    "print(\"n=\", gp4.print_n())"
   ]
  },
  {
   "cell_type": "code",
   "execution_count": 139,
   "id": "24b73af4-2794-4832-8d08-f19e5cd0788c",
   "metadata": {},
   "outputs": [
    {
     "name": "stdout",
     "output_type": "stream",
     "text": [
      "Encrypted Chunks: [317405550, 201343021, 437410051, 63395190]\n",
      "Decrypted Message: theofficemanager\n",
      "e= 65537\n",
      "n= 504196079\n"
     ]
    }
   ],
   "source": [
    "gp5 = RSA(p5,q5)\n",
    "encrypted_message = gp5.encrypt(m5)\n",
    "print(\"Encrypted Chunks:\", encrypted_message)\n",
    "decrypted_message = gp5.decrypt(encrypted_message)\n",
    "print(\"Decrypted Message:\", decrypted_message)\n",
    "print(\"e=\",gp5.print_e())\n",
    "print(\"n=\", gp5.print_n())"
   ]
  },
  {
   "cell_type": "code",
   "execution_count": 89,
   "id": "1a2e0f07-503f-4791-9d01-292eebd61102",
   "metadata": {},
   "outputs": [
    {
     "data": {
      "text/plain": [
       "2222"
      ]
     },
     "execution_count": 89,
     "metadata": {},
     "output_type": "execute_result"
    }
   ],
   "source": [
    "pow(encrypted_message[1],rsa.print_d(), mod=rsa.print_n())"
   ]
  },
  {
   "cell_type": "code",
   "execution_count": 100,
   "id": "fafdbe40-6e6a-4ffc-b5b5-cbee38738d19",
   "metadata": {},
   "outputs": [],
   "source": [
    "from sympy import randprime\n",
    "def generate_large_primes():\n",
    "    \"\"\"Generates two random prime numbers, each larger than 4 digits.\"\"\"\n",
    "    lower_bound = 10_000   # Smallest 5-digit number\n",
    "    upper_bound = 99_999   # Largest 5-digit number\n",
    "\n",
    "    p = randprime(lower_bound, upper_bound)\n",
    "    q = randprime(lower_bound, upper_bound)\n",
    "\n",
    "    # Ensure p and q are distinct\n",
    "    while p == q:\n",
    "        q = randprime(lower_bound, upper_bound)\n",
    "\n",
    "    return p, q"
   ]
  },
  {
   "cell_type": "code",
   "execution_count": 114,
   "id": "bfa7a409-4359-4813-8347-9252b297fba5",
   "metadata": {},
   "outputs": [
    {
     "data": {
      "text/plain": [
       "(73121, 78121, 23971, 25849, 15139, 43403, 22567, 90511, 40423, 12473)"
      ]
     },
     "execution_count": 114,
     "metadata": {},
     "output_type": "execute_result"
    }
   ],
   "source": [
    "p1,q1=generate_large_primes()\n",
    "p2,q2=generate_large_primes()\n",
    "p3,q3=generate_large_primes()\n",
    "p4,q4=generate_large_primes()\n",
    "p5,q5=generate_large_primes()\n",
    "p1,q1, p2,q2,p3,q3,p4,q4,p5,q5"
   ]
  },
  {
   "cell_type": "code",
   "execution_count": 119,
   "id": "70d60573-0da7-4e02-a566-07041fb448ff",
   "metadata": {},
   "outputs": [
    {
     "name": "stdout",
     "output_type": "stream",
     "text": [
      "p1= 73121 q1= 78121 p2= 23971 q2= 25849 p3= 15139 q3= 43403 p4= 22567 q4= 90511 p5= 40423 q5 12473\n"
     ]
    }
   ],
   "source": [
    "print(\"p1=\",p1,\"q1=\",q1,\"p2=\", p2,\"q2=\",q2,\"p3=\",p3,\"q3=\",q3,\"p4=\",p4,\"q4=\",q4,\"p5=\",p5,\"q5\",q5)"
   ]
  },
  {
   "cell_type": "code",
   "execution_count": 122,
   "id": "f56ad02d-dee8-4a2e-81ee-1401de718dc4",
   "metadata": {},
   "outputs": [
    {
     "ename": "KeyboardInterrupt",
     "evalue": "",
     "output_type": "error",
     "traceback": [
      "\u001b[0;31m---------------------------------------------------------------------------\u001b[0m",
      "\u001b[0;31mKeyboardInterrupt\u001b[0m                         Traceback (most recent call last)",
      "Cell \u001b[0;32mIn[122], line 7\u001b[0m\n\u001b[1;32m      5\u001b[0m                 counter \u001b[38;5;241m+\u001b[39m\u001b[38;5;241m=\u001b[39m \u001b[38;5;241m1\u001b[39m \u001b[38;5;66;03m#We count only the values k that are relatively prime to n. This increases our counter by 1.\u001b[39;00m\n\u001b[1;32m      6\u001b[0m         \u001b[38;5;28;01mreturn\u001b[39;00m counter  \n\u001b[0;32m----> 7\u001b[0m phi(p1\u001b[38;5;241m*\u001b[39mq1)\n",
      "Cell \u001b[0;32mIn[122], line 4\u001b[0m, in \u001b[0;36mphi\u001b[0;34m(n)\u001b[0m\n\u001b[1;32m      2\u001b[0m counter \u001b[38;5;241m=\u001b[39m \u001b[38;5;241m0\u001b[39m        \u001b[38;5;66;03m#Here is our counter. We'll start it at 0 because we haven't added anything to it.\u001b[39;00m\n\u001b[1;32m      3\u001b[0m \u001b[38;5;28;01mfor\u001b[39;00m k \u001b[38;5;129;01min\u001b[39;00m \u001b[38;5;28mrange\u001b[39m(\u001b[38;5;241m1\u001b[39m, n): \u001b[38;5;66;03m#here is where ne plays a role. We'redoing a for loop to check every number from 1 to n-1. \u001b[39;00m\n\u001b[0;32m----> 4\u001b[0m     \u001b[38;5;28;01mif\u001b[39;00m gcd(n, k) \u001b[38;5;241m==\u001b[39m \u001b[38;5;241m1\u001b[39m:\n\u001b[1;32m      5\u001b[0m         counter \u001b[38;5;241m+\u001b[39m\u001b[38;5;241m=\u001b[39m \u001b[38;5;241m1\u001b[39m \u001b[38;5;66;03m#We count only the values k that are relatively prime to n. This increases our counter by 1.\u001b[39;00m\n\u001b[1;32m      6\u001b[0m \u001b[38;5;28;01mreturn\u001b[39;00m counter\n",
      "\u001b[0;31mKeyboardInterrupt\u001b[0m: "
     ]
    }
   ],
   "source": [
    "def phi(n): #We're creating a new function, we'll call if phi. It takes in a number n.\n",
    "        counter = 0        #Here is our counter. We'll start it at 0 because we haven't added anything to it.\n",
    "        for k in range(1, n): #here is where ne plays a role. We'redoing a for loop to check every number from 1 to n-1. \n",
    "            if gcd(n, k) == 1:\n",
    "                counter += 1 #We count only the values k that are relatively prime to n. This increases our counter by 1.\n",
    "        return counter  \n",
    "phi(p1*q1)"
   ]
  },
  {
   "cell_type": "code",
   "execution_count": 123,
   "id": "a018faa1-e743-4e5e-852b-b970bccb6866",
   "metadata": {},
   "outputs": [],
   "source": [
    "def phi(n):\n",
    "    \"\"Efficient version that takes advantage of factorization, so it'll work on larger prime numbers\"\"\n",
    "    result = n  # Start with n, Euler's Totient function formula uses n as a base\n",
    "    p = 2\n",
    "    while p * p <= n:\n",
    "        if n % p == 0:\n",
    "            # If p is a divisor of n, it's a prime factor of n\n",
    "            while n % p == 0:\n",
    "                n //= p  # Divide out the prime factor p from n\n",
    "            result -= result // p  # Apply the formula factor for prime p\n",
    "        p += 1\n",
    "    # If n is still greater than 1, then n is prime\n",
    "    if n > 1:\n",
    "        result -= result // n  # Apply the formula factor for prime n\n",
    "    return result"
   ]
  },
  {
   "cell_type": "code",
   "execution_count": 125,
   "id": "9e0dcf57-de1e-4d47-b3b7-096a093d1c2c",
   "metadata": {},
   "outputs": [
    {
     "data": {
      "text/plain": [
       "5712134400"
      ]
     },
     "execution_count": 125,
     "metadata": {},
     "output_type": "execute_result"
    }
   ],
   "source": [
    "n1=p1*q1\n",
    "phi(n1)"
   ]
  },
  {
   "cell_type": "code",
   "execution_count": 126,
   "id": "17ea542e-cdee-4cd1-883c-2597b7e6ce64",
   "metadata": {},
   "outputs": [
    {
     "data": {
      "text/plain": [
       "619576560"
      ]
     },
     "execution_count": 126,
     "metadata": {},
     "output_type": "execute_result"
    }
   ],
   "source": [
    "n2=p2*q2\n",
    "phi(n2)"
   ]
  },
  {
   "cell_type": "code",
   "execution_count": 127,
   "id": "75b4cfc0-b2ca-446e-b6a5-bd1616c2ac17",
   "metadata": {},
   "outputs": [
    {
     "data": {
      "text/plain": [
       "657019476"
      ]
     },
     "execution_count": 127,
     "metadata": {},
     "output_type": "execute_result"
    }
   ],
   "source": [
    "n3=p3*q3\n",
    "phi(n3)"
   ]
  },
  {
   "cell_type": "code",
   "execution_count": 128,
   "id": "eb797faa-a48b-468e-8396-68f9da4d2622",
   "metadata": {},
   "outputs": [
    {
     "data": {
      "text/plain": [
       "2042448660"
      ]
     },
     "execution_count": 128,
     "metadata": {},
     "output_type": "execute_result"
    }
   ],
   "source": [
    "n4=p4*q4\n",
    "phi(n4)"
   ]
  },
  {
   "cell_type": "code",
   "execution_count": 129,
   "id": "2984452b-a497-4a9d-90c3-a81f19c043d3",
   "metadata": {},
   "outputs": [
    {
     "data": {
      "text/plain": [
       "504143184"
      ]
     },
     "execution_count": 129,
     "metadata": {},
     "output_type": "execute_result"
    }
   ],
   "source": [
    "n5=p5*q5\n",
    "phi(n5)"
   ]
  },
  {
   "cell_type": "code",
   "execution_count": null,
   "id": "292ef4aa-6c91-4130-964b-af585133a556",
   "metadata": {},
   "outputs": [],
   "source": []
  }
 ],
 "metadata": {
  "kernelspec": {
   "display_name": "Python 3 (ipykernel)",
   "language": "python",
   "name": "python3"
  },
  "language_info": {
   "codemirror_mode": {
    "name": "ipython",
    "version": 3
   },
   "file_extension": ".py",
   "mimetype": "text/x-python",
   "name": "python",
   "nbconvert_exporter": "python",
   "pygments_lexer": "ipython3",
   "version": "3.12.7"
  }
 },
 "nbformat": 4,
 "nbformat_minor": 5
}
