{
 "cells": [
  {
   "cell_type": "markdown",
   "metadata": {},
   "source": [
    "# Introduction to Python for cryptology"
   ]
  },
  {
   "cell_type": "markdown",
   "metadata": {},
   "source": [
    "## Your name goes here. \\(Double\\-click on this cell to edit it.\\)\n",
    "\n",
    "When you are done putting your name in the line above, hit Ctrl\\-Enter on your keyboard. \\(Usually, the Mac equivalent of Ctrl\\-Enter is Cmd\\-Enter, but even on a Mac **you need to use Ctrl\\-Enter!**\\)  The ugly text should go away and be replaced by beautifully formatted text. On a Mac you can also do SHIFT\\-Enter.\n",
    "\n"
   ]
  },
  {
   "cell_type": "markdown",
   "metadata": {},
   "source": [
    "## Commands in python introduced in this module\n",
    "\n",
    "---\n",
    "\n",
    "> **print, ord ,chr, =, lower, upper, def, if, for,  %**\n",
    "\n",
    "---\n",
    "\n"
   ]
  },
  {
   "cell_type": "markdown",
   "metadata": {},
   "source": [
    "## Objectives\n",
    "In this activity we will learn a little bit about Python and use it to start encrypting plaintext and decrypting ciphers. Learning outcomes include the following:\n",
    "\n",
    "* You will become familiar with the Jupyter notebook interface and Markdown.\n",
    "* You will learn some of the basics of Python code.\n",
    "* You will use simple functions we will write in Python to encrypt plaintext and decrypt ciphers with a simple shift cipher.\n",
    "\n",
    "\n",
    "## The Jupyter Notebook\n",
    "[Project Jupyter](http://jupyter.org/) is a non-profit, open-source project whose goal is to support interactive data science and scientific computing across all programming languages. According to their website,\n",
    "\n",
    "> The Jupyter Notebook is an open-source web application that allows you to create and share documents that contain live code, equations, visualizations and narrative text. Uses include: data cleaning and transformation, numerical simulation, statistical modeling, data visualization, machine learning, and much more.\n",
    "\n",
    "CoCalc supports Jupyter notebooks by allowing you to create and edit them in your browser while saving, tracking, and backing up your files in the cloud.\n",
    "\n",
    "Jupyter notebooks are organized into cells. There are two types of cells we'll use:\n",
    "\n",
    "1. Code cells:"
   ]
  },
  {
   "cell_type": "code",
   "execution_count": null,
   "metadata": {
    "collapsed": false,
    "jupyter": {
     "outputs_hidden": false
    }
   },
   "outputs": [],
   "source": [
    "# This is a code cell.\n",
    "2+2"
   ]
  },
  {
   "cell_type": "markdown",
   "metadata": {},
   "source": [
    "These are cells that run Python code. They are easy to spot because they have an input box labeled with `In []`. Once we have run the code in the cell, the brackets will display a number that represents the order in which the cells have been executed.\n",
    "\n",
    "When you see the number sign `#` (or hashtag as the kids are calling it these days), that indicates a code \"comment\". This is text that appears inside a code cell, but will not be treated as code to run by Python. Of course that means that any code you *do* want to run needs to appear on its own line, without the number sign.\n",
    "\n",
    "Click inside the cell above where it says `2+2`. Hit Ctrl-Enter. (Again, even on a Mac, **you need to use Ctrl-Enter!or SHIFT-enter**) This will execute the code in the cell."
   ]
  },
  {
   "cell_type": "markdown",
   "metadata": {},
   "source": [
    "### Exercise 1\n",
    "\n",
    "Calculate 3 + 3 in the cell below.\n",
    "\n",
    "Notice that when the code runs, the number in brackets to the left updates. Don't worry too much about this number. The output (when there is output to be printed) will appear right below the input."
   ]
  },
  {
   "cell_type": "code",
   "execution_count": null,
   "metadata": {
    "collapsed": false,
    "jupyter": {
     "outputs_hidden": false
    }
   },
   "outputs": [],
   "source": [
    "# Add code here to add 3 + 3"
   ]
  },
  {
   "cell_type": "markdown",
   "metadata": {},
   "source": [
    "*****"
   ]
  },
  {
   "cell_type": "markdown",
   "metadata": {},
   "source": [
    "2. Markdown cells:\n",
    "\n",
    "This is a Markdown cell. In fact, all the cells in this document that contain text are Markdown cells. To see the structure of this cell, double-click somewhere on top of this text. This will show you the plain text that generates the pretty, formatted text in the document. To get back to the formatted text, just hit Ctrl-Enter.\n",
    "\n",
    "Double-clicking will also show you some formatting tricks that Markdown uses. Use a combination of double clicks followed by Ctrl-Enter to compare the the plain text and the formatted text below.\n",
    "\n",
    "*italics*\n",
    "\n",
    "**bold**\n",
    "\n",
    "***bold italics***\n",
    "\n",
    "~~strikethrough~~\n",
    "\n",
    "`code`\n",
    "\n",
    "> blockquotes\n",
    "\n",
    "Horizontal rules:\n",
    "\n",
    "***\n",
    "\n",
    "[Web links](http://eelslap.com/)\n",
    "\n",
    "* Bullet-\n",
    "* pointed\n",
    "* lists\n",
    "  * with\n",
    "  * indented\n",
    "    * outline\n",
    "    * capabilities\n",
    "\n",
    "1. Numbered\n",
    "2. Lists\n",
    "\n",
    "Inline math: The quadratic formula says $x = \\frac{-b \\pm \\sqrt{b^{2} - 4ac}}{2a}$.\n",
    "\n",
    "Displayed math:\n",
    "\n",
    "$$\n",
    "i\\hbar \\frac{\\partial}{\\partial t}\\lvert \\Psi(\\mathbf{r}, t) \\rangle = \\hat{H} \\lvert \\Psi(\\mathbf{r}, t) \\rangle\n",
    "$$\n",
    "\n",
    "### Edit mode versus command mode: **VERY IMPORTANT!**\n",
    "\n",
    "**It is very important that you double-click on Markdown cells before trying to edit them!** Double-clicking puts you in \"edit\" mode and allows you to type. You can tell you're in edit mode because the left edge of the cell is green. If you single-click only, the cell's left edge will be blue. This means you're still in \"command\" mode. In command mode, the keyboard is assigned to various tasks like creating or deleting cells. Doing this by accident is very bad because it messes up your document. **Again, do not type anything on the keyboard until you're absolutely sure you're in edit mode. (Look for the green edge on the left!)**\n",
    "\n",
    "### If you get into trouble...\n",
    "\n",
    "If you've made a mistake that seems to have broken your code permanently, go back and find the last cell when everything was working. Click on that cell, go to the \"Cell\" menu above, and select \"Run all above\". This will re-run all the code you have already generated which will have the effect of resetting everything back to the last state when everything was working. Then carefully work through each subsequent cell one by one, executing each in turn, and fixing errors if there are any as you come across them. Do this until you work your way back to the spot where you got lost.\n",
    "\n",
    "## Python\n",
    "\n",
    "Python a popular programming language that used increasingly often by computer programmers. The goal here is not to make you fluent in Python, or even really to teach you that much about computer programming. This assignment is to help familiarize you with some of the features found in Python that will assist us in automating otherwise tedious tasks relating to cryptology.\n",
    "\n",
    "You can learn more about Python here: https://www.python.org/\n",
    "\n",
    "## Assigning variables\n",
    "\n",
    "In computer programming, *variables* are just storage containers for different kinds of objects. For example, in the code below, the sum of the two number is stored in a variable called `my_sum`. Click on the code cell and hit Ctrl-Enter to run it.\n",
    "\n"
   ]
  },
  {
   "cell_type": "code",
   "execution_count": null,
   "metadata": {
    "collapsed": false,
    "jupyter": {
     "outputs_hidden": false
    }
   },
   "outputs": [],
   "source": [
    "my_sum = 2 + 2"
   ]
  },
  {
   "cell_type": "markdown",
   "metadata": {},
   "source": [
    "The code worked silently in the background to create a variable called `my_sum` and assign it the number 4. To check that it worked, you can just type `my_sum` into a code cell by itself and run it. Hit Ctrl-Enter on the cell below to see."
   ]
  },
  {
   "cell_type": "code",
   "execution_count": null,
   "metadata": {
    "collapsed": false,
    "jupyter": {
     "outputs_hidden": false
    }
   },
   "outputs": [],
   "source": [
    "my_sum"
   ]
  },
  {
   "cell_type": "markdown",
   "metadata": {},
   "source": [
    "We can also use the `print` function with the same effect:"
   ]
  },
  {
   "cell_type": "code",
   "execution_count": null,
   "metadata": {
    "collapsed": false,
    "jupyter": {
     "outputs_hidden": false
    }
   },
   "outputs": [],
   "source": [
    "print(my_sum)"
   ]
  },
  {
   "cell_type": "markdown",
   "metadata": {},
   "source": [
    "## Working with strings\n",
    "\n",
    "In the previous example, we had a variable storing an integer. But we can store anything we want in a variable. A *string* is any sequence of characters whether they be letters or number or symbols of any kind. Strings are denoted in Python using quotation marks. For example, in the code below, the text \"mysecret\" is assigned to a variable named `plaintext`. Click on the code cell below and click Ctrl-Enter."
   ]
  },
  {
   "cell_type": "code",
   "execution_count": null,
   "metadata": {
    "collapsed": false,
    "jupyter": {
     "outputs_hidden": false
    }
   },
   "outputs": [],
   "source": [
    "plaintext = \"mysecret\""
   ]
  },
  {
   "cell_type": "markdown",
   "metadata": {},
   "source": [
    "To find out what's contained in the variable, as before, just type its name and run the cell. (At some point soon here, I'm going to stop reminding you to run cells using Ctrl-Enter.)"
   ]
  },
  {
   "cell_type": "code",
   "execution_count": null,
   "metadata": {
    "collapsed": false,
    "jupyter": {
     "outputs_hidden": false
    }
   },
   "outputs": [],
   "source": [
    "plaintext"
   ]
  },
  {
   "cell_type": "markdown",
   "metadata": {},
   "source": [
    "You may notice that we used double quotes when we defined the string, but the output is printed using single quotes. In Python, single and double quotes are basically interchangeable. We'll always use double quotes, as that allows a string to have an apostrophe without getting confused,"
   ]
  },
  {
   "cell_type": "code",
   "execution_count": null,
   "metadata": {
    "collapsed": false,
    "jupyter": {
     "outputs_hidden": false
    }
   },
   "outputs": [],
   "source": [
    "try_this = \"This'll be possible in Python\"\n",
    "try_this"
   ]
  },
  {
   "cell_type": "markdown",
   "metadata": {},
   "source": [
    "### Exercise 2\n",
    "\n",
    "Modify the `try_this` variable by changing the double quotes above to single quotes. Explain in the space below why you are getting an error. When you are done with this exercise, go back and change the quotes back to double quotes so it won't cause any more errors."
   ]
  },
  {
   "cell_type": "markdown",
   "metadata": {},
   "source": [
    "<span style='color:#9c27b0'>_Please write up your answer here._</span>\n"
   ]
  },
  {
   "cell_type": "markdown",
   "metadata": {},
   "source": [
    "In this case, Python also chose to print the output using double quotes. If you don't want to see the quotes at all, just use the `print` function:"
   ]
  },
  {
   "cell_type": "code",
   "execution_count": null,
   "metadata": {
    "collapsed": false,
    "jupyter": {
     "outputs_hidden": false
    }
   },
   "outputs": [],
   "source": [
    "print(plaintext)"
   ]
  },
  {
   "cell_type": "markdown",
   "metadata": {},
   "source": [
    "### ASCII"
   ]
  },
  {
   "cell_type": "markdown",
   "metadata": {},
   "source": [
    "All the standard characters in the English language, including numerals, uppercase and lower letters, as well as most punctuation, is given a numeric code by the computer. The system for assigning symbols to numbers is called ASCII, which stands for \"American Standard Code for Information Interchange\". It's pronounced \"ass-key\". [Insert juvenile joke here.]"
   ]
  },
  {
   "cell_type": "markdown",
   "metadata": {},
   "source": [
    "### Exercise 3\n",
    "\n",
    "Do a quick Google search for ASCII codes. In the cell below, type the ASCII code number corresponding to each of the following symbols. Tables you find online may give the codes in several different formats, like decimal, hexadecimal, octal, and others. Ignore everything except the \"decimal\" code, which will often be abbreviated \"DEC\". For example,\n",
    "* A = 65\n",
    "* a = 97"
   ]
  },
  {
   "cell_type": "markdown",
   "metadata": {},
   "source": [
    "You do these ones:\n",
    "\n",
    "- <span style='color:#9c27b0'>Q = </span><span style='color:#9c27b0'>**your answer goes here**</span>\n",
    "- <span style='color:#9c27b0'>e = </span><span style='color:#9c27b0'>**your answer goes here**</span>\n",
    "- <span style='color:#9c27b0'>z = </span><span style='color:#9c27b0'>**your answer goes here**</span><span style='color:#9c27b0'> \\[That's a lowercase \"z\" by the way.\\]</span>\n",
    "- <span style='color:#9c27b0'>4 = </span><span style='color:#9c27b0'>**your answer goes here**</span>\n",
    "- <span style='color:#9c27b0'>% = </span><span style='color:#9c27b0'>**your answer goes here**</span>\n",
    "- <span style='color:#9c27b0'>& = </span><span style='color:#9c27b0'>**your answer goes here**</span>\n",
    "\n",
    "What about a blank space? See if you can find the ASCII code for a blank space created by hitting the spacebar: <span style='color:#9c27b0'>**your answer goes here**</span>\n"
   ]
  },
  {
   "cell_type": "markdown",
   "metadata": {},
   "source": [
    "*****"
   ]
  },
  {
   "cell_type": "markdown",
   "metadata": {},
   "source": [
    "## Encryption\n",
    "\n",
    "To do cryptography, our first step is to write the plaintext message we want to encrypt and assign it to the variable `plaintext`. We did this above. Now, every time that Python sees the variable `plaintext`, it will replace it with the string \"mysecret\".\n",
    "\n",
    "Next, we define the key. In this case, the key is the number of letters to the right we want to shift. (Note that negative keys correspond to left shifts.) As an example, let's use the classical Caesar cipher, which has a right shift of 3 letters. From now on, whenever we type the word ``key``, Python will replace it with the number 3."
   ]
  },
  {
   "cell_type": "code",
   "execution_count": null,
   "metadata": {
    "collapsed": false,
    "jupyter": {
     "outputs_hidden": false
    }
   },
   "outputs": [],
   "source": [
    "key = 3"
   ]
  },
  {
   "cell_type": "markdown",
   "metadata": {},
   "source": [
    "### Shifting a single letter"
   ]
  },
  {
   "cell_type": "markdown",
   "metadata": {},
   "source": [
    "OK, now here's the tricky part. How do we actually shift every single letter of the plaintext \"mysecret\" over by 3?\n",
    "\n",
    "Let's try shifting a single letter. Let's suppose we have the letter \"a\". We need to get Python to give us back \"D\". \\(Recall that we're using the convention that the plaintext is lowercase and the ciphertext is uppercase.\\)\n",
    "\n",
    "First, we'll learn the `ord` function. This function takes a character and gives us back the ASCII code number for that character.\n",
    "\n"
   ]
  },
  {
   "cell_type": "code",
   "execution_count": null,
   "metadata": {
    "collapsed": false,
    "jupyter": {
     "outputs_hidden": false
    }
   },
   "outputs": [],
   "source": [
    "ord(\"a\")"
   ]
  },
  {
   "cell_type": "markdown",
   "metadata": {},
   "source": [
    "What if we add 3 to this number?"
   ]
  },
  {
   "cell_type": "code",
   "execution_count": null,
   "metadata": {
    "collapsed": false,
    "jupyter": {
     "outputs_hidden": false
    }
   },
   "outputs": [],
   "source": [
    "ord(\"a\") + 3"
   ]
  },
  {
   "cell_type": "markdown",
   "metadata": {},
   "source": [
    "Okay, but what letter does that correspond to? The `chr` function converts from ASCII codes back to characters."
   ]
  },
  {
   "cell_type": "code",
   "execution_count": null,
   "metadata": {
    "collapsed": false,
    "jupyter": {
     "outputs_hidden": false
    }
   },
   "outputs": [],
   "source": [
    "chr(ord(\"a\") + 3)"
   ]
  },
  {
   "cell_type": "markdown",
   "metadata": {},
   "source": [
    "This basically worked, except that our ciphertext looks like a lowercase \"d\". How do we get it to be uppercase? There is another convenient command we can use, called `upper`.\n",
    "\n",
    "To use `upper`, take a string, add a dot to the end, and then type `upper()` as follows:"
   ]
  },
  {
   "cell_type": "code",
   "execution_count": null,
   "metadata": {
    "collapsed": false,
    "jupyter": {
     "outputs_hidden": false
    }
   },
   "outputs": [],
   "source": [
    "\"d\".upper()"
   ]
  },
  {
   "cell_type": "markdown",
   "metadata": {},
   "source": [
    "Let's look at the output from above:"
   ]
  },
  {
   "cell_type": "code",
   "execution_count": null,
   "metadata": {
    "collapsed": false,
    "jupyter": {
     "outputs_hidden": false
    }
   },
   "outputs": [],
   "source": [
    "chr(ord(\"a\") + 3)"
   ]
  },
  {
   "cell_type": "markdown",
   "metadata": {},
   "source": [
    "We can make the output uppercase using `upper()`, attaching it to the end with a dot:"
   ]
  },
  {
   "cell_type": "code",
   "execution_count": null,
   "metadata": {
    "collapsed": false,
    "jupyter": {
     "outputs_hidden": false
    }
   },
   "outputs": [],
   "source": [
    "chr(ord(\"a\") + 3).upper()"
   ]
  },
  {
   "cell_type": "markdown",
   "metadata": {},
   "source": [
    "### Functions"
   ]
  },
  {
   "cell_type": "markdown",
   "metadata": {},
   "source": [
    "A *function* in a computer program takes some kind of input, does something to that input, and returns some output.\n",
    "\n",
    "This is not unlike a mathematical function that you know from, say, an algebra class. A function like $f(x) = x^2$ takes an input (the number $x$), does something to it (squares it), and returns some output (the number $x^2$).\n",
    "\n",
    "The sequence of steps above started with an input, the lowercase \"a\". Then we did some stuff: we used `ord` to convert to ASCII, then shifted the number up by 3, applied `chr` to convert it back to a letter, then make it uppercase with `upper`. The output is the letter \"D\". We can automate these steps in a function. Then we will be able to use this function for any letter, not just the letter \"a\".\n",
    "\n",
    "You will not be required to write your own functions in this course. It's enough that you can follow the logic so that you know how to apply it to input in order to get the output you desire.\n",
    "\n",
    "Here is the function, called `shift_encrypt_letter_test1`:"
   ]
  },
  {
   "cell_type": "code",
   "execution_count": null,
   "metadata": {
    "collapsed": false,
    "jupyter": {
     "outputs_hidden": false
    }
   },
   "outputs": [],
   "source": [
    "def shift_encrypt_letter_test1(plaintext_letter, key):\n",
    "    # Convert input to ASCII\n",
    "    plaintext_ascii = ord(plaintext_letter)\n",
    "    # Shift by key\n",
    "    ciphertext_ascii = plaintext_ascii + key\n",
    "    # Find letter output\n",
    "    ciphertext_letter = chr(ciphertext_ascii)\n",
    "    # Return output as uppercase letter\n",
    "    return ciphertext_letter.upper()"
   ]
  },
  {
   "cell_type": "markdown",
   "metadata": {},
   "source": [
    "Let's look at a couple of important pieces of a function:\n",
    "\n",
    "* The word `def` is used to define the function.\n",
    "* The name of the function can be anything we want, but it's usually a good idea to choose a name that describes the purpose of the function. In this case, we chose `shift_encrypt_letter_test1`.\n",
    "* The parentheses contain the \"parameters\" of the function. These are pieces of information the user needs to supply. When the user supplies inputs to the function, those inputs are called \"arguments\". In other words, the **p**arameters are **p**laceholders that tell the user that they need to supply **a**ctual values as **a**rguments. Which letter to we want to encrypt? That will go in the slot called `plaintext_letter`. Which key do we want to use? That number will go in the slot called `key`.\n",
    "* There is a colon at the end of the first line to indicate that everything that follows is the algorithm, or the set of instructions.\n",
    "* Each line after the colon has to be indented. This is a coding practice specific to Python. It's how Python knows which lines of code belong to the function.\n",
    "* I've included a comment before each new line of instruction. This is optional, but it helps new users (or even yourself in the future!) know what each line of code is supposed to do. (In real programming applications, there would be fewer comments, often just one for a block of code that completes a discrete task.)\n",
    "* The last line uses `return` to tell the function that there are no more instructions to follow. The result will be returned by the function back to the user."
   ]
  },
  {
   "cell_type": "markdown",
   "metadata": {},
   "source": [
    "Let's test this function. To use `shift_encrypt_letter_test1`, we need to supply the letter we wish to use, and the key, as follows:"
   ]
  },
  {
   "cell_type": "code",
   "execution_count": null,
   "metadata": {
    "collapsed": false,
    "jupyter": {
     "outputs_hidden": false
    }
   },
   "outputs": [],
   "source": [
    "shift_encrypt_letter_test1(\"a\", key = 3)"
   ]
  },
  {
   "cell_type": "markdown",
   "metadata": {},
   "source": [
    "### Exercise 4\n",
    "\n",
    "There is something wrong with this function. Try encrypting the letter \"z\" (still with `key = 3`) to see. Explain what you think is going on. (Hint: look at the ASCII tables.)"
   ]
  },
  {
   "cell_type": "code",
   "execution_count": null,
   "metadata": {
    "collapsed": false,
    "jupyter": {
     "outputs_hidden": false
    }
   },
   "outputs": [],
   "source": [
    "# Add code here to use the shift_encrypt_test1 function on the letter \"z\""
   ]
  },
  {
   "cell_type": "markdown",
   "metadata": {},
   "source": [
    "*Please write up your answer here.*"
   ]
  },
  {
   "cell_type": "markdown",
   "metadata": {},
   "source": [
    "*****"
   ]
  },
  {
   "cell_type": "markdown",
   "metadata": {},
   "source": [
    "### Modular arithmetic in Python\n",
    "\n",
    "Somehow, we need to see if we can get the letters to \"wrap around\" the correct way. Adding 3 to the ASCII code for \"z\" moves further along in the table, rather than wrapping around to \"c\" as it should.\n",
    "\n",
    "The solution here is to use modular arithmetic. Suppose the numbers assigned to \"a\" through \"z\" were 0 to 25. Adding 3 mod 26 will always give the right answer.\n",
    "\n",
    "The way to do this is to use the % sign. For example, what is 32 mod 20?"
   ]
  },
  {
   "cell_type": "code",
   "execution_count": null,
   "metadata": {
    "collapsed": false,
    "jupyter": {
     "outputs_hidden": false
    }
   },
   "outputs": [],
   "source": [
    "32 % 20"
   ]
  },
  {
   "cell_type": "markdown",
   "metadata": {},
   "source": [
    "What about -7 mod 17?"
   ]
  },
  {
   "cell_type": "code",
   "execution_count": null,
   "metadata": {
    "collapsed": false,
    "jupyter": {
     "outputs_hidden": false
    }
   },
   "outputs": [],
   "source": [
    "-7 % 17"
   ]
  },
  {
   "cell_type": "markdown",
   "metadata": {},
   "source": [
    "### Exercise 5\n",
    "\n",
    "Experiment with reducing numbers mod 2. What is true of all the numbers that reduce to 0 mod 2? What is true of all the numbers that reduce to 1 mod 2?"
   ]
  },
  {
   "cell_type": "code",
   "execution_count": null,
   "metadata": {
    "collapsed": false,
    "jupyter": {
     "outputs_hidden": false
    }
   },
   "outputs": [],
   "source": [
    "# Add code here to try out numbers mod 2"
   ]
  },
  {
   "cell_type": "markdown",
   "metadata": {},
   "source": [
    "*Please write up your answer here.*"
   ]
  },
  {
   "cell_type": "markdown",
   "metadata": {},
   "source": [
    "*****"
   ]
  },
  {
   "cell_type": "markdown",
   "metadata": {},
   "source": [
    "Let's try with letters. If \"a\" = 0, then \"z\" = 25. We add 3 and reduce the answer mod 26:"
   ]
  },
  {
   "cell_type": "code",
   "execution_count": null,
   "metadata": {
    "collapsed": false,
    "jupyter": {
     "outputs_hidden": false
    }
   },
   "outputs": [],
   "source": [
    "(25 + 3) % 26"
   ]
  },
  {
   "cell_type": "markdown",
   "metadata": {},
   "source": [
    "Is that correct? Yes! The number 2 represents the letter \"c\". (Remember that \"a\" is 0. We have to start counting at 0 in modular arithmetic.)\n",
    "\n",
    "So how do we get the numbers 0 through 25 to be assigned to \"a\" through \"z\"? As it currently stands, using ASCII codes, \"a\" = 97 and \"z\" = 122.\n",
    "\n",
    "What if we just subtract 97 from every ASCII code?"
   ]
  },
  {
   "cell_type": "code",
   "execution_count": null,
   "metadata": {
    "collapsed": false,
    "jupyter": {
     "outputs_hidden": false
    }
   },
   "outputs": [],
   "source": [
    "ord(\"a\") - 97"
   ]
  },
  {
   "cell_type": "code",
   "execution_count": null,
   "metadata": {
    "collapsed": false,
    "jupyter": {
     "outputs_hidden": false
    }
   },
   "outputs": [],
   "source": [
    "ord(\"z\") - 97"
   ]
  },
  {
   "cell_type": "markdown",
   "metadata": {},
   "source": [
    "Yes, that works! Let's make a new little function that does this shifting. Since we always will need a shift of 97, we can hard-code that number into a \"constant\" called `MOVE_NUMBER`. The value of `MOVE_NUMBER` is just assigned to be 97."
   ]
  },
  {
   "cell_type": "code",
   "execution_count": null,
   "metadata": {
    "collapsed": false,
    "jupyter": {
     "outputs_hidden": false
    }
   },
   "outputs": [],
   "source": [
    "def convert_letter_to_number(letter):\n",
    "    # Define constant that will allow us to move the letter codes by 97\n",
    "    MOVE_NUMBER = 97\n",
    "    # Convert input to ASCII (97 to 122)\n",
    "    number_ascii = ord(letter)\n",
    "    # Move number to lie in the range 0 to 25\n",
    "    number = number_ascii - MOVE_NUMBER\n",
    "    return number"
   ]
  },
  {
   "cell_type": "markdown",
   "metadata": {},
   "source": [
    "Testing the function:"
   ]
  },
  {
   "cell_type": "code",
   "execution_count": null,
   "metadata": {
    "collapsed": false,
    "jupyter": {
     "outputs_hidden": false
    }
   },
   "outputs": [],
   "source": [
    "convert_letter_to_number(\"a\")"
   ]
  },
  {
   "cell_type": "code",
   "execution_count": null,
   "metadata": {
    "collapsed": false,
    "jupyter": {
     "outputs_hidden": false
    }
   },
   "outputs": [],
   "source": [
    "convert_letter_to_number(\"z\")"
   ]
  },
  {
   "cell_type": "markdown",
   "metadata": {},
   "source": [
    "If we have a number from 0 to 25, we might be interested in converting it back to a letter. We can basically do the same thing, but in reverse."
   ]
  },
  {
   "cell_type": "code",
   "execution_count": null,
   "metadata": {
    "collapsed": false,
    "jupyter": {
     "outputs_hidden": false
    }
   },
   "outputs": [],
   "source": [
    "def convert_number_to_letter(number):\n",
    "    # Define constant that will allow us to move the letter codes by 97\n",
    "    MOVE_NUMBER = 97\n",
    "    # Move number to lie in the ASCII range 97 to 122\n",
    "    number_ascii = number + MOVE_NUMBER\n",
    "    # Convert number to letter\n",
    "    letter = chr(number_ascii)\n",
    "    return letter"
   ]
  },
  {
   "cell_type": "markdown",
   "metadata": {},
   "source": [
    "### Exercise 6\n",
    "\n",
    "You test the `convert_number_to_letter` function in the code cell below. Be sure to try out several numbers between 0 and 25 to make sure they give you back the letters you expect."
   ]
  },
  {
   "cell_type": "code",
   "execution_count": null,
   "metadata": {
    "collapsed": false,
    "jupyter": {
     "outputs_hidden": false
    }
   },
   "outputs": [],
   "source": [
    "# Add code here to test convert_number_to_letter"
   ]
  },
  {
   "cell_type": "markdown",
   "metadata": {},
   "source": [
    "*****"
   ]
  },
  {
   "cell_type": "markdown",
   "metadata": {},
   "source": [
    "\n",
    "Now we can modify our encryption function to get one that works for *all* letters. We'll throw away our first \"test\" function and define one that will work called `shift_encrypt_letter_test2`. For now, this function will still only shift one letter at a time.\n",
    "\n",
    "We can use our cute new shifting functions to do most of the heavy lifting.\n",
    "\n",
    "Walk through the function line by line slowly. Make sure you understand the effect of each line of code."
   ]
  },
  {
   "cell_type": "code",
   "execution_count": null,
   "metadata": {
    "collapsed": false,
    "jupyter": {
     "outputs_hidden": false
    }
   },
   "outputs": [],
   "source": [
    "def shift_encrypt_letter_test2(plaintext_letter, key):\n",
    "    # Convert the plaintext letter to a number between 0 and 25\n",
    "    plaintext_number = convert_letter_to_number(plaintext_letter)\n",
    "    # Shift the plaintext number by the key and reduce mod 26\n",
    "    ciphertext_number = (plaintext_number + key) % 26\n",
    "    # Convert the result into a ciphertext letter\n",
    "    ciphertext_letter = convert_number_to_letter(ciphertext_number)\n",
    "    # Return output\n",
    "    return ciphertext_letter.upper()"
   ]
  },
  {
   "cell_type": "markdown",
   "metadata": {},
   "source": [
    "Notice that inside the `shift_encrypt_letter_test2` function, we called both the `convert_letter_to_number` and `convert_number_to_letter` functions. [Functions inside of functions!](http://www.quickmeme.com/img/a2/a259c0fd97091dcfb96399f54c4bde40e99a88bd071232715033a8d7d1b45fcc.jpg)\n",
    "\n",
    "Testing it out:"
   ]
  },
  {
   "cell_type": "code",
   "execution_count": null,
   "metadata": {
    "collapsed": false,
    "jupyter": {
     "outputs_hidden": false
    }
   },
   "outputs": [],
   "source": [
    "shift_encrypt_letter_test2(\"a\", key = 3)"
   ]
  },
  {
   "cell_type": "code",
   "execution_count": null,
   "metadata": {
    "collapsed": false,
    "jupyter": {
     "outputs_hidden": false
    }
   },
   "outputs": [],
   "source": [
    "shift_encrypt_letter_test2(\"z\", key = 3)"
   ]
  },
  {
   "cell_type": "markdown",
   "metadata": {},
   "source": [
    "Yay! "
   ]
  },
  {
   "cell_type": "markdown",
   "metadata": {},
   "source": [
    "## Shifting multiple letters\n",
    "\n",
    "Great! You've managed to shift one plaintext letter to a ciphertext letter. However, in order to encrypt messages, we're going to need to shift *multiple* plaintext letters at once. To do this, we need the magic of \"for\" loops.\n",
    "\n",
    "What is a for loop? It is a chunk of code that repeats an instruction or set of instructions a certain number of times. For example, what if we wanted to print all the letters of a string one-by-one? The for loop looks like this:"
   ]
  },
  {
   "cell_type": "code",
   "execution_count": null,
   "metadata": {
    "collapsed": false,
    "jupyter": {
     "outputs_hidden": false
    }
   },
   "outputs": [],
   "source": [
    "for letter in plaintext:\n",
    "    print(letter)"
   ]
  },
  {
   "cell_type": "markdown",
   "metadata": {},
   "source": [
    "The loop takes each character of the string `plaintext` (which was defined earlier to be \"mysecret\") and assigns it, one by one, to the variable `letter`. Then for each of those characters, it follows the instruction to `print` that `letter`. When we get to the end of the instructions, we cycle back to the beginning and `letter` changes to be the next letter in `plaintext`. The for loop terminates when there are no more letters left.\n",
    "\n",
    "Here's another way to use a for loop. What if we want to use numbers as inputs. The `range` function below will keep cycling for every number from 0 to 10. For each number, we follow the instructions to print the output."
   ]
  },
  {
   "cell_type": "code",
   "execution_count": null,
   "metadata": {
    "collapsed": false,
    "jupyter": {
     "outputs_hidden": false
    }
   },
   "outputs": [],
   "source": [
    "for x in range(0, 11):\n",
    "    print(x**2)"
   ]
  },
  {
   "cell_type": "markdown",
   "metadata": {},
   "source": [
    "Wait a minute! Why did we type `range(0, 11)`? [It didn't actually go to 11.](https://youtu.be/KOO5S4vxi0o) Well, the simple answer is that Python is a little unusual in this way, and you just have to remember that the top of the range should be 1 more than where you actually want to stop. The slightly more complex reason is that, as long as we start at 0, as is common in computer programming tasks, then `range(0, 11)` will produce numbers 0 though 10, but that is a set of 11 numbers."
   ]
  },
  {
   "cell_type": "markdown",
   "metadata": {},
   "source": [
    "### Exercise 7\n",
    "\n",
    "By examining the output, what do you suppose the `**` is doing mathematically?"
   ]
  },
  {
   "cell_type": "markdown",
   "metadata": {},
   "source": [
    "*Please write up your answer here*"
   ]
  },
  {
   "cell_type": "markdown",
   "metadata": {},
   "source": [
    "*****"
   ]
  },
  {
   "cell_type": "markdown",
   "metadata": {},
   "source": [
    "### Encrypting a whole word\n",
    "\n",
    "Let's try to write a for loop that encrypts the entire message \"mysecret\" with a shift of 3.\n",
    "\n",
    "The way we'll store our answer is in a variable called `ciphertext`. When we start the algorithm, `ciphertext` will be empty. It will have no characters in it. Then, in a for loop, we'll apply our function above to each letter individually. Once the letter is encoded, we'll add it to the `ciphertext` variable, one letter at a time."
   ]
  },
  {
   "cell_type": "code",
   "execution_count": null,
   "metadata": {
    "collapsed": false,
    "jupyter": {
     "outputs_hidden": false
    }
   },
   "outputs": [],
   "source": [
    "ciphertext = \"\"  # We have to start with an empty string\n",
    "\n",
    "for letter in plaintext:\n",
    "    ciphertext_letter = shift_encrypt_letter_test2(letter, key = 3)\n",
    "    ciphertext = ciphertext + ciphertext_letter\n",
    "\n",
    "ciphertext"
   ]
  },
  {
   "cell_type": "markdown",
   "metadata": {},
   "source": [
    "The last instruction `ciphertext = ciphertext + ciphertext_letter` deserves a little explanation. The variable `ciphertext` starts off as an empty string. The variable `ciphertext_letter` is the uppercase output from the function `shift_encrypt_letter_test2`. We connect them with a plus sign. But can we add two strings? Yes! This is called \"concatenation\" and that's just a fancy way of saying to glue one string onto the end of another string. Let's try it with a simple example:"
   ]
  },
  {
   "cell_type": "code",
   "execution_count": null,
   "metadata": {
    "collapsed": false,
    "jupyter": {
     "outputs_hidden": false
    }
   },
   "outputs": [],
   "source": [
    "string1 = \"This is a complete \"\n",
    "string2 = \"sentence.\"\n",
    "\n",
    "string1 + string2"
   ]
  },
  {
   "cell_type": "markdown",
   "metadata": {},
   "source": [
    "(Notice that `string1` has an extra space after the word \"complete\". What would have happened if we hadn't put a space there?)\n",
    "\n",
    "In our `ciphertext` example, at the beginning of the for loop, it looks like this:"
   ]
  },
  {
   "cell_type": "code",
   "execution_count": null,
   "metadata": {
    "collapsed": false,
    "jupyter": {
     "outputs_hidden": false
    }
   },
   "outputs": [],
   "source": [
    "ciphertext = \"\"\n",
    "ciphertext_letter = \"P\"\n",
    "\n",
    "ciphertext + ciphertext_letter"
   ]
  },
  {
   "cell_type": "markdown",
   "metadata": {},
   "source": [
    "Then on the next iteration of the for loop, it looks like this:"
   ]
  },
  {
   "cell_type": "code",
   "execution_count": null,
   "metadata": {
    "collapsed": false,
    "jupyter": {
     "outputs_hidden": false
    }
   },
   "outputs": [],
   "source": [
    "ciphertext = \"P\"\n",
    "ciphertext_letter = \"B\"\n",
    "\n",
    "ciphertext + ciphertext_letter"
   ]
  },
  {
   "cell_type": "markdown",
   "metadata": {},
   "source": [
    "On the next iteration,"
   ]
  },
  {
   "cell_type": "code",
   "execution_count": null,
   "metadata": {
    "collapsed": false,
    "jupyter": {
     "outputs_hidden": false
    }
   },
   "outputs": [],
   "source": [
    "ciphertext = \"PB\"\n",
    "ciphertext_letter = \"V\"\n",
    "\n",
    "ciphertext + ciphertext_letter"
   ]
  },
  {
   "cell_type": "markdown",
   "metadata": {},
   "source": [
    "...and so on and so forth, until the final letter is added to the string.\n",
    "\n",
    "The final step then is to write a single function called `shift_encrypt_test` that will do all the work. Our current function, `shift_encrypt_letter_test2` only does one letter at a time and required us to use a for loop to get through a sequence of letters. If we put all the steps into one big function, we can encrypt messages in one step."
   ]
  },
  {
   "cell_type": "code",
   "execution_count": null,
   "metadata": {
    "collapsed": false,
    "jupyter": {
     "outputs_hidden": false
    }
   },
   "outputs": [],
   "source": [
    "def shift_encrypt_test(plaintext, key):\n",
    "    ciphertext = \"\"\n",
    "    for letter in plaintext:\n",
    "        ciphertext_letter = shift_encrypt_letter_test2(letter, key)\n",
    "        ciphertext = ciphertext + ciphertext_letter\n",
    "    return ciphertext"
   ]
  },
  {
   "cell_type": "markdown",
   "metadata": {},
   "source": [
    "To encrypt a different word, just replace the `plaintext` argument:"
   ]
  },
  {
   "cell_type": "code",
   "execution_count": null,
   "metadata": {
    "collapsed": false,
    "jupyter": {
     "outputs_hidden": false
    }
   },
   "outputs": [],
   "source": [
    "shift_encrypt_test(\"potato\", key = 3)"
   ]
  },
  {
   "cell_type": "markdown",
   "metadata": {},
   "source": [
    "### Exercise 8\n",
    "\n",
    "Encrypt the phrase \"ilikepythonalot\" with a Caeser cipher. (The key is still 3.)"
   ]
  },
  {
   "cell_type": "code",
   "execution_count": null,
   "metadata": {
    "collapsed": false,
    "jupyter": {
     "outputs_hidden": false
    }
   },
   "outputs": [],
   "source": [
    "# Add code here to encrypt the phrase \"ilikepythonalot\""
   ]
  },
  {
   "cell_type": "markdown",
   "metadata": {},
   "source": [
    "### Exercise 9\n",
    "\n",
    "Now encrypt the phrase \"thisoneisonlyalittleharder\" using a shift of 15 instead of 3."
   ]
  },
  {
   "cell_type": "code",
   "execution_count": null,
   "metadata": {
    "collapsed": false,
    "jupyter": {
     "outputs_hidden": false
    }
   },
   "outputs": [],
   "source": [
    "# Add code here to encrypt the phrase \"thisoneisonlyalittleharder\""
   ]
  },
  {
   "cell_type": "markdown",
   "metadata": {},
   "source": [
    "### Exercise 10\n",
    "\n",
    "What do you think happens if you try to use a key that's larger than your alphabet? Try encoding a message with a shift of 27 and see! Is the result what you expected? Explain what happened using modular arithmetic."
   ]
  },
  {
   "cell_type": "code",
   "execution_count": null,
   "metadata": {
    "collapsed": false,
    "jupyter": {
     "outputs_hidden": false
    }
   },
   "outputs": [],
   "source": [
    "# Add code here to encrypt a message using the shift_encrypt function with a key of 27."
   ]
  },
  {
   "cell_type": "markdown",
   "metadata": {},
   "source": [
    "*Please write up your answer here.*"
   ]
  },
  {
   "cell_type": "markdown",
   "metadata": {},
   "source": [
    "### Exercise 11\n",
    "\n",
    "What if you had plaintext that used uppercase letters instead of lowercase letters? Would this function work? Try it with the uppercase letter \"W\" and a shift of 10. Explain what happened using the ASCII table and modular arithmetic."
   ]
  },
  {
   "cell_type": "code",
   "execution_count": null,
   "metadata": {
    "collapsed": false,
    "jupyter": {
     "outputs_hidden": false
    }
   },
   "outputs": [],
   "source": [
    "# Add code here to encrypt \"W\" with a shift of 10."
   ]
  },
  {
   "cell_type": "markdown",
   "metadata": {},
   "source": [
    "*Please write up your answer here.*"
   ]
  },
  {
   "cell_type": "markdown",
   "metadata": {},
   "source": [
    "### Exercise 12\n",
    "\n",
    "What if you had plaintext that used symbols, inlcuding spaces? Would this function work? Choose any symbol on the keyboard that's not a letter. (Look at an ASCII table and make sure you can find the ASCII code for the symbol you choose.) Use a shift of 10 and observe the output. Explain what happened using the ASCII table and modular arithmetic. (Be sure to put the symbol in quotes. It's still being treated as a string.)"
   ]
  },
  {
   "cell_type": "code",
   "execution_count": null,
   "metadata": {
    "collapsed": false,
    "jupyter": {
     "outputs_hidden": false
    }
   },
   "outputs": [],
   "source": [
    "# Add code here to encrypt a symbol with a shift of 10,"
   ]
  },
  {
   "cell_type": "markdown",
   "metadata": {},
   "source": [
    "*Please write up your answer here.*"
   ]
  },
  {
   "cell_type": "markdown",
   "metadata": {},
   "source": [
    "### Making our function more robust\n",
    "\n",
    "The results of the last few exercises teach us that our function is not foolproof. If the user supplies only lowercase letters, we are pretty confident our function works great. But as soon as they try to include uppercase letters or any kind of other number or symbol, our function breaks. Let's add some code to fix this problem.\n",
    "\n",
    "How would we build a test that checks if the input is a lowercase letter. We can do that with an \"if/else\" statement, like the following:"
   ]
  },
  {
   "cell_type": "code",
   "execution_count": null,
   "metadata": {
    "collapsed": false,
    "jupyter": {
     "outputs_hidden": false
    }
   },
   "outputs": [],
   "source": [
    "a = 10\n",
    "b = 12\n",
    "\n",
    "if a < b:\n",
    "    print(\"a is less than b\")\n",
    "else:\n",
    "    print(\"a is not less than b\")"
   ]
  },
  {
   "cell_type": "code",
   "execution_count": null,
   "metadata": {
    "collapsed": false,
    "jupyter": {
     "outputs_hidden": false
    }
   },
   "outputs": [],
   "source": [
    "a = 20\n",
    "b = 12\n",
    "\n",
    "if a < b:\n",
    "    print(\"a is less than b\")\n",
    "else:\n",
    "    print(\"a is not less than b\")"
   ]
  },
  {
   "cell_type": "markdown",
   "metadata": {},
   "source": [
    "### Exercise 13\n",
    "\n",
    "Predict what would happen if `a` and `b` in the above code were the same number. Try it by copying and pasting either of the code cells above, but change the values of `a` and `b` to make them equal and run the cell.\n"
   ]
  },
  {
   "cell_type": "code",
   "execution_count": null,
   "metadata": {
    "collapsed": false,
    "jupyter": {
     "outputs_hidden": false
    }
   },
   "outputs": [],
   "source": [
    "# Copy/paste/modify code here"
   ]
  },
  {
   "cell_type": "markdown",
   "metadata": {},
   "source": [
    "*Please write up your answer here.*"
   ]
  },
  {
   "cell_type": "markdown",
   "metadata": {},
   "source": [
    "*****"
   ]
  },
  {
   "cell_type": "markdown",
   "metadata": {},
   "source": [
    "You may have several conditions to check. There are a number of ways to do this in Python, but one easy way is to use `elif` which stands for \"else if\". In other words, if the first condition fails, check if the next condition is true. We'll try it below with an extra condition so that we can check all three possible outcomes."
   ]
  },
  {
   "cell_type": "code",
   "execution_count": null,
   "metadata": {
    "collapsed": false,
    "jupyter": {
     "outputs_hidden": false
    }
   },
   "outputs": [],
   "source": [
    "a = 20\n",
    "b = 20\n",
    "\n",
    "if a < b:\n",
    "    print(\"a is less than b\")\n",
    "elif a > b:\n",
    "    print(\"a is greater than b\")\n",
    "else:\n",
    "    print(\"a and b are equal\")"
   ]
  },
  {
   "cell_type": "markdown",
   "metadata": {},
   "source": [
    "Experiment with the code cell above. Check that all three conditions work; namely, try values of a less than b, greater than b, or equal to b to test the code.\n",
    "\n",
    "Moving on now to checking characters as inputs, if a character is already a lowercase letter, we know the program works as is. So we need to check if a character is a lowercase letter. One way to check that is to look at its ASCII code. If a character has an ASCII code greater than or equal to 97 and less than or equal to 122, it's a lowercase letter. Since the combination of two inequalities indicates a character is lowercase, we need to check both conditions. A character is lowercase if its ASCII code is greater than or equal to 97 AND if it is less than or equal to 122. The code we need to type to check an \"and\" condition in Python is helpfully just `and`."
   ]
  },
  {
   "cell_type": "code",
   "execution_count": null,
   "metadata": {
    "collapsed": false,
    "jupyter": {
     "outputs_hidden": false
    }
   },
   "outputs": [],
   "source": [
    "test_symbol = \"#\"\n",
    "\n",
    "if ord(test_symbol) >= 97 and ord(test_symbol) <= 122:\n",
    "    print(\"That's a lowercase letter!\")\n",
    "else:\n",
    "    print(\"That's not a lowercase letter!\")"
   ]
  },
  {
   "cell_type": "markdown",
   "metadata": {},
   "source": [
    "Try this on your own: replace the \"#\" in the above code cell with other characters (and then run the cell). Try symbols that have ASCII codes close to 97 and 127 to make sure it works near the boundary of our range of values. Try lowercase letters as well. Make sure that the output is correct based on your choices.\n",
    "\n",
    "The next obvious question is what we want our program to do with characters that are not lowercase letters. Well, it depends. If the character is some kind of number or other symbol, we should probably just leave it alone. For example, there may be apostrophes and other types of punctuation in the text, and we should just leave those alone. However, what if the user supplies uppercase letters? We should probably assume they want those encrypted too. So we will need to convert those to lowercase letters first so that our encryption function can do its job correctly. We can do that by attaching `.lower()` to the end of the string, just like we saw with `.upper()` earlier."
   ]
  },
  {
   "cell_type": "code",
   "execution_count": null,
   "metadata": {
    "collapsed": false,
    "jupyter": {
     "outputs_hidden": false
    }
   },
   "outputs": [],
   "source": [
    "\"R\".lower()"
   ]
  },
  {
   "cell_type": "code",
   "execution_count": null,
   "metadata": {
    "collapsed": false,
    "jupyter": {
     "outputs_hidden": false
    }
   },
   "outputs": [],
   "source": [
    "\"Will THIS be ALL lowercase?\".lower()"
   ]
  },
  {
   "cell_type": "markdown",
   "metadata": {},
   "source": [
    "Let's modify our encryption function to account for these changes. This will be the final, completely correct, and robust version of the function, so we'll rename it one last time. (Note that we will also cleaned up the comments a bit. It was starting to look a little cluttered.)"
   ]
  },
  {
   "cell_type": "code",
   "execution_count": null,
   "metadata": {
    "collapsed": false,
    "jupyter": {
     "outputs_hidden": false
    }
   },
   "outputs": [],
   "source": [
    "def shift_encrypt_letter(plaintext_letter, key):\n",
    "    # Replace uppercase with lowercase\n",
    "    plaintext_letter = plaintext_letter.lower()\n",
    "    # Check if plaintext_letter is a lowercase letter\n",
    "    if ord(plaintext_letter) >= 97 and ord(plaintext_letter) <= 122:\n",
    "        plaintext_number = convert_letter_to_number(plaintext_letter)\n",
    "        ciphertext_number = (plaintext_number + key) % 26\n",
    "        ciphertext_letter = convert_number_to_letter(ciphertext_number)\n",
    "        return ciphertext_letter.upper()\n",
    "    else:\n",
    "        # If we get to this spot, we know we don't have a letter at all,\n",
    "        # so just return the character as is\n",
    "        return plaintext_letter"
   ]
  },
  {
   "cell_type": "markdown",
   "metadata": {},
   "source": [
    "Mess around with the code cell below. Try lots of different characters to make sure the function is behaving as desired:"
   ]
  },
  {
   "cell_type": "code",
   "execution_count": null,
   "metadata": {
    "collapsed": false,
    "jupyter": {
     "outputs_hidden": false
    }
   },
   "outputs": [],
   "source": [
    "shift_encrypt_letter(\"%\", key = 3)"
   ]
  },
  {
   "cell_type": "markdown",
   "metadata": {},
   "source": [
    "With our robust letter-shifting algorithm, we can now produce the definitive version of the final function to complete encrypt a whole message. We'll call it `shift_encrypt`."
   ]
  },
  {
   "cell_type": "code",
   "execution_count": null,
   "metadata": {
    "collapsed": false,
    "jupyter": {
     "outputs_hidden": false
    }
   },
   "outputs": [],
   "source": [
    "def shift_encrypt(plaintext, key):\n",
    "    ciphertext = \"\"\n",
    "    for letter in plaintext:\n",
    "        ciphertext_letter = shift_encrypt_letter(letter, key)\n",
    "        ciphertext = ciphertext + ciphertext_letter\n",
    "    return ciphertext"
   ]
  },
  {
   "cell_type": "code",
   "execution_count": null,
   "metadata": {
    "collapsed": false,
    "jupyter": {
     "outputs_hidden": false
    }
   },
   "outputs": [],
   "source": [
    "shift_encrypt(\"Hello, my name is Bianca!\", key = 3)"
   ]
  },
  {
   "cell_type": "markdown",
   "metadata": {},
   "source": [
    "Neato burrito!"
   ]
  },
  {
   "cell_type": "markdown",
   "metadata": {},
   "source": [
    "## Decryption\n",
    "\n",
    "How would we go about writing a function to decrypt a message? We could go through all the work we did above, figuring out how to make sure all the letters were uppercase, then moving them around and shifting them mod 26. Instead let's be lazy. (I prefer to call it \"efficient\".)\n",
    "\n",
    "Notice that to decrypt a shift cipher, we just have to shift the letters back the other direction. We already have a function that does shifting, and if we think about it a little, there is nothing that prevents the shift from being negative. Look at the following function carefully, line-by-line."
   ]
  },
  {
   "cell_type": "code",
   "execution_count": null,
   "metadata": {
    "collapsed": false,
    "jupyter": {
     "outputs_hidden": false
    }
   },
   "outputs": [],
   "source": [
    "def shift_decrypt(ciphertext, key):\n",
    "    plaintext = shift_encrypt(ciphertext, -key)\n",
    "    return plaintext.lower()"
   ]
  },
  {
   "cell_type": "code",
   "execution_count": null,
   "metadata": {
    "collapsed": false,
    "jupyter": {
     "outputs_hidden": false
    }
   },
   "outputs": [],
   "source": [
    "shift_decrypt(\"KHOOR, PB QDPH LV ELDQFD!\", key = 3)"
   ]
  },
  {
   "cell_type": "markdown",
   "metadata": {},
   "source": [
    "### Exercise 14\n",
    "\n",
    "Explain what each line of code does. In particular, why does this code work to decrypt a shift cipher?"
   ]
  },
  {
   "cell_type": "markdown",
   "metadata": {},
   "source": [
    "*Please write up your answer here.*"
   ]
  },
  {
   "cell_type": "markdown",
   "metadata": {},
   "source": [
    "### Exercise 15\n",
    "\n",
    "Find a larger chunk of text somewhere. Anything will work, but pick something closer to 15-20 words. (Doesn't have to be exactly that many.) Encrypt the text with a key of 20."
   ]
  },
  {
   "cell_type": "code",
   "execution_count": null,
   "metadata": {
    "collapsed": false,
    "jupyter": {
     "outputs_hidden": false
    }
   },
   "outputs": [],
   "source": [
    "# Add code here to encrypt a longer piece of text"
   ]
  },
  {
   "cell_type": "markdown",
   "metadata": {},
   "source": [
    "### Exercise 16\n",
    "\n",
    "Copy the output from above and decrypt it using the same key."
   ]
  },
  {
   "cell_type": "code",
   "execution_count": null,
   "metadata": {
    "collapsed": false,
    "jupyter": {
     "outputs_hidden": false
    }
   },
   "outputs": [],
   "source": [
    "# Add code here to decrypt your longer piece of text from above"
   ]
  },
  {
   "cell_type": "markdown",
   "metadata": {},
   "source": [
    "## Brute force decryption\n",
    "\n",
    "If we are the desired recipient of an encrypted message, the idea is that we know the key used to encrypt it. We can then use the function `shift_decrypt` from above to decipher the message sent to us.\n",
    "\n",
    "However, suppose we intercept an encrypted message. We do not know the key. So how might we go about deciphering the message?\n",
    "\n",
    "In the case of a shift cipher, there are only 25 different possible keys. We can program a computer to do the hard work for us."
   ]
  },
  {
   "cell_type": "markdown",
   "metadata": {},
   "source": [
    "### Exercise 17\n",
    "\n",
    "In the code cell below, we define a function called `brute_shift_decrypt`. Its goal is to try every possible key on the ciphertext and print the resulting plaintext. Remove the hashtag from the missing line and type the code that will make this function work. (Hint: you should use a function we already defined. Don't forget that the result of that missing line must be assigned to the variable `plaintext` or else the last line will give you an error. In other words, make sure that missing line starts with `plaintext = `.)"
   ]
  },
  {
   "cell_type": "code",
   "execution_count": null,
   "metadata": {
    "collapsed": false,
    "jupyter": {
     "outputs_hidden": false
    }
   },
   "outputs": [],
   "source": [
    "def brute_shift_decrypt(ciphertext):\n",
    "    for key in range(1, 26):\n",
    "        # You fill in the missing line here\n",
    "        print(\"Key = \" + str(key) + \": \" + plaintext)"
   ]
  },
  {
   "cell_type": "markdown",
   "metadata": {},
   "source": [
    "The `print` statement looks a little more complicated, but the extra stuff in there is just to print the key value next to each line of output. You'll see the effect when you use the code below."
   ]
  },
  {
   "cell_type": "markdown",
   "metadata": {},
   "source": [
    "### Exercise 18\n",
    "\n",
    "Why did we use `range(1, 26)`? In other words, why do we start with 1 and not with 0? Why do we write 26 as the last number of the `range`? How many actual lines of output will this function produce?"
   ]
  },
  {
   "cell_type": "markdown",
   "metadata": {},
   "source": [
    "*Please write up your answer here.*"
   ]
  },
  {
   "cell_type": "markdown",
   "metadata": {},
   "source": [
    "### Exercise 19\n",
    "\n",
    "Test out your function on the ciphertext \"UFXAAWEXUWQKAGIQDQMNXQFASQFKAGDRGZOFUAZFAIADW\". If you did everything correctly above, the output should be 25 lines, 24 of which will be complete and utter nonsense, and one of which will be the plaintext. In the space below the code cell, write out the plaintext with proper spacing and punctuation. Also indicate what key was used to encrypt the message."
   ]
  },
  {
   "cell_type": "code",
   "execution_count": null,
   "metadata": {
    "collapsed": false,
    "jupyter": {
     "outputs_hidden": false
    }
   },
   "outputs": [],
   "source": [
    "# Add code here to decrypt \"UFXAAWEXUWQKAGIQDQMNXQFASQFKAGDRGZOFUAZFAIADW\""
   ]
  },
  {
   "cell_type": "markdown",
   "metadata": {},
   "source": [
    "*Please write up your answer here.*"
   ]
  },
  {
   "cell_type": "markdown",
   "metadata": {},
   "source": [
    "## Conclusion\n",
    "\n",
    "We've now learned some of the basics of Python programming. Again, you will not be required to write your own functions. The expectation is not that you will be expert programmers. The goal is to show you how, in just a few lines of relatively simple code, it's possible to automate a process that is tedious and time-consuming to do by hand.\n",
    "\n",
    "When you finish this assignment, there's nothing special you have to do. On the due date, CoCalc will make a copy of your completed assignment and send it to me for assessment. You can just close your browser and have the rest of a good day!"
   ]
  }
 ],
 "metadata": {
  "kernelspec": {
   "display_name": "Python 3 (ipykernel)",
   "language": "python",
   "name": "python3"
  },
  "language_info": {
   "codemirror_mode": {
    "name": "ipython",
    "version": 3
   },
   "file_extension": ".py",
   "mimetype": "text/x-python",
   "name": "python",
   "nbconvert_exporter": "python",
   "pygments_lexer": "ipython3",
   "version": "3.11.3"
  }
 },
 "nbformat": 4,
 "nbformat_minor": 4
}
